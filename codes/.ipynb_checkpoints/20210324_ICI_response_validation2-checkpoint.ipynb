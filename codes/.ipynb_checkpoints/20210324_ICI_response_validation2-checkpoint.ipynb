{
 "cells": [
  {
   "cell_type": "markdown",
   "metadata": {},
   "source": [
    "# Import data"
   ]
  },
  {
   "cell_type": "code",
   "execution_count": 1,
   "metadata": {},
   "outputs": [],
   "source": [
    "import numpy as np\n",
    "import pandas as pd\n",
    "import matplotlib.pyplot as plt\n",
    "from scipy import stats\n",
    "import seaborn as sns\n",
    "%matplotlib inline"
   ]
  },
  {
   "cell_type": "code",
   "execution_count": 2,
   "metadata": {},
   "outputs": [],
   "source": [
    "from collections import Counter\n",
    "from sklearn.metrics import roc_curve,roc_auc_score,auc"
   ]
  },
  {
   "cell_type": "code",
   "execution_count": 3,
   "metadata": {},
   "outputs": [],
   "source": [
    "import statsmodels.formula.api as smf\n",
    "import statsmodels.api as sm"
   ]
  },
  {
   "cell_type": "code",
   "execution_count": 4,
   "metadata": {},
   "outputs": [],
   "source": [
    "plt.style.use('seaborn-white')\n",
    "plt.rcParams['figure.figsize']=6,4\n",
    "plt.rcParams['figure.dpi']=300\n",
    "plt.rcParams['axes.linewidth'] =0.5\n",
    "plt.rcParams['lines.linewidth'] =0.5\n",
    "plt.rcParams['font.size']=10\n",
    "plt.rcParams['xtick.labelsize']=8\n",
    "plt.rcParams['ytick.labelsize']=8"
   ]
  },
  {
   "cell_type": "code",
   "execution_count": 5,
   "metadata": {
    "scrolled": true
   },
   "outputs": [
    {
     "data": {
      "text/plain": [
       "(245, 52)"
      ]
     },
     "execution_count": 5,
     "metadata": {},
     "output_type": "execute_result"
    }
   ],
   "source": [
    "mixed_2018=pd.read_csv(\"/Users/takamatsushiro/Desktop/pancancer_TMB_MSI_IRS/Data/Validation/Validate_ICIres/NatGen2018/calculation/mixed_allen_2018_integrated2.tsv\"\n",
    "                       ,sep=\"\\t\",index_col=0)\n",
    "mixed_2018[\"TMB_log10\"]=np.log10( mixed_2018[\"Missense_Mutation\"])\n",
    "mixed_2018[\"Cancertype\"]=mixed_2018[\"TUMOR_TYPE\"]\n",
    "mixed_2018[\"AGE\"]=mixed_2018[\"AGE_START_IO\"]\n",
    "mixed_2018.shape"
   ]
  },
  {
   "cell_type": "code",
   "execution_count": 6,
   "metadata": {
    "code_folding": []
   },
   "outputs": [],
   "source": [
    "cancer3=[]\n",
    "for idx in mixed_2018.index:\n",
    "    if mixed_2018.loc[idx,\"TUMOR_TYPE\"] ==\"Lung\":\n",
    "        cancer3.append(\"2.Lung\")\n",
    "    elif mixed_2018.loc[idx,\"TUMOR_TYPE\"] ==\"Melanoma\":\n",
    "        cancer3.append(\"1.Melanoma\")\n",
    "    else:\n",
    "         cancer3.append(\"0.Others\")\n",
    "mixed_2018[\"Cancertype3\"]=cancer3"
   ]
  },
  {
   "cell_type": "code",
   "execution_count": 7,
   "metadata": {},
   "outputs": [],
   "source": [
    "mel_2019=pd.read_csv(\"/Users/takamatsushiro/Desktop/pancancer_TMB_MSI_IRS/Data/Validation/Validate_ICIres/MelDfci2019/calculation/mel_dfci_2019_integrated2.tsv\"\n",
    "                     ,sep=\"\\t\",index_col=0)\n",
    "mel_2019[\"TMB_log10\"]=np.log10( mel_2019[\"Missense_Mutation\"])\n",
    "mel_2019[\"Cancertype\"]=\"Melanoma\"\n",
    "mel_2019[\"Cancertype3\"]= '1.Melanoma'"
   ]
  },
  {
   "cell_type": "code",
   "execution_count": 8,
   "metadata": {},
   "outputs": [],
   "source": [
    "mel_2019=mel_2019[~mel_2019[\"BIOPSY_SITE_CATEG\"].isin([\"lymph node\",'liver/visceral',\n",
    "         'brain', 'soft tissue','lung', 'bone'])]"
   ]
  },
  {
   "cell_type": "code",
   "execution_count": 9,
   "metadata": {},
   "outputs": [],
   "source": [
    "mel_2016=pd.read_csv(\"/Users/takamatsushiro/Desktop/pancancer_TMB_MSI_IRS/Data/Validation/Validate_ICIres/MelCell2016/calculation/mel_ucla_2016_intergrated2.tsv\"\n",
    "                     ,sep=\"\\t\",index_col=0)\n",
    "mel_2016[\"TMB_log10\"]=np.log10( mel_2016[\"Missense_Mutation\"])\n",
    "mel_2016[\"Cancertype\"]=\"Melanoma\"\n",
    "mel_2016[\"Cancertype3\"]= '1.Melanoma'\n",
    "mel_2016[\"AGE\"]=mel_2016[\"AGE_AT_DIAGNOSIS\"]"
   ]
  },
  {
   "cell_type": "code",
   "execution_count": 10,
   "metadata": {},
   "outputs": [
    {
     "data": {
      "text/html": [
       "<div>\n",
       "<style scoped>\n",
       "    .dataframe tbody tr th:only-of-type {\n",
       "        vertical-align: middle;\n",
       "    }\n",
       "\n",
       "    .dataframe tbody tr th {\n",
       "        vertical-align: top;\n",
       "    }\n",
       "\n",
       "    .dataframe thead th {\n",
       "        text-align: right;\n",
       "    }\n",
       "</style>\n",
       "<table border=\"1\" class=\"dataframe\">\n",
       "  <thead>\n",
       "    <tr style=\"text-align: right;\">\n",
       "      <th></th>\n",
       "      <th>AGE_YRS</th>\n",
       "      <th>SEX</th>\n",
       "      <th>SMOKING_STATUS</th>\n",
       "      <th>HISTOLOGY</th>\n",
       "      <th>PDL1_EXP</th>\n",
       "      <th>PFS_MONTHS</th>\n",
       "      <th>PFS_STATUS</th>\n",
       "      <th>BEST_OVERALL_RESPONSE</th>\n",
       "      <th>DURABLE_CLINICAL_BENEFIT</th>\n",
       "      <th>ECOG_PERFORMANCE_STATUS</th>\n",
       "      <th>...</th>\n",
       "      <th>5'Flank</th>\n",
       "      <th>3'Flank</th>\n",
       "      <th>IGR</th>\n",
       "      <th>Translation_Start_Site</th>\n",
       "      <th>Frame_Shift_Ins</th>\n",
       "      <th>Nonstop_Mutation</th>\n",
       "      <th>TMB_log10</th>\n",
       "      <th>Cancertype</th>\n",
       "      <th>Cancertype3</th>\n",
       "      <th>AGE</th>\n",
       "    </tr>\n",
       "    <tr>\n",
       "      <th>SAMPLE_ID</th>\n",
       "      <th></th>\n",
       "      <th></th>\n",
       "      <th></th>\n",
       "      <th></th>\n",
       "      <th></th>\n",
       "      <th></th>\n",
       "      <th></th>\n",
       "      <th></th>\n",
       "      <th></th>\n",
       "      <th></th>\n",
       "      <th></th>\n",
       "      <th></th>\n",
       "      <th></th>\n",
       "      <th></th>\n",
       "      <th></th>\n",
       "      <th></th>\n",
       "      <th></th>\n",
       "      <th></th>\n",
       "      <th></th>\n",
       "      <th></th>\n",
       "      <th></th>\n",
       "    </tr>\n",
       "  </thead>\n",
       "  <tbody>\n",
       "    <tr>\n",
       "      <th>nsclc_mskcc_2018s1</th>\n",
       "      <td>70</td>\n",
       "      <td>Female</td>\n",
       "      <td>Former</td>\n",
       "      <td>Non-Squamous</td>\n",
       "      <td>2.0</td>\n",
       "      <td>1.4127</td>\n",
       "      <td>1:Event</td>\n",
       "      <td>PD</td>\n",
       "      <td>No Durable Benefit</td>\n",
       "      <td>0</td>\n",
       "      <td>...</td>\n",
       "      <td>21.0</td>\n",
       "      <td>10.0</td>\n",
       "      <td>48.0</td>\n",
       "      <td>NaN</td>\n",
       "      <td>NaN</td>\n",
       "      <td>NaN</td>\n",
       "      <td>1.591065</td>\n",
       "      <td>Lung</td>\n",
       "      <td>2.Lung</td>\n",
       "      <td>70</td>\n",
       "    </tr>\n",
       "    <tr>\n",
       "      <th>nsclc_mskcc_2018s2</th>\n",
       "      <td>72</td>\n",
       "      <td>Male</td>\n",
       "      <td>Former</td>\n",
       "      <td>Squamous</td>\n",
       "      <td>98.0</td>\n",
       "      <td>6.8008</td>\n",
       "      <td>1:Event</td>\n",
       "      <td>PR</td>\n",
       "      <td>Durable Clinical Benefit</td>\n",
       "      <td>0</td>\n",
       "      <td>...</td>\n",
       "      <td>5.0</td>\n",
       "      <td>7.0</td>\n",
       "      <td>21.0</td>\n",
       "      <td>2.0</td>\n",
       "      <td>3.0</td>\n",
       "      <td>NaN</td>\n",
       "      <td>2.247973</td>\n",
       "      <td>Lung</td>\n",
       "      <td>2.Lung</td>\n",
       "      <td>72</td>\n",
       "    </tr>\n",
       "    <tr>\n",
       "      <th>nsclc_mskcc_2018s3</th>\n",
       "      <td>61</td>\n",
       "      <td>Female</td>\n",
       "      <td>Never</td>\n",
       "      <td>Non-Squamous</td>\n",
       "      <td>80.0</td>\n",
       "      <td>1.4784</td>\n",
       "      <td>0:Censor</td>\n",
       "      <td>SD</td>\n",
       "      <td>No Durable Benefit</td>\n",
       "      <td>1</td>\n",
       "      <td>...</td>\n",
       "      <td>12.0</td>\n",
       "      <td>5.0</td>\n",
       "      <td>16.0</td>\n",
       "      <td>1.0</td>\n",
       "      <td>2.0</td>\n",
       "      <td>NaN</td>\n",
       "      <td>0.000000</td>\n",
       "      <td>Lung</td>\n",
       "      <td>2.Lung</td>\n",
       "      <td>61</td>\n",
       "    </tr>\n",
       "    <tr>\n",
       "      <th>nsclc_mskcc_2018s4</th>\n",
       "      <td>64</td>\n",
       "      <td>Male</td>\n",
       "      <td>Current</td>\n",
       "      <td>Squamous</td>\n",
       "      <td>2.0</td>\n",
       "      <td>3.7782</td>\n",
       "      <td>1:Event</td>\n",
       "      <td>SD</td>\n",
       "      <td>No Durable Benefit</td>\n",
       "      <td>1</td>\n",
       "      <td>...</td>\n",
       "      <td>3.0</td>\n",
       "      <td>3.0</td>\n",
       "      <td>7.0</td>\n",
       "      <td>NaN</td>\n",
       "      <td>NaN</td>\n",
       "      <td>NaN</td>\n",
       "      <td>1.973128</td>\n",
       "      <td>Lung</td>\n",
       "      <td>2.Lung</td>\n",
       "      <td>64</td>\n",
       "    </tr>\n",
       "    <tr>\n",
       "      <th>nsclc_mskcc_2018s5</th>\n",
       "      <td>57</td>\n",
       "      <td>Male</td>\n",
       "      <td>Never</td>\n",
       "      <td>Non-Squamous</td>\n",
       "      <td>0.0</td>\n",
       "      <td>7.5565</td>\n",
       "      <td>1:Event</td>\n",
       "      <td>SD</td>\n",
       "      <td>Durable Clinical Benefit</td>\n",
       "      <td>0</td>\n",
       "      <td>...</td>\n",
       "      <td>35.0</td>\n",
       "      <td>31.0</td>\n",
       "      <td>69.0</td>\n",
       "      <td>NaN</td>\n",
       "      <td>1.0</td>\n",
       "      <td>1.0</td>\n",
       "      <td>2.045323</td>\n",
       "      <td>Lung</td>\n",
       "      <td>2.Lung</td>\n",
       "      <td>57</td>\n",
       "    </tr>\n",
       "  </tbody>\n",
       "</table>\n",
       "<p>5 rows × 51 columns</p>\n",
       "</div>"
      ],
      "text/plain": [
       "                    AGE_YRS     SEX SMOKING_STATUS     HISTOLOGY  PDL1_EXP  \\\n",
       "SAMPLE_ID                                                                    \n",
       "nsclc_mskcc_2018s1       70  Female         Former  Non-Squamous       2.0   \n",
       "nsclc_mskcc_2018s2       72    Male         Former      Squamous      98.0   \n",
       "nsclc_mskcc_2018s3       61  Female          Never  Non-Squamous      80.0   \n",
       "nsclc_mskcc_2018s4       64    Male        Current      Squamous       2.0   \n",
       "nsclc_mskcc_2018s5       57    Male          Never  Non-Squamous       0.0   \n",
       "\n",
       "                    PFS_MONTHS PFS_STATUS BEST_OVERALL_RESPONSE  \\\n",
       "SAMPLE_ID                                                         \n",
       "nsclc_mskcc_2018s1      1.4127    1:Event                    PD   \n",
       "nsclc_mskcc_2018s2      6.8008    1:Event                    PR   \n",
       "nsclc_mskcc_2018s3      1.4784   0:Censor                    SD   \n",
       "nsclc_mskcc_2018s4      3.7782    1:Event                    SD   \n",
       "nsclc_mskcc_2018s5      7.5565    1:Event                    SD   \n",
       "\n",
       "                    DURABLE_CLINICAL_BENEFIT  ECOG_PERFORMANCE_STATUS  ...  \\\n",
       "SAMPLE_ID                                                              ...   \n",
       "nsclc_mskcc_2018s1        No Durable Benefit                        0  ...   \n",
       "nsclc_mskcc_2018s2  Durable Clinical Benefit                        0  ...   \n",
       "nsclc_mskcc_2018s3        No Durable Benefit                        1  ...   \n",
       "nsclc_mskcc_2018s4        No Durable Benefit                        1  ...   \n",
       "nsclc_mskcc_2018s5  Durable Clinical Benefit                        0  ...   \n",
       "\n",
       "                    5'Flank  3'Flank   IGR Translation_Start_Site  \\\n",
       "SAMPLE_ID                                                           \n",
       "nsclc_mskcc_2018s1     21.0     10.0  48.0                    NaN   \n",
       "nsclc_mskcc_2018s2      5.0      7.0  21.0                    2.0   \n",
       "nsclc_mskcc_2018s3     12.0      5.0  16.0                    1.0   \n",
       "nsclc_mskcc_2018s4      3.0      3.0   7.0                    NaN   \n",
       "nsclc_mskcc_2018s5     35.0     31.0  69.0                    NaN   \n",
       "\n",
       "                   Frame_Shift_Ins Nonstop_Mutation TMB_log10 Cancertype  \\\n",
       "SAMPLE_ID                                                                  \n",
       "nsclc_mskcc_2018s1             NaN              NaN  1.591065       Lung   \n",
       "nsclc_mskcc_2018s2             3.0              NaN  2.247973       Lung   \n",
       "nsclc_mskcc_2018s3             2.0              NaN  0.000000       Lung   \n",
       "nsclc_mskcc_2018s4             NaN              NaN  1.973128       Lung   \n",
       "nsclc_mskcc_2018s5             1.0              1.0  2.045323       Lung   \n",
       "\n",
       "                   Cancertype3 AGE  \n",
       "SAMPLE_ID                           \n",
       "nsclc_mskcc_2018s1      2.Lung  70  \n",
       "nsclc_mskcc_2018s2      2.Lung  72  \n",
       "nsclc_mskcc_2018s3      2.Lung  61  \n",
       "nsclc_mskcc_2018s4      2.Lung  64  \n",
       "nsclc_mskcc_2018s5      2.Lung  57  \n",
       "\n",
       "[5 rows x 51 columns]"
      ]
     },
     "execution_count": 10,
     "metadata": {},
     "output_type": "execute_result"
    }
   ],
   "source": [
    "nsclc_2018=pd.read_csv(\"/Users/takamatsushiro/Desktop/pancancer_TMB_MSI_IRS/Data/Validation/Validate_ICIres/NsclcCanCell2018/calculation/nsclc_mskcc_2018_integrated2.tsv\"\n",
    "                       ,sep=\"\\t\",index_col=0)\n",
    "nsclc_2018[\"TMB_log10\"]=np.log10( nsclc_2018[\"Missense_Mutation\"])\n",
    "nsclc_2018[\"Cancertype\"]= 'Lung'\n",
    "nsclc_2018[\"Cancertype3\"]= '2.Lung'\n",
    "nsclc_2018[\"AGE\"]=nsclc_2018[\"AGE_YRS\"]\n",
    "nsclc_2018.head()"
   ]
  },
  {
   "cell_type": "code",
   "execution_count": 11,
   "metadata": {},
   "outputs": [],
   "source": [
    "skcm_2015=pd.read_csv(\"/Users/takamatsushiro/Desktop/pancancer_TMB_MSI_IRS/Data/Validation/Validate_ICIres/SksmDfci2015/calculation/skcm_dfci_2015_integrated2.tsv\"\n",
    "                     ,sep=\"\\t\",index_col=0)\n",
    "skcm_2015[\"TMB_log10\"]=np.log10( skcm_2015[\"Missense_Mutation\"])\n",
    "skcm_2015[\"Cancertype\"]= 'Melanoma'\n",
    "skcm_2015[\"Cancertype3\"]= '1.Melanoma'"
   ]
  },
  {
   "cell_type": "code",
   "execution_count": 12,
   "metadata": {
    "scrolled": true
   },
   "outputs": [
    {
     "data": {
      "text/plain": [
       "(33, 45)"
      ]
     },
     "execution_count": 12,
     "metadata": {},
     "output_type": "execute_result"
    }
   ],
   "source": [
    "nsclc_2015=pd.read_csv(\"/Users/takamatsushiro/Desktop/pancancer_TMB_MSI_IRS/Data/Validation/Validate_ICIres/LuadSci2015/calculation/luad_mskcc_2015_integrated2.tsv\"\n",
    "                       ,sep=\"\\t\",index_col=0)\n",
    "nsclc_2015[\"TMB_log10\"]=np.log10( nsclc_2015[\"Missense_Mutation\"])\n",
    "nsclc_2015[\"Cancertype\"]= 'Lung'\n",
    "nsclc_2015[\"Cancertype3\"]= '2.Lung'\n",
    "nsclc_2015.shape"
   ]
  },
  {
   "cell_type": "markdown",
   "metadata": {},
   "source": [
    "# Single study"
   ]
  },
  {
   "cell_type": "markdown",
   "metadata": {},
   "source": [
    "## skcm_2015"
   ]
  },
  {
   "cell_type": "code",
   "execution_count": null,
   "metadata": {},
   "outputs": [],
   "source": [
    "df=skcm_2015.copy()"
   ]
  },
  {
   "cell_type": "code",
   "execution_count": null,
   "metadata": {},
   "outputs": [],
   "source": [
    "fig=plt.figure(figsize=(1,2))\n",
    "ax=fig.add_subplot(111)\n",
    "\n",
    "input_df=df\n",
    "input_df=input_df[input_df[\"Cons\"]!=\"UND\"]\n",
    "plt_df=pd.crosstab(input_df[\"TGS\"],input_df[\"OR\"])\n",
    "plt_df=plt_df.loc[:,[1.0,0.0]]\n",
    "plt_df.plot.bar(stacked=True,ax=ax,color=[\"red\",\"grey\"])\n",
    "\n",
    "ax.set_xlabel('')\n",
    "ax.set_ylabel('')\n",
    "ax.set_xticklabels(plt_df.index, rotation=0, fontsize=8)\n",
    "ax.tick_params(labelsize=6)\n",
    "ax.legend([])\n",
    "ax.spines['right'].set_visible(False)\n",
    "ax.spines['top'].set_visible(False)\n",
    "\n",
    "print(plt_df[1]/ np.sum( plt_df,axis=1)*100)\n",
    "_,p=stats.fisher_exact(plt_df)\n",
    "print(\"p = %.2e\"%p)"
   ]
  },
  {
   "cell_type": "code",
   "execution_count": null,
   "metadata": {},
   "outputs": [],
   "source": [
    "fig=plt.figure(figsize=(1,2))\n",
    "ax=fig.add_subplot(111)\n",
    "\n",
    "input_df=df\n",
    "input_df=input_df[input_df[\"Cons\"]!=\"UND\"]\n",
    "plt_df=pd.crosstab(input_df[\"TGS\"],input_df[\"DC\"])\n",
    "plt_df=plt_df.loc[:,[1.0,0.0]]\n",
    "plt_df.plot.bar(stacked=True,ax=ax,color=[\"red\",\"grey\"])\n",
    "\n",
    "ax.set_xlabel('')\n",
    "ax.set_ylabel('Clinical benefit', fontsize=8)\n",
    "ax.set_xticklabels(plt_df.index, rotation=0, fontsize=6)\n",
    "ax.tick_params(labelsize=6)\n",
    "ax.legend([])\n",
    "ax.spines['right'].set_visible(False)\n",
    "ax.spines['top'].set_visible(False)\n",
    "\n",
    "print(plt_df[1]/ np.sum( plt_df,axis=1)*100)\n",
    "_,p=stats.fisher_exact(plt_df)\n",
    "print(\"p = %.2e\"%p)"
   ]
  },
  {
   "cell_type": "markdown",
   "metadata": {},
   "source": [
    "## mel_2016"
   ]
  },
  {
   "cell_type": "code",
   "execution_count": null,
   "metadata": {},
   "outputs": [],
   "source": [
    "df=mel_2016.copy()"
   ]
  },
  {
   "cell_type": "code",
   "execution_count": null,
   "metadata": {},
   "outputs": [],
   "source": [
    "fig=plt.figure(figsize=(1,2))\n",
    "ax=fig.add_subplot(111)\n",
    "\n",
    "input_df=df\n",
    "input_df=input_df[input_df[\"Cons\"]!=\"UND\"]\n",
    "plt_df=pd.crosstab(input_df[\"TGS\"],input_df[\"OR\"])\n",
    "plt_df=plt_df.loc[:,[1.0,0.0]]\n",
    "plt_df.plot.bar(stacked=True,ax=ax,color=[\"red\",\"grey\"])\n",
    "\n",
    "ax.set_xlabel('')\n",
    "ax.set_ylabel('')\n",
    "ax.set_xticklabels(plt_df.index, rotation=0, fontsize=8)\n",
    "ax.tick_params(labelsize=6)\n",
    "ax.legend([])\n",
    "ax.spines['right'].set_visible(False)\n",
    "ax.spines['top'].set_visible(False)\n",
    "\n",
    "print(plt_df[1]/ np.sum( plt_df,axis=1)*100)\n",
    "_,p=stats.fisher_exact(plt_df)\n",
    "print(\"p = %.2e\"%p)"
   ]
  },
  {
   "cell_type": "markdown",
   "metadata": {},
   "source": [
    "## mel_2019"
   ]
  },
  {
   "cell_type": "code",
   "execution_count": null,
   "metadata": {},
   "outputs": [],
   "source": [
    "df=mel_2019.copy()"
   ]
  },
  {
   "cell_type": "code",
   "execution_count": null,
   "metadata": {},
   "outputs": [],
   "source": [
    "fig=plt.figure(figsize=(1,2))\n",
    "ax=fig.add_subplot(111)\n",
    "\n",
    "input_df=df\n",
    "input_df=input_df[input_df[\"Cons\"]!=\"UND\"]\n",
    "plt_df=pd.crosstab(input_df[\"TGS\"],input_df[\"OR\"])\n",
    "plt_df=plt_df.loc[:,[1.0,0.0]]\n",
    "plt_df.plot.bar(stacked=True,ax=ax,color=[\"red\",\"grey\"])\n",
    "\n",
    "ax.set_xlabel('')\n",
    "ax.set_ylabel('CR PR', fontsize=8)\n",
    "ax.set_xticklabels(plt_df.index, rotation=0, fontsize=6)\n",
    "ax.tick_params(labelsize=6)\n",
    "ax.legend([])\n",
    "ax.spines['right'].set_visible(False)\n",
    "ax.spines['top'].set_visible(False)\n",
    "\n",
    "print(plt_df[1]/ np.sum( plt_df,axis=1)*100)\n",
    "_,p=stats.fisher_exact(plt_df)\n",
    "print(\"p = %.2e\"%p)"
   ]
  },
  {
   "cell_type": "markdown",
   "metadata": {},
   "source": [
    "## nsclc_2018"
   ]
  },
  {
   "cell_type": "code",
   "execution_count": null,
   "metadata": {},
   "outputs": [],
   "source": [
    "df=nsclc_2018.copy()"
   ]
  },
  {
   "cell_type": "code",
   "execution_count": null,
   "metadata": {},
   "outputs": [],
   "source": [
    "fig=plt.figure(figsize=(1,2))\n",
    "ax=fig.add_subplot(111)\n",
    "\n",
    "input_df=df\n",
    "input_df=input_df[input_df[\"Cons\"]!=\"UND\"]\n",
    "plt_df=pd.crosstab(input_df[\"TGS\"],input_df[\"OR\"])\n",
    "plt_df=plt_df.loc[:,[1.0,0.0]]\n",
    "plt_df.plot.bar(stacked=True,ax=ax,color=[\"red\",\"grey\"])\n",
    "\n",
    "ax.set_xlabel('')\n",
    "ax.set_ylabel('CR PR', fontsize=8)\n",
    "ax.set_xticklabels(plt_df.index, rotation=0, fontsize=6)\n",
    "ax.tick_params(labelsize=6)\n",
    "ax.legend([])\n",
    "ax.spines['right'].set_visible(False)\n",
    "ax.spines['top'].set_visible(False)\n",
    "\n",
    "print(plt_df[1]/ np.sum( plt_df,axis=1)*100)\n",
    "_,p=stats.fisher_exact(plt_df)\n",
    "print(\"p = %.2e\"%p)"
   ]
  },
  {
   "cell_type": "markdown",
   "metadata": {},
   "source": [
    "## mixed_2018"
   ]
  },
  {
   "cell_type": "code",
   "execution_count": null,
   "metadata": {},
   "outputs": [],
   "source": [
    "flag=\"OR\"\n",
    "value=\"TMB_log10\"\n",
    "df=mixed_2018.copy()"
   ]
  },
  {
   "cell_type": "code",
   "execution_count": null,
   "metadata": {},
   "outputs": [],
   "source": [
    "fig=plt.figure(figsize=(1,2))\n",
    "ax=fig.add_subplot(111)\n",
    "\n",
    "input_df=df\n",
    "input_df=input_df[input_df[\"Cons\"]!=\"UND\"]\n",
    "plt_df=pd.crosstab(input_df[\"TGS\"],input_df[\"OR\"])\n",
    "plt_df=plt_df.loc[:,[1.0,0.0]]\n",
    "plt_df.plot.bar(stacked=True,ax=ax,color=[\"red\",\"grey\"])\n",
    "\n",
    "ax.set_xlabel('')\n",
    "ax.set_ylabel('CR PR', fontsize=8)\n",
    "ax.set_xticklabels(plt_df.index, rotation=0, fontsize=6)\n",
    "ax.tick_params(labelsize=6)\n",
    "ax.legend([])\n",
    "ax.spines['right'].set_visible(False)\n",
    "ax.spines['top'].set_visible(False)\n",
    "\n",
    "print(plt_df[1]/ np.sum( plt_df,axis=1)*100)\n",
    "_,p=stats.fisher_exact(plt_df)\n",
    "print(\"p = %.2e\"%p)"
   ]
  },
  {
   "cell_type": "code",
   "execution_count": null,
   "metadata": {},
   "outputs": [],
   "source": [
    "# plot with Threshold\n",
    "plt_df=df.loc[:,[flag,value]].dropna()\n",
    "y_true=plt_df[flag]\n",
    "y_score=plt_df[value]\n",
    "fpr, tpr, thresholds = roc_curve(y_true, y_score)\n",
    "auc=roc_auc_score(y_true,y_score)\n",
    "\n",
    "# Youdan index\n",
    "yd_idx = np.argmax( abs(tpr -fpr) )\n",
    "yd_threshold = thresholds[yd_idx]\n",
    "print(\"Youden: TPR={},　FPR={},　Threshold={}\".format(tpr[yd_idx],fpr[yd_idx],yd_threshold))\n",
    "\n",
    "# Optimal index\n",
    "op_idx = np.argmin( (1-tpr)**2 + fpr**2)\n",
    "op_threshold = thresholds[op_idx]\n",
    "print(\"Optimal: TPR={},　FPR={},　Threshold={}\".format(tpr[op_idx],fpr[op_idx],thresholds[op_idx]))\n",
    "\n",
    "fig=plt.figure(figsize=(1.5,1.5))\n",
    "ax=fig.add_subplot(111)\n",
    "ax.set_xlabel('FPR',fontsize=8)\n",
    "ax.set_ylabel('TPR',fontsize=8)\n",
    "ax.tick_params(labelsize=6)\n",
    "\n",
    "ax.plot(fpr, tpr, marker='',lw=1,color=\"red\")\n",
    "ax.plot( np.linspace(0,1), np.linspace(0,1), c=\"k\",ls=\"dotted\",lw=1)\n",
    "\n",
    "arrow_dict = dict(color = \"black\",arrowstyle='-')#,width=0 ,head_width=1,,shrink=0.1,) \n",
    "ax.annotate(\"optimal = {:.2f}\".format(thresholds[op_idx]),xy=(fpr[op_idx],tpr[op_idx]),\n",
    "             size=8,xytext=(fpr[op_idx]-0.35,tpr[op_idx]+0.2), arrowprops = arrow_dict )"
   ]
  },
  {
   "cell_type": "code",
   "execution_count": null,
   "metadata": {},
   "outputs": [],
   "source": [
    "df[\"TMB_high\"]=( df[\"TMB_log10\"]>=thresholds[op_idx] ).astype(float)"
   ]
  },
  {
   "cell_type": "code",
   "execution_count": null,
   "metadata": {},
   "outputs": [],
   "source": [
    "fig=plt.figure(figsize=(1.5,2.5))\n",
    "ax=fig.add_subplot(111)\n",
    "sns.swarmplot(x=\"TGS\",y=value,data=df,\n",
    "              s=2,ax=ax,hue=flag,hue_order=[0,1],\n",
    "              palette=[\"grey\",\"r\"],\n",
    "             order=[\"high\",\"low\"])\n",
    "ax.set_ylabel('TMB log10')\n",
    "ax.set_xlabel('TGS')\n",
    "ax.axhline(y=thresholds[op_idx],c=\"k\",lw=1,ls=\"dashed\")\n",
    "ax.axvline(x=0.5,c=\"k\",lw=1,ls=\"dashed\")\n",
    "ax.tick_params(labelsize=8)\n",
    "ax.legend([])#bbox_to_anchor=(1, 1),fontsize=8,title=\"Objective response\")"
   ]
  },
  {
   "cell_type": "code",
   "execution_count": null,
   "metadata": {},
   "outputs": [],
   "source": [
    "class4=[]\n",
    "for idx in df.index:\n",
    "    if df.loc[idx,\"TMB_high\"]==1:\n",
    "        if df.loc[idx,\"TGS\"]==\"high\":\n",
    "            class4.append(\"TMB high\\nGS high\")\n",
    "        elif df.loc[idx,\"TGS\"]==\"low\":\n",
    "            class4.append(\"TMB high\\nGS low\")\n",
    "        elif df.loc[idx,\"TGS\"]==\"und\":\n",
    "            class4.append(\"und\")\n",
    "    elif df.loc[idx,\"TMB_high\"]==0:\n",
    "        if df.loc[idx,\"TGS\"]==\"high\":\n",
    "            class4.append(\"TMB low\\nGS high\")\n",
    "        elif df.loc[idx,\"TGS\"]==\"low\":\n",
    "            class4.append(\"TMB low\\nGS low\")\n",
    "        elif df.loc[idx,\"TGS\"]==\"und\":\n",
    "            class4.append(\"und\")\n",
    "    \n",
    "df[\"class4\"]=class4"
   ]
  },
  {
   "cell_type": "code",
   "execution_count": null,
   "metadata": {},
   "outputs": [],
   "source": [
    "fig=plt.figure(figsize=(1.5,2))\n",
    "ax=fig.add_subplot(111)\n",
    "\n",
    "input_df=df\n",
    "input_df=input_df[input_df[\"Cons\"]!=\"UND\"]\n",
    "plt_df=pd.crosstab(input_df[\"class4\"],input_df[\"OR\"])\n",
    "plt_df=plt_df.loc[:,[1.0,0.0]]\n",
    "plt_df.plot.bar(stacked=True,ax=ax,color=[\"red\",\"grey\"])\n",
    "\n",
    "ax.set_xlabel('')\n",
    "ax.set_ylabel('')\n",
    "ax.set_xticklabels(plt_df.index, rotation=0, fontsize=8)\n",
    "ax.tick_params(labelsize=6)\n",
    "ax.legend([])\n",
    "ax.spines['right'].set_visible(False)\n",
    "ax.spines['top'].set_visible(False)"
   ]
  },
  {
   "cell_type": "code",
   "execution_count": null,
   "metadata": {
    "scrolled": true
   },
   "outputs": [],
   "source": [
    "plt_df.loc[:,1]/np.sum(plt_df,axis=1)*100"
   ]
  },
  {
   "cell_type": "code",
   "execution_count": null,
   "metadata": {},
   "outputs": [],
   "source": [
    "plt_df"
   ]
  },
  {
   "cell_type": "code",
   "execution_count": null,
   "metadata": {},
   "outputs": [],
   "source": [
    "ct=plt_df.loc[\"TMB low\\nGS high\":,:]\n",
    "stats.fisher_exact(ct)"
   ]
  },
  {
   "cell_type": "code",
   "execution_count": null,
   "metadata": {},
   "outputs": [],
   "source": [
    "fig=plt.figure(figsize=(4.5,3))\n",
    "\n",
    "gss=[\"SMK\",\"\",\"APB\",\"MRD\",\"HRD\",\"GNS\",\"AGE\",\"UND\"]\n",
    "\n",
    "ax=fig.add_subplot(111)\n",
    "sns.swarmplot(x=\"Cons\",y=value,data=df,s=3,ax=ax,hue=flag,hue_order=[0,1],\n",
    "              order=gss,palette=[\"grey\",\"red\"])\n",
    "\n",
    "gss=[\"\",\"UVL\",\"\",\"\",\"\",\"\",\"\",\"\"]\n",
    "sns.swarmplot(x=\"Cons\",y=value,data=df,s=2,ax=ax,hue=flag,hue_order=[0,1],\n",
    "              order=gss,palette=[\"grey\",\"red\"])\n",
    "#             order=[\"low\",\"high\"])\n",
    "ax.set_xticklabels([\"SMK\",\"UVL\",\"APB\",\"MRD\",\"HRD\",\"GNS\",\"AGE\",\"UND\"],fontsize=6 )\n",
    "ax.set_ylabel('TMB log10')\n",
    "ax.set_xlabel('TGS')\n",
    "ax.axhline(y=thresholds[op_idx],c=\"k\",lw=1,ls=\"dashed\")\n",
    "ax.axvline(x=3.5,c=\"k\",lw=1,ls=\"dashed\")\n",
    "ax.axvline(x=6.5,c=\"k\",lw=1,ls=\"dashed\")\n",
    "ax.tick_params(labelsize=8)\n",
    "ax.legend([])#bbox_to_anchor=(1, 1),fontsize=8,title=\"Objective response\")"
   ]
  },
  {
   "cell_type": "markdown",
   "metadata": {},
   "source": [
    "### GLM model (binomial : logistic regression)"
   ]
  },
  {
   "cell_type": "code",
   "execution_count": null,
   "metadata": {},
   "outputs": [],
   "source": [
    "input_df=df[ df[\"Cons\"]!=\"und\"]\n",
    "formula = \"OR ~ TMB_log10 + TGS_high + Cancertype3\"# + SEX + AGE\"\n",
    "family = sm.families.Binomial()"
   ]
  },
  {
   "cell_type": "code",
   "execution_count": null,
   "metadata": {},
   "outputs": [],
   "source": [
    "input_df=df[ df[\"Cons\"]!=\"und\"]\n",
    "formula = \"OR ~ TMB_high+ TGS_high + Cancertype3\"# + SEX + AGE\"\n",
    "family = sm.families.Binomial()"
   ]
  },
  {
   "cell_type": "code",
   "execution_count": null,
   "metadata": {},
   "outputs": [],
   "source": [
    "model = smf.glm(formula=formula, data=input_df, family=family)"
   ]
  },
  {
   "cell_type": "code",
   "execution_count": null,
   "metadata": {
    "scrolled": true
   },
   "outputs": [],
   "source": [
    "res = model.fit()\n",
    "res.summary()"
   ]
  },
  {
   "cell_type": "code",
   "execution_count": null,
   "metadata": {},
   "outputs": [],
   "source": [
    "res_df=pd.concat( [ np.exp(res.params), np.exp(res.conf_int(alpha=0.05)),res.pvalues],axis=1)\n",
    "res_df.columns=[\"Odds ratio\",\"CI 5%\",\"CI 95%\", \"p-value\"]\n",
    "res_df"
   ]
  },
  {
   "cell_type": "markdown",
   "metadata": {},
   "source": [
    "### Cox proportional"
   ]
  },
  {
   "cell_type": "code",
   "execution_count": null,
   "metadata": {},
   "outputs": [],
   "source": [
    "from lifelines import CoxPHFitter"
   ]
  },
  {
   "cell_type": "code",
   "execution_count": null,
   "metadata": {},
   "outputs": [],
   "source": [
    "df[\"Death\"]=[int(x.split(\":\")[0]) for x in df[\"OS_STATUS\"]]\n",
    "df[\"Prog\"]=[int(x.split(\":\")[0]) if x is not np.nan else np.nan for x in df[\"PFS_STATUS\"]]"
   ]
  },
  {
   "cell_type": "markdown",
   "metadata": {},
   "source": [
    "#### OS"
   ]
  },
  {
   "cell_type": "code",
   "execution_count": null,
   "metadata": {},
   "outputs": [],
   "source": [
    "covs=[\"SEX\",\"TMB_log10\",\"TGS_high\",\"Cancertype3\"]\n",
    "duration=\"OS_MONTHS\"\n",
    "event= \"Death\""
   ]
  },
  {
   "cell_type": "code",
   "execution_count": null,
   "metadata": {},
   "outputs": [],
   "source": [
    "cph=CoxPHFitter()"
   ]
  },
  {
   "cell_type": "code",
   "execution_count": null,
   "metadata": {},
   "outputs": [],
   "source": [
    "univariate_analysis=pd.DataFrame()\n",
    "input_df=df.copy()\n",
    "input_df=input_df.dropna(subset=[duration,event])\n",
    "for i,cov in enumerate(covs):\n",
    "    tmp_df=input_df.copy()\n",
    "    tmp_df=tmp_df[[duration,event,cov]].dropna()\n",
    "    tmp_df=pd.get_dummies( tmp_df,drop_first=True)\n",
    "    res=cph.fit( tmp_df,duration_col=duration, event_col=event)\n",
    "    add=res.summary\n",
    "    univariate_analysis=pd.concat( [univariate_analysis,add], axis=0)"
   ]
  },
  {
   "cell_type": "code",
   "execution_count": null,
   "metadata": {},
   "outputs": [],
   "source": [
    "univariate_analysis_simple=univariate_analysis[[\"exp(coef)\",\"exp(coef) lower 95%\",\"exp(coef) upper 95%\",\"p\"]]\n",
    "univariate_analysis_simple.columns=[\"Hazard ratio\",\"5%\",\"95%\",\"p value\"]\n",
    "univariate_analysis_simple"
   ]
  },
  {
   "cell_type": "code",
   "execution_count": null,
   "metadata": {},
   "outputs": [],
   "source": [
    "# multivariate analysis\n",
    "covs=[\"SEX\",\"TMB_log10\",\"TGS_high\",\"Cancertype3\"]\n",
    "input_df=df.copy()\n",
    "input_df=input_df.dropna(subset=[duration,event])\n",
    "\n",
    "cph=CoxPHFitter()\n",
    "tmp_df=input_df.copy()\n",
    "tmp_df=tmp_df[[duration,event]+covs].dropna()\n",
    "tmp_df=pd.get_dummies( tmp_df,drop_first=True)\n",
    "res=cph.fit( tmp_df,duration_col=duration, event_col=event)\n",
    "multivariate_analysis=res.summary"
   ]
  },
  {
   "cell_type": "code",
   "execution_count": null,
   "metadata": {},
   "outputs": [],
   "source": [
    "multivariate_analysis_simple=multivariate_analysis[[\"exp(coef)\",\"exp(coef) lower 95%\",\"exp(coef) upper 95%\",\"p\"]]\n",
    "multivariate_analysis_simple.columns=[\"Hazard ratio\",\"5%\",\"95%\",\"p value\"]\n",
    "multivariate_analysis_simple"
   ]
  },
  {
   "cell_type": "code",
   "execution_count": null,
   "metadata": {},
   "outputs": [],
   "source": [
    "# multivariate analysis\n",
    "covs=[\"TMB_log10\",\"TGS_high\"]\n",
    "input_df=df.copy()\n",
    "input_df=input_df.dropna(subset=[duration,event])\n",
    "\n",
    "cph=CoxPHFitter()\n",
    "tmp_df=input_df.copy()\n",
    "tmp_df=tmp_df[[duration,event]+covs].dropna()\n",
    "tmp_df=pd.get_dummies( tmp_df,drop_first=True)\n",
    "res=cph.fit( tmp_df,duration_col=duration, event_col=event)\n",
    "multivariate_analysis=res.summary"
   ]
  },
  {
   "cell_type": "code",
   "execution_count": null,
   "metadata": {},
   "outputs": [],
   "source": [
    "multivariate_analysis_simple=multivariate_analysis[[\"exp(coef)\",\"exp(coef) lower 95%\",\"exp(coef) upper 95%\",\"p\"]]\n",
    "multivariate_analysis_simple.columns=[\"Hazard ratio\",\"5%\",\"95%\",\"p value\"]\n",
    "multivariate_analysis_simple"
   ]
  },
  {
   "cell_type": "markdown",
   "metadata": {},
   "source": [
    "# All combined"
   ]
  },
  {
   "cell_type": "code",
   "execution_count": 167,
   "metadata": {},
   "outputs": [],
   "source": [
    "a=mixed_2018[[\"SEX\",\"AGE\",\"OR\",\"Cancertype\",\"Cancertype3\",\"Cons\",\"TGS\",\"TGS_high\",\"TMB_log10\", \"TMB\"]]\n",
    "b=nsclc_2018[[\"SEX\", \"AGE\",\"OR\",\"Cancertype\",\"Cancertype3\",\"Cons\",\"TGS\",\"TGS_high\",\"TMB_log10\", \"TMB\"]]\n",
    "c=mel_2019[[\"SEX\",\"Cancertype\",\"OR\",\"Cancertype3\",\"Cons\",\"TGS\",\"TGS_high\",\"TMB_log10\", \"TMB\"]]\n",
    "d=mel_2016[[ 'SEX', 'AGE',\"Cancertype\",\"Cancertype3\",\"OR\",\"Cons\",\"TGS\",\"TGS_high\",\"TMB_log10\", \"TMB\"]]\n",
    "e=skcm_2015[[\"SEX\",\"AGE\",\"OR\",\"Cancertype\",\"Cancertype3\",\"Cons\",\"TGS\",\"TGS_high\",\"TMB_log10\", \"TMB\"]]\n",
    "f=nsclc_2015[['SEX', 'AGE',\"Cancertype\",\"Cancertype3\",\"OR\",\"Cons\",\"TGS\",\"TGS_high\",\"TMB_log10\", \"TMB\"]]\n",
    "\n",
    "total=pd.concat([a,b,c,d],sort=False)"
   ]
  },
  {
   "cell_type": "markdown",
   "metadata": {},
   "source": [
    "e_selected=e[ ~e.index.isin( a.index)]\n",
    "e_selected"
   ]
  },
  {
   "cell_type": "markdown",
   "metadata": {},
   "source": [
    "f_selected=f[ ~f.index.isin( a.index)]\n",
    "f_selected"
   ]
  },
  {
   "cell_type": "markdown",
   "metadata": {},
   "source": [
    "total=pd.concat([a,b,c,d,e_selected,f_selected])"
   ]
  },
  {
   "cell_type": "markdown",
   "metadata": {},
   "source": [
    "a_selected=a.loc[set(a.index) - set(e.index) - set(f.index),:]\n",
    "a_selected.shape"
   ]
  },
  {
   "cell_type": "markdown",
   "metadata": {},
   "source": [
    "total=pd.concat([a_selected,b,c,d,e,f])"
   ]
  },
  {
   "cell_type": "code",
   "execution_count": 168,
   "metadata": {},
   "outputs": [
    {
     "data": {
      "text/plain": [
       "(445, 10)"
      ]
     },
     "execution_count": 168,
     "metadata": {},
     "output_type": "execute_result"
    }
   ],
   "source": [
    "total.shape"
   ]
  },
  {
   "cell_type": "code",
   "execution_count": 169,
   "metadata": {},
   "outputs": [
    {
     "data": {
      "text/plain": [
       "12"
      ]
     },
     "execution_count": 169,
     "metadata": {},
     "output_type": "execute_result"
    }
   ],
   "source": [
    "sum(total[\"Cons\"]==\"UND\")"
   ]
  },
  {
   "cell_type": "code",
   "execution_count": 170,
   "metadata": {},
   "outputs": [
    {
     "name": "stdout",
     "output_type": "stream",
     "text": [
      "2.324736980616602\n",
      "1.9971410817977504\n",
      "2.301334783538304\n",
      "2.625114321182175\n",
      "2.3004859108019944\n"
     ]
    }
   ],
   "source": [
    "print( np.mean( a[\"TMB_log10\"]) )\n",
    "print( np.mean( b[\"TMB_log10\"]) )\n",
    "print( np.mean( c[\"TMB_log10\"]) )\n",
    "print( np.mean( d[\"TMB_log10\"]) )\n",
    "print( np.mean( e[\"TMB_log10\"]) )"
   ]
  },
  {
   "cell_type": "code",
   "execution_count": 171,
   "metadata": {
    "scrolled": true
   },
   "outputs": [
    {
     "data": {
      "text/html": [
       "<div>\n",
       "<style scoped>\n",
       "    .dataframe tbody tr th:only-of-type {\n",
       "        vertical-align: middle;\n",
       "    }\n",
       "\n",
       "    .dataframe tbody tr th {\n",
       "        vertical-align: top;\n",
       "    }\n",
       "\n",
       "    .dataframe thead th {\n",
       "        text-align: right;\n",
       "    }\n",
       "</style>\n",
       "<table border=\"1\" class=\"dataframe\">\n",
       "  <thead>\n",
       "    <tr style=\"text-align: right;\">\n",
       "      <th>Cons</th>\n",
       "      <th>SMK</th>\n",
       "      <th>UVL</th>\n",
       "      <th>APB</th>\n",
       "      <th>MRD</th>\n",
       "      <th>HRD</th>\n",
       "      <th>GNS</th>\n",
       "      <th>AGE</th>\n",
       "      <th>UND</th>\n",
       "    </tr>\n",
       "    <tr>\n",
       "      <th>Cancertype</th>\n",
       "      <th></th>\n",
       "      <th></th>\n",
       "      <th></th>\n",
       "      <th></th>\n",
       "      <th></th>\n",
       "      <th></th>\n",
       "      <th></th>\n",
       "      <th></th>\n",
       "    </tr>\n",
       "  </thead>\n",
       "  <tbody>\n",
       "    <tr>\n",
       "      <th>Melanoma</th>\n",
       "      <td>1</td>\n",
       "      <td>209</td>\n",
       "      <td>0</td>\n",
       "      <td>1</td>\n",
       "      <td>19</td>\n",
       "      <td>5</td>\n",
       "      <td>37</td>\n",
       "      <td>7</td>\n",
       "    </tr>\n",
       "    <tr>\n",
       "      <th>Lung</th>\n",
       "      <td>67</td>\n",
       "      <td>1</td>\n",
       "      <td>15</td>\n",
       "      <td>2</td>\n",
       "      <td>12</td>\n",
       "      <td>8</td>\n",
       "      <td>17</td>\n",
       "      <td>3</td>\n",
       "    </tr>\n",
       "    <tr>\n",
       "      <th>Bladder</th>\n",
       "      <td>0</td>\n",
       "      <td>0</td>\n",
       "      <td>22</td>\n",
       "      <td>0</td>\n",
       "      <td>3</td>\n",
       "      <td>0</td>\n",
       "      <td>0</td>\n",
       "      <td>2</td>\n",
       "    </tr>\n",
       "    <tr>\n",
       "      <th>HNSCC</th>\n",
       "      <td>1</td>\n",
       "      <td>0</td>\n",
       "      <td>3</td>\n",
       "      <td>0</td>\n",
       "      <td>2</td>\n",
       "      <td>0</td>\n",
       "      <td>6</td>\n",
       "      <td>0</td>\n",
       "    </tr>\n",
       "    <tr>\n",
       "      <th>Anal</th>\n",
       "      <td>0</td>\n",
       "      <td>0</td>\n",
       "      <td>1</td>\n",
       "      <td>0</td>\n",
       "      <td>0</td>\n",
       "      <td>0</td>\n",
       "      <td>0</td>\n",
       "      <td>0</td>\n",
       "    </tr>\n",
       "    <tr>\n",
       "      <th>Sarcoma</th>\n",
       "      <td>0</td>\n",
       "      <td>0</td>\n",
       "      <td>0</td>\n",
       "      <td>0</td>\n",
       "      <td>1</td>\n",
       "      <td>0</td>\n",
       "      <td>0</td>\n",
       "      <td>0</td>\n",
       "    </tr>\n",
       "  </tbody>\n",
       "</table>\n",
       "</div>"
      ],
      "text/plain": [
       "Cons        SMK  UVL  APB  MRD  HRD  GNS  AGE  UND\n",
       "Cancertype                                        \n",
       "Melanoma      1  209    0    1   19    5   37    7\n",
       "Lung         67    1   15    2   12    8   17    3\n",
       "Bladder       0    0   22    0    3    0    0    2\n",
       "HNSCC         1    0    3    0    2    0    6    0\n",
       "Anal          0    0    1    0    0    0    0    0\n",
       "Sarcoma       0    0    0    0    1    0    0    0"
      ]
     },
     "execution_count": 171,
     "metadata": {},
     "output_type": "execute_result"
    }
   ],
   "source": [
    "cluster_orders=['SMK', 'UVL','APB', 'MRD',  'HRD',  'GNS','AGE', 'UND']\n",
    "cancer_order=[\"Melanoma\",\"Lung\",\"Bladder\",\"HNSCC\",\"Anal\",\"Sarcoma\"]\n",
    "tmp=pd.crosstab(total[\"Cancertype\"],total[\"Cons\"])\n",
    "tmp=tmp.loc[cancer_order, cluster_orders]\n",
    "tmp"
   ]
  },
  {
   "cell_type": "code",
   "execution_count": 172,
   "metadata": {},
   "outputs": [
    {
     "name": "stdout",
     "output_type": "stream",
     "text": [
      "OR        0.0  1.0\n",
      "TGS_high          \n",
      "0.0        93   17\n",
      "1.0       194  129\n",
      "p = 1.34e-06\n"
     ]
    }
   ],
   "source": [
    "ct=pd.crosstab(total[\"TGS_high\"],total[\"OR\"])\n",
    "print(ct)\n",
    "_,p=stats.fisher_exact(ct)\n",
    "print(\"p = %.2e\"%p)"
   ]
  },
  {
   "cell_type": "markdown",
   "metadata": {},
   "source": [
    "## ORR comparison"
   ]
  },
  {
   "cell_type": "code",
   "execution_count": 173,
   "metadata": {},
   "outputs": [],
   "source": [
    "flag=\"OR\"\n",
    "value=\"TMB_log10\"\n",
    "df=total.copy()"
   ]
  },
  {
   "cell_type": "code",
   "execution_count": 174,
   "metadata": {},
   "outputs": [
    {
     "name": "stdout",
     "output_type": "stream",
     "text": [
      "p= 1.34e-06\n"
     ]
    },
    {
     "data": {
      "image/png": "[encoded data removed]",
      "text/plain": [
       "<Figure size 450x600 with 1 Axes>"
      ]
     },
     "metadata": {},
     "output_type": "display_data"
    }
   ],
   "source": [
    "fig=plt.figure(figsize=(1.5,2))\n",
    "ax=fig.add_subplot(111)\n",
    "\n",
    "input_df=df.copy()\n",
    "input_df=input_df[input_df[\"Cons\"]!=\"UND\"]\n",
    "plt_df=pd.crosstab(input_df[\"TGS\"],input_df[\"OR\"])\n",
    "plt_df=plt_df.loc[:,[1.0,0.0]]\n",
    "plt_df.plot.bar(stacked=True,ax=ax,color=[\"red\",\"grey\"])\n",
    "\n",
    "ax.set_xlabel('')\n",
    "ax.set_ylabel('')\n",
    "ax.set_xticklabels([\"GS high\",\"GS low\"], rotation=0, fontsize=8)\n",
    "ax.tick_params(labelsize=8)\n",
    "ax.legend([])\n",
    "ax.spines['right'].set_visible(False)\n",
    "ax.spines['top'].set_visible(False)\n",
    "\n",
    "plt_df2=plt_df[1]/ np.sum( plt_df,axis=1)*100\n",
    "text1=\"{:.3g}\".format(plt_df2[0] )\n",
    "text2=\"{:.3g}\".format(plt_df2[1] )\n",
    "ax.annotate(text=text1,xy=(0.25,1),xycoords='axes fraction',\n",
    "            ha=\"center\", va=\"center\",fontsize=10)\n",
    "ax.annotate(text=text2,xy=(0.75,0.5),xycoords='axes fraction',\n",
    "            ha=\"center\", va=\"center\",fontsize=10)\n",
    "_,p=stats.fisher_exact(plt_df)\n",
    "print(\"p= %.2e\"%p)"
   ]
  },
  {
   "cell_type": "code",
   "execution_count": 175,
   "metadata": {},
   "outputs": [
    {
     "name": "stdout",
     "output_type": "stream",
     "text": [
      "Youden: TPR=0.7549668874172185,　FPR=0.46938775510204084,　Threshold=2.2355284469075487\n",
      "Optimal: TPR=0.695364238410596,　FPR=0.41156462585034015,　Threshold=2.315970345456918\n"
     ]
    },
    {
     "data": {
      "text/plain": [
       "Text(0.06156462585034017, 0.945364238410596, 'optimal = 2.32')"
      ]
     },
     "execution_count": 175,
     "metadata": {},
     "output_type": "execute_result"
    },
    {
     "data": {
      "image/png": "[encoded data removed]",
      "text/plain": [
       "<Figure size 450x450 with 1 Axes>"
      ]
     },
     "metadata": {},
     "output_type": "display_data"
    }
   ],
   "source": [
    "# plot with Threshold\n",
    "plt_df=df.loc[:,[flag,value]].dropna()\n",
    "y_true=plt_df[flag]\n",
    "y_score=plt_df[value]\n",
    "fpr, tpr, thresholds = roc_curve(y_true, y_score)\n",
    "auc=roc_auc_score(y_true,y_score)\n",
    "\n",
    "# Youdan index\n",
    "yd_idx = np.argmax( abs(tpr -fpr) )\n",
    "yd_threshold = thresholds[yd_idx]\n",
    "print(\"Youden: TPR={},　FPR={},　Threshold={}\".format(tpr[yd_idx],fpr[yd_idx],yd_threshold))\n",
    "\n",
    "# Optimal index\n",
    "op_idx = np.argmin( (1-tpr)**2 + fpr**2)\n",
    "op_threshold = thresholds[op_idx]\n",
    "print(\"Optimal: TPR={},　FPR={},　Threshold={}\".format(tpr[op_idx],fpr[op_idx],thresholds[op_idx]))\n",
    "\n",
    "fig=plt.figure(figsize=(1.5,1.5))\n",
    "ax=fig.add_subplot(111)\n",
    "ax.set_xlabel('False positive ratio',fontsize=6)\n",
    "ax.set_ylabel('True positive ratio',fontsize=6)\n",
    "ax.tick_params(labelsize=6)\n",
    "\n",
    "ax.plot(fpr, tpr, marker='',lw=1,color=\"red\")\n",
    "ax.plot( np.linspace(0,1), np.linspace(0,1), c=\"k\",ls=\"dotted\",lw=1)\n",
    "\n",
    "arrow_dict = dict(color = \"black\",arrowstyle='-')#,width=0 ,head_width=1,,shrink=0.1,) \n",
    "ax.annotate(\"optimal = {:.2f}\".format(thresholds[op_idx]),xy=(fpr[op_idx],tpr[op_idx]),\n",
    "             size=8,xytext=(fpr[op_idx]-0.35,tpr[op_idx]+0.25), arrowprops = arrow_dict )"
   ]
  },
  {
   "cell_type": "code",
   "execution_count": 176,
   "metadata": {},
   "outputs": [
    {
     "name": "stdout",
     "output_type": "stream",
     "text": [
      "cutoff 2.385606273598312\n"
     ]
    }
   ],
   "source": [
    "cutoff=thresholds[op_idx]\n",
    "cutoff=np.log10(243)\n",
    "df[\"TMB_high\"]=( df[\"TMB_log10\"]>cutoff ).astype(float)\n",
    "print(\"cutoff\",cutoff)"
   ]
  },
  {
   "cell_type": "code",
   "execution_count": 178,
   "metadata": {},
   "outputs": [
    {
     "data": {
      "text/plain": [
       "<matplotlib.legend.Legend at 0x13684a350>"
      ]
     },
     "execution_count": 178,
     "metadata": {},
     "output_type": "execute_result"
    },
    {
     "data": {
      "image/png": "[encoded data removed]",
      "text/plain": [
       "<Figure size 750x1050 with 1 Axes>"
      ]
     },
     "metadata": {},
     "output_type": "display_data"
    }
   ],
   "source": [
    "fig=plt.figure(figsize=(2.5,3.5))\n",
    "ax=fig.add_subplot(111)\n",
    "sns.swarmplot(x=\"TGS\",y=value,data=df,\n",
    "              s=2,ax=ax,hue=flag,hue_order=[0,1],\n",
    "              palette=[\"dimgrey\",\"r\"],\n",
    "             order=[\"high\",\"low\"])\n",
    "ax.set_ylabel('TMB log10',fontsize=8)\n",
    "ax.set_xlabel(\"\")\n",
    "ax.axhline(y=cutoff,c=\"k\",lw=1,ls=\"dashed\")\n",
    "ax.axvline(x=0.5,c=\"k\",lw=1,ls=\"dashed\")\n",
    "ax.tick_params(labelsize=6)\n",
    "ax.set_xticklabels([\"GS high\",\"GS low\"], rotation=0, fontsize=8)\n",
    "ax.legend([])#bbox_to_anchor=(1, 1),fontsize=8,title=\"Objective response\")"
   ]
  },
  {
   "cell_type": "code",
   "execution_count": 158,
   "metadata": {},
   "outputs": [],
   "source": [
    "class4=[]\n",
    "for idx in df.index:\n",
    "    if df.loc[idx,\"TMB_high\"]==1:\n",
    "        if df.loc[idx,\"TGS\"]==\"high\":\n",
    "            class4.append(\"TMB high\\nGS high\")\n",
    "        elif df.loc[idx,\"TGS\"]==\"low\":\n",
    "            class4.append(\"TMB high\\nGS low\")\n",
    "        elif df.loc[idx,\"TGS\"]==\"und\":\n",
    "            class4.append(\"und\")\n",
    "    elif df.loc[idx,\"TMB_high\"]==0:\n",
    "        if df.loc[idx,\"TGS\"]==\"high\":\n",
    "            class4.append(\"TMB low\\nGS high\")\n",
    "        elif df.loc[idx,\"TGS\"]==\"low\":\n",
    "            class4.append(\"TMB low\\nGS low\")\n",
    "        elif df.loc[idx,\"TGS\"]==\"und\":\n",
    "            class4.append(\"und\")   \n",
    "df[\"class4\"]=class4"
   ]
  },
  {
   "cell_type": "code",
   "execution_count": 165,
   "metadata": {
    "scrolled": true
   },
   "outputs": [
    {
     "name": "stdout",
     "output_type": "stream",
     "text": [
      "46.316\n",
      "50.0\n",
      "30.827\n",
      "14.815\n"
     ]
    },
    {
     "data": {
      "image/png": "[encoded data removed]",
      "text/plain": [
       "<Figure size 900x600 with 1 Axes>"
      ]
     },
     "metadata": {},
     "output_type": "display_data"
    }
   ],
   "source": [
    "fig=plt.figure(figsize=(3,2))\n",
    "ax=fig.add_subplot(111)\n",
    "\n",
    "input_df=df\n",
    "input_df=input_df[input_df[\"Cons\"]!=\"UND\"]\n",
    "plt_df=pd.crosstab(input_df[\"class4\"],input_df[\"OR\"])\n",
    "plt_df=plt_df.loc[:,[1.0,0.0]]\n",
    "plt_df.plot.bar(stacked=True,ax=ax,color=[\"red\",\"grey\"])\n",
    "\n",
    "ax.set_xlabel('')\n",
    "ax.set_ylabel('')\n",
    "ax.tick_params(labelsize=6)\n",
    "ax.set_xticklabels(plt_df.index, rotation=0, fontsize=8)\n",
    "ax.legend([])\n",
    "\n",
    "ax.spines['right'].set_visible(False)\n",
    "ax.spines['top'].set_visible(False)\n",
    "\n",
    "plt_df2=plt_df[1]/ np.sum( plt_df,axis=1)*100\n",
    "for x in plt_df2:\n",
    "    print(np.round(x,3))\n",
    "\n",
    "#text1=\"{:.3g}\".format(plt_df2[0] )\n",
    "#text2=\"{:.3g}\".format(plt_df2[1] )\n",
    "#ax.annotate(text=text1,xy=(0.25,1),xycoords='axes fraction',\n",
    "#            ha=\"center\", va=\"center\",fontsize=10)\n",
    "#ax.annotate(text=text2,xy=(0.75,0.5),xycoords='axes fraction',\n",
    "#            ha=\"center\", va=\"center\",fontsize=10)\n",
    "#_,p=stats.fisher_exact(plt_df)\n",
    "#print(\"p= %.2e\"%p)"
   ]
  },
  {
   "cell_type": "code",
   "execution_count": 26,
   "metadata": {},
   "outputs": [
    {
     "data": {
      "text/plain": [
       "(2.5625, 0.0038138999840884947)"
      ]
     },
     "execution_count": 26,
     "metadata": {},
     "output_type": "execute_result"
    }
   ],
   "source": [
    "ct=plt_df.loc[\"TMB low\\nGS high\":,:]\n",
    "stats.fisher_exact(ct)"
   ]
  },
  {
   "cell_type": "markdown",
   "metadata": {},
   "source": [
    "fig=plt.figure(figsize=(4.5,3))\n",
    "\n",
    "gss=[\"SMK\",\"\",\"APB\",\"MRD\",\"HRD\",\"GNS\",\"AGE\",\"UND\"]\n",
    "\n",
    "ax=fig.add_subplot(111)\n",
    "sns.swarmplot(x=\"Cons\",y=value,data=df,s=3,ax=ax,hue=flag,hue_order=[0,1],\n",
    "              order=gss,palette=[\"grey\",\"red\"])\n",
    "\n",
    "gss=[\"\",\"UVL\",\"\",\"\",\"\",\"\",\"\",\"\"]\n",
    "sns.swarmplot(x=\"Cons\",y=value,data=df,s=2,ax=ax,hue=flag,hue_order=[0,1],\n",
    "              order=gss,palette=[\"grey\",\"red\"])\n",
    "#             order=[\"low\",\"high\"])\n",
    "ax.set_xticklabels([\"SMK\",\"UVL\",\"APB\",\"MRD\",\"HRD\",\"GNS\",\"AGE\",\"UND\"],fontsize=6 )\n",
    "ax.set_ylabel('TMB log10')\n",
    "ax.set_xlabel('TGS')\n",
    "ax.axhline(y=thresholds[op_idx],c=\"k\",lw=1,ls=\"dashed\")\n",
    "ax.axvline(x=3.5,c=\"k\",lw=1,ls=\"dashed\")\n",
    "ax.axvline(x=6.5,c=\"k\",lw=1,ls=\"dashed\")\n",
    "ax.tick_params(labelsize=8)\n",
    "ax.legend([])#bbox_to_anchor=(1, 1),fontsize=8,title=\"Objective response\")"
   ]
  },
  {
   "cell_type": "markdown",
   "metadata": {},
   "source": [
    "## GLM model"
   ]
  },
  {
   "cell_type": "code",
   "execution_count": 179,
   "metadata": {},
   "outputs": [],
   "source": [
    "df=total.copy()"
   ]
  },
  {
   "cell_type": "code",
   "execution_count": 180,
   "metadata": {
    "code_folding": []
   },
   "outputs": [],
   "source": [
    "m_age=np.nanmedian( df[\"AGE\"].astype(float))\n",
    "\n",
    "age_high=[]\n",
    "for idx in df.index:\n",
    "    if df.loc[idx,\"AGE\"] >= m_age:\n",
    "        age_high.append(1)\n",
    "    elif df.loc[idx,\"AGE\"] < m_age:\n",
    "        age_high.append(0)\n",
    "    else:\n",
    "        age_high.append(np.nan)\n",
    "    \n",
    "df[\"Age_high\"]=age_high"
   ]
  },
  {
   "cell_type": "code",
   "execution_count": 181,
   "metadata": {},
   "outputs": [
    {
     "data": {
      "text/plain": [
       "192"
      ]
     },
     "execution_count": 181,
     "metadata": {},
     "output_type": "execute_result"
    }
   ],
   "source": [
    "df[\"AGE\"].isna().sum()"
   ]
  },
  {
   "cell_type": "code",
   "execution_count": 182,
   "metadata": {
    "code_folding": [
     8
    ]
   },
   "outputs": [],
   "source": [
    "m_age=np.nanmedian( df[\"AGE\"].astype(float))\n",
    "\n",
    "age_comp=[]\n",
    "for idx in df.index:\n",
    "    age=df.loc[idx,\"AGE\"]\n",
    "    if age >= m_age:\n",
    "        age_comp.append( age )\n",
    "    elif age < m_age:\n",
    "        age_comp.append(age)\n",
    "    else:\n",
    "        age_comp.append( m_age )\n",
    "    \n",
    "df[\"Age_median_comp\"]=age_comp"
   ]
  },
  {
   "cell_type": "code",
   "execution_count": 183,
   "metadata": {
    "code_folding": [
     8
    ]
   },
   "outputs": [],
   "source": [
    "m_age=np.nanmean( df[\"AGE\"].astype(float))\n",
    "\n",
    "age_comp=[]\n",
    "for idx in df.index:\n",
    "    age=df.loc[idx,\"AGE\"]\n",
    "    if age >= m_age:\n",
    "        age_comp.append( age )\n",
    "    elif age < m_age:\n",
    "        age_comp.append(age)\n",
    "    else:\n",
    "        age_comp.append( m_age )\n",
    "    \n",
    "df[\"Age_mean_comp\"]=age_comp"
   ]
  },
  {
   "cell_type": "code",
   "execution_count": 184,
   "metadata": {},
   "outputs": [],
   "source": [
    "df[\"Sex_male\"]= ( df[\"SEX\"]==\"Male\" ).astype(int)"
   ]
  },
  {
   "cell_type": "code",
   "execution_count": 185,
   "metadata": {},
   "outputs": [
    {
     "name": "stdout",
     "output_type": "stream",
     "text": [
      "2.385606273598312\n"
     ]
    }
   ],
   "source": [
    "print(cutoff)\n",
    "df[\"TMB_high\"]=(df[\"TMB_log10\"] > cutoff).astype(int)"
   ]
  },
  {
   "cell_type": "code",
   "execution_count": 186,
   "metadata": {},
   "outputs": [],
   "source": [
    "df[\"Cancertype_Melanoma\"]=( df[\"Cancertype\"]==\"Melanoma\").astype(int)\n",
    "df[\"Cancertype_Lung\"]=( df[\"Cancertype\"]==\"Lung\").astype(int)"
   ]
  },
  {
   "cell_type": "code",
   "execution_count": 187,
   "metadata": {},
   "outputs": [
    {
     "data": {
      "text/plain": [
       "(433, 17)"
      ]
     },
     "execution_count": 187,
     "metadata": {},
     "output_type": "execute_result"
    }
   ],
   "source": [
    "df_sel=df[df[\"Cons\"]!=\"UND\"]\n",
    "df_sel.shape"
   ]
  },
  {
   "cell_type": "code",
   "execution_count": 188,
   "metadata": {},
   "outputs": [
    {
     "data": {
      "text/plain": [
       "Counter({1.0: 323, 0.0: 110})"
      ]
     },
     "execution_count": 188,
     "metadata": {},
     "output_type": "execute_result"
    }
   ],
   "source": [
    "Counter(df_sel[\"TGS_high\"])"
   ]
  },
  {
   "cell_type": "code",
   "execution_count": 189,
   "metadata": {},
   "outputs": [
    {
     "data": {
      "text/plain": [
       "Counter({0: 241, 1: 192})"
      ]
     },
     "execution_count": 189,
     "metadata": {},
     "output_type": "execute_result"
    }
   ],
   "source": [
    "Counter(df_sel[\"TMB_high\"])"
   ]
  },
  {
   "cell_type": "code",
   "execution_count": 190,
   "metadata": {},
   "outputs": [
    {
     "data": {
      "text/plain": [
       "Counter({'0.Others': 39, '2.Lung': 122, '1.Melanoma': 272})"
      ]
     },
     "execution_count": 190,
     "metadata": {},
     "output_type": "execute_result"
    }
   ],
   "source": [
    "Counter( df_sel[\"Cancertype3\"])"
   ]
  },
  {
   "cell_type": "code",
   "execution_count": 191,
   "metadata": {},
   "outputs": [
    {
     "data": {
      "text/plain": [
       "Counter({'Male': 258, 'Female': 175})"
      ]
     },
     "execution_count": 191,
     "metadata": {},
     "output_type": "execute_result"
    }
   ],
   "source": [
    "Counter(df_sel[\"SEX\"])"
   ]
  },
  {
   "cell_type": "markdown",
   "metadata": {},
   "source": [
    "## step-up method same as Merck"
   ]
  },
  {
   "cell_type": "markdown",
   "metadata": {},
   "source": [
    "### TMB as continuous value"
   ]
  },
  {
   "cell_type": "code",
   "execution_count": 192,
   "metadata": {},
   "outputs": [],
   "source": [
    "input_df=df.copy()\n",
    "input_df=input_df[ input_df[\"Cons\"]!=\"UND\" ]\n",
    "formula = \"OR ~ TGS_high +  Cancertype_Melanoma+ Cancertype_Lung+Sex_male\"#+Age_median_comp\"\n",
    "family = sm.families.Binomial()"
   ]
  },
  {
   "cell_type": "code",
   "execution_count": 193,
   "metadata": {
    "scrolled": true
   },
   "outputs": [
    {
     "data": {
      "text/html": [
       "<table class=\"simpletable\">\n",
       "<caption>Generalized Linear Model Regression Results</caption>\n",
       "<tr>\n",
       "  <th>Dep. Variable:</th>          <td>OR</td>        <th>  No. Observations:  </th>  <td>   433</td> \n",
       "</tr>\n",
       "<tr>\n",
       "  <th>Model:</th>                  <td>GLM</td>       <th>  Df Residuals:      </th>  <td>   428</td> \n",
       "</tr>\n",
       "<tr>\n",
       "  <th>Model Family:</th>        <td>Binomial</td>     <th>  Df Model:          </th>  <td>     4</td> \n",
       "</tr>\n",
       "<tr>\n",
       "  <th>Link Function:</th>         <td>logit</td>      <th>  Scale:             </th> <td>  1.0000</td>\n",
       "</tr>\n",
       "<tr>\n",
       "  <th>Method:</th>                <td>IRLS</td>       <th>  Log-Likelihood:    </th> <td> -263.51</td>\n",
       "</tr>\n",
       "<tr>\n",
       "  <th>Date:</th>            <td>Sun, 28 Mar 2021</td> <th>  Deviance:          </th> <td>  527.01</td>\n",
       "</tr>\n",
       "<tr>\n",
       "  <th>Time:</th>                <td>21:56:48</td>     <th>  Pearson chi2:      </th>  <td>  432.</td> \n",
       "</tr>\n",
       "<tr>\n",
       "  <th>No. Iterations:</th>          <td>4</td>        <th>                     </th>     <td> </td>   \n",
       "</tr>\n",
       "<tr>\n",
       "  <th>Covariance Type:</th>     <td>nonrobust</td>    <th>                     </th>     <td> </td>   \n",
       "</tr>\n",
       "</table>\n",
       "<table class=\"simpletable\">\n",
       "<tr>\n",
       "           <td></td>              <th>coef</th>     <th>std err</th>      <th>z</th>      <th>P>|z|</th>  <th>[0.025</th>    <th>0.975]</th>  \n",
       "</tr>\n",
       "<tr>\n",
       "  <th>Intercept</th>           <td>   -1.1879</td> <td>    0.429</td> <td>   -2.770</td> <td> 0.006</td> <td>   -2.028</td> <td>   -0.348</td>\n",
       "</tr>\n",
       "<tr>\n",
       "  <th>TGS_high</th>            <td>    1.3350</td> <td>    0.291</td> <td>    4.592</td> <td> 0.000</td> <td>    0.765</td> <td>    1.905</td>\n",
       "</tr>\n",
       "<tr>\n",
       "  <th>Cancertype_Melanoma</th> <td>   -0.4679</td> <td>    0.365</td> <td>   -1.282</td> <td> 0.200</td> <td>   -1.183</td> <td>    0.247</td>\n",
       "</tr>\n",
       "<tr>\n",
       "  <th>Cancertype_Lung</th>     <td>   -0.4868</td> <td>    0.400</td> <td>   -1.218</td> <td> 0.223</td> <td>   -1.270</td> <td>    0.296</td>\n",
       "</tr>\n",
       "<tr>\n",
       "  <th>Sex_male</th>            <td>   -0.1963</td> <td>    0.220</td> <td>   -0.894</td> <td> 0.371</td> <td>   -0.627</td> <td>    0.234</td>\n",
       "</tr>\n",
       "</table>"
      ],
      "text/plain": [
       "<class 'statsmodels.iolib.summary.Summary'>\n",
       "\"\"\"\n",
       "                 Generalized Linear Model Regression Results                  \n",
       "==============================================================================\n",
       "Dep. Variable:                     OR   No. Observations:                  433\n",
       "Model:                            GLM   Df Residuals:                      428\n",
       "Model Family:                Binomial   Df Model:                            4\n",
       "Link Function:                  logit   Scale:                          1.0000\n",
       "Method:                          IRLS   Log-Likelihood:                -263.51\n",
       "Date:                Sun, 28 Mar 2021   Deviance:                       527.01\n",
       "Time:                        21:56:48   Pearson chi2:                     432.\n",
       "No. Iterations:                     4                                         \n",
       "Covariance Type:            nonrobust                                         \n",
       "=======================================================================================\n",
       "                          coef    std err          z      P>|z|      [0.025      0.975]\n",
       "---------------------------------------------------------------------------------------\n",
       "Intercept              -1.1879      0.429     -2.770      0.006      -2.028      -0.348\n",
       "TGS_high                1.3350      0.291      4.592      0.000       0.765       1.905\n",
       "Cancertype_Melanoma    -0.4679      0.365     -1.282      0.200      -1.183       0.247\n",
       "Cancertype_Lung        -0.4868      0.400     -1.218      0.223      -1.270       0.296\n",
       "Sex_male               -0.1963      0.220     -0.894      0.371      -0.627       0.234\n",
       "=======================================================================================\n",
       "\"\"\""
      ]
     },
     "execution_count": 193,
     "metadata": {},
     "output_type": "execute_result"
    }
   ],
   "source": [
    "model= smf.glm(formula=formula, data=input_df, family=family)\n",
    "res1 = model.fit()\n",
    "res1.summary()"
   ]
  },
  {
   "cell_type": "code",
   "execution_count": 194,
   "metadata": {},
   "outputs": [
    {
     "data": {
      "text/plain": [
       "4.384692184590371e-06"
      ]
     },
     "execution_count": 194,
     "metadata": {},
     "output_type": "execute_result"
    }
   ],
   "source": [
    "res1.pvalues[\"TGS_high\"]"
   ]
  },
  {
   "cell_type": "code",
   "execution_count": 195,
   "metadata": {},
   "outputs": [],
   "source": [
    "input_df=df.copy()\n",
    "input_df=input_df[ input_df[\"Cons\"]!=\"UND\" ]\n",
    "formula = \"OR ~ TMB_log10+TGS_high+ Cancertype_Melanoma+ Cancertype_Lung+Sex_male\"#+Age_median_comp\"\n",
    "family = sm.families.Binomial()"
   ]
  },
  {
   "cell_type": "code",
   "execution_count": 196,
   "metadata": {
    "scrolled": true
   },
   "outputs": [
    {
     "data": {
      "text/html": [
       "<table class=\"simpletable\">\n",
       "<caption>Generalized Linear Model Regression Results</caption>\n",
       "<tr>\n",
       "  <th>Dep. Variable:</th>          <td>OR</td>        <th>  No. Observations:  </th>  <td>   433</td> \n",
       "</tr>\n",
       "<tr>\n",
       "  <th>Model:</th>                  <td>GLM</td>       <th>  Df Residuals:      </th>  <td>   427</td> \n",
       "</tr>\n",
       "<tr>\n",
       "  <th>Model Family:</th>        <td>Binomial</td>     <th>  Df Model:          </th>  <td>     5</td> \n",
       "</tr>\n",
       "<tr>\n",
       "  <th>Link Function:</th>         <td>logit</td>      <th>  Scale:             </th> <td>  1.0000</td>\n",
       "</tr>\n",
       "<tr>\n",
       "  <th>Method:</th>                <td>IRLS</td>       <th>  Log-Likelihood:    </th> <td> -259.14</td>\n",
       "</tr>\n",
       "<tr>\n",
       "  <th>Date:</th>            <td>Sun, 28 Mar 2021</td> <th>  Deviance:          </th> <td>  518.29</td>\n",
       "</tr>\n",
       "<tr>\n",
       "  <th>Time:</th>                <td>21:57:09</td>     <th>  Pearson chi2:      </th>  <td>  447.</td> \n",
       "</tr>\n",
       "<tr>\n",
       "  <th>No. Iterations:</th>          <td>4</td>        <th>                     </th>     <td> </td>   \n",
       "</tr>\n",
       "<tr>\n",
       "  <th>Covariance Type:</th>     <td>nonrobust</td>    <th>                     </th>     <td> </td>   \n",
       "</tr>\n",
       "</table>\n",
       "<table class=\"simpletable\">\n",
       "<tr>\n",
       "           <td></td>              <th>coef</th>     <th>std err</th>      <th>z</th>      <th>P>|z|</th>  <th>[0.025</th>    <th>0.975]</th>  \n",
       "</tr>\n",
       "<tr>\n",
       "  <th>Intercept</th>           <td>   -2.4729</td> <td>    0.620</td> <td>   -3.990</td> <td> 0.000</td> <td>   -3.688</td> <td>   -1.258</td>\n",
       "</tr>\n",
       "<tr>\n",
       "  <th>TMB_log10</th>           <td>    0.8429</td> <td>    0.289</td> <td>    2.913</td> <td> 0.004</td> <td>    0.276</td> <td>    1.410</td>\n",
       "</tr>\n",
       "<tr>\n",
       "  <th>TGS_high</th>            <td>    0.6816</td> <td>    0.363</td> <td>    1.876</td> <td> 0.061</td> <td>   -0.030</td> <td>    1.394</td>\n",
       "</tr>\n",
       "<tr>\n",
       "  <th>Cancertype_Melanoma</th> <td>   -0.6589</td> <td>    0.371</td> <td>   -1.775</td> <td> 0.076</td> <td>   -1.387</td> <td>    0.069</td>\n",
       "</tr>\n",
       "<tr>\n",
       "  <th>Cancertype_Lung</th>     <td>   -0.4797</td> <td>    0.399</td> <td>   -1.201</td> <td> 0.230</td> <td>   -1.262</td> <td>    0.303</td>\n",
       "</tr>\n",
       "<tr>\n",
       "  <th>Sex_male</th>            <td>   -0.2805</td> <td>    0.224</td> <td>   -1.252</td> <td> 0.211</td> <td>   -0.720</td> <td>    0.159</td>\n",
       "</tr>\n",
       "</table>"
      ],
      "text/plain": [
       "<class 'statsmodels.iolib.summary.Summary'>\n",
       "\"\"\"\n",
       "                 Generalized Linear Model Regression Results                  \n",
       "==============================================================================\n",
       "Dep. Variable:                     OR   No. Observations:                  433\n",
       "Model:                            GLM   Df Residuals:                      427\n",
       "Model Family:                Binomial   Df Model:                            5\n",
       "Link Function:                  logit   Scale:                          1.0000\n",
       "Method:                          IRLS   Log-Likelihood:                -259.14\n",
       "Date:                Sun, 28 Mar 2021   Deviance:                       518.29\n",
       "Time:                        21:57:09   Pearson chi2:                     447.\n",
       "No. Iterations:                     4                                         \n",
       "Covariance Type:            nonrobust                                         \n",
       "=======================================================================================\n",
       "                          coef    std err          z      P>|z|      [0.025      0.975]\n",
       "---------------------------------------------------------------------------------------\n",
       "Intercept              -2.4729      0.620     -3.990      0.000      -3.688      -1.258\n",
       "TMB_log10               0.8429      0.289      2.913      0.004       0.276       1.410\n",
       "TGS_high                0.6816      0.363      1.876      0.061      -0.030       1.394\n",
       "Cancertype_Melanoma    -0.6589      0.371     -1.775      0.076      -1.387       0.069\n",
       "Cancertype_Lung        -0.4797      0.399     -1.201      0.230      -1.262       0.303\n",
       "Sex_male               -0.2805      0.224     -1.252      0.211      -0.720       0.159\n",
       "=======================================================================================\n",
       "\"\"\""
      ]
     },
     "execution_count": 196,
     "metadata": {},
     "output_type": "execute_result"
    }
   ],
   "source": [
    "model = smf.glm(formula=formula, data=input_df, family=family)\n",
    "res2 = model.fit()\n",
    "res2.summary()"
   ]
  },
  {
   "cell_type": "code",
   "execution_count": 197,
   "metadata": {},
   "outputs": [
    {
     "data": {
      "text/html": [
       "<div>\n",
       "<style scoped>\n",
       "    .dataframe tbody tr th:only-of-type {\n",
       "        vertical-align: middle;\n",
       "    }\n",
       "\n",
       "    .dataframe tbody tr th {\n",
       "        vertical-align: top;\n",
       "    }\n",
       "\n",
       "    .dataframe thead th {\n",
       "        text-align: right;\n",
       "    }\n",
       "</style>\n",
       "<table border=\"1\" class=\"dataframe\">\n",
       "  <thead>\n",
       "    <tr style=\"text-align: right;\">\n",
       "      <th></th>\n",
       "      <th>Odds ratio</th>\n",
       "      <th>CI 5%</th>\n",
       "      <th>CI 95%</th>\n",
       "      <th>p-value</th>\n",
       "    </tr>\n",
       "  </thead>\n",
       "  <tbody>\n",
       "    <tr>\n",
       "      <th>Intercept</th>\n",
       "      <td>0.0843</td>\n",
       "      <td>0.0250</td>\n",
       "      <td>0.2842</td>\n",
       "      <td>0.0001</td>\n",
       "    </tr>\n",
       "    <tr>\n",
       "      <th>TMB_log10</th>\n",
       "      <td>2.3230</td>\n",
       "      <td>1.3175</td>\n",
       "      <td>4.0957</td>\n",
       "      <td>0.0036</td>\n",
       "    </tr>\n",
       "    <tr>\n",
       "      <th>TGS_high</th>\n",
       "      <td>1.9770</td>\n",
       "      <td>0.9701</td>\n",
       "      <td>4.0291</td>\n",
       "      <td>0.0606</td>\n",
       "    </tr>\n",
       "    <tr>\n",
       "      <th>Cancertype_Melanoma</th>\n",
       "      <td>0.5174</td>\n",
       "      <td>0.2499</td>\n",
       "      <td>1.0712</td>\n",
       "      <td>0.0759</td>\n",
       "    </tr>\n",
       "    <tr>\n",
       "      <th>Cancertype_Lung</th>\n",
       "      <td>0.6189</td>\n",
       "      <td>0.2830</td>\n",
       "      <td>1.3538</td>\n",
       "      <td>0.2296</td>\n",
       "    </tr>\n",
       "    <tr>\n",
       "      <th>Sex_male</th>\n",
       "      <td>0.7554</td>\n",
       "      <td>0.4869</td>\n",
       "      <td>1.1719</td>\n",
       "      <td>0.2106</td>\n",
       "    </tr>\n",
       "  </tbody>\n",
       "</table>\n",
       "</div>"
      ],
      "text/plain": [
       "                     Odds ratio   CI 5%  CI 95%  p-value\n",
       "Intercept                0.0843  0.0250  0.2842   0.0001\n",
       "TMB_log10                2.3230  1.3175  4.0957   0.0036\n",
       "TGS_high                 1.9770  0.9701  4.0291   0.0606\n",
       "Cancertype_Melanoma      0.5174  0.2499  1.0712   0.0759\n",
       "Cancertype_Lung          0.6189  0.2830  1.3538   0.2296\n",
       "Sex_male                 0.7554  0.4869  1.1719   0.2106"
      ]
     },
     "execution_count": 197,
     "metadata": {},
     "output_type": "execute_result"
    }
   ],
   "source": [
    "res=res2\n",
    "res_df=pd.concat( [ np.exp(res.params), np.exp(res.conf_int(alpha=0.05)),res.pvalues],axis=1)\n",
    "res_df.columns=[\"Odds ratio\",\"CI 5%\",\"CI 95%\", \"p-value\"]\n",
    "np.round( res_df,4)"
   ]
  },
  {
   "cell_type": "code",
   "execution_count": 198,
   "metadata": {},
   "outputs": [],
   "source": [
    "input_df=df.copy()\n",
    "input_df=input_df[ input_df[\"Cons\"]!=\"UND\" ]\n",
    "formula = \"OR ~ TMB_log10+TGS_high\"\n",
    "family = sm.families.Binomial()"
   ]
  },
  {
   "cell_type": "code",
   "execution_count": 199,
   "metadata": {
    "scrolled": true
   },
   "outputs": [
    {
     "data": {
      "text/html": [
       "<table class=\"simpletable\">\n",
       "<caption>Generalized Linear Model Regression Results</caption>\n",
       "<tr>\n",
       "  <th>Dep. Variable:</th>          <td>OR</td>        <th>  No. Observations:  </th>  <td>   433</td> \n",
       "</tr>\n",
       "<tr>\n",
       "  <th>Model:</th>                  <td>GLM</td>       <th>  Df Residuals:      </th>  <td>   430</td> \n",
       "</tr>\n",
       "<tr>\n",
       "  <th>Model Family:</th>        <td>Binomial</td>     <th>  Df Model:          </th>  <td>     2</td> \n",
       "</tr>\n",
       "<tr>\n",
       "  <th>Link Function:</th>         <td>logit</td>      <th>  Scale:             </th> <td>  1.0000</td>\n",
       "</tr>\n",
       "<tr>\n",
       "  <th>Method:</th>                <td>IRLS</td>       <th>  Log-Likelihood:    </th> <td> -261.43</td>\n",
       "</tr>\n",
       "<tr>\n",
       "  <th>Date:</th>            <td>Sun, 28 Mar 2021</td> <th>  Deviance:          </th> <td>  522.86</td>\n",
       "</tr>\n",
       "<tr>\n",
       "  <th>Time:</th>                <td>21:57:21</td>     <th>  Pearson chi2:      </th>  <td>  441.</td> \n",
       "</tr>\n",
       "<tr>\n",
       "  <th>No. Iterations:</th>          <td>4</td>        <th>                     </th>     <td> </td>   \n",
       "</tr>\n",
       "<tr>\n",
       "  <th>Covariance Type:</th>     <td>nonrobust</td>    <th>                     </th>     <td> </td>   \n",
       "</tr>\n",
       "</table>\n",
       "<table class=\"simpletable\">\n",
       "<tr>\n",
       "      <td></td>         <th>coef</th>     <th>std err</th>      <th>z</th>      <th>P>|z|</th>  <th>[0.025</th>    <th>0.975]</th>  \n",
       "</tr>\n",
       "<tr>\n",
       "  <th>Intercept</th> <td>   -2.8478</td> <td>    0.536</td> <td>   -5.311</td> <td> 0.000</td> <td>   -3.899</td> <td>   -1.797</td>\n",
       "</tr>\n",
       "<tr>\n",
       "  <th>TMB_log10</th> <td>    0.6808</td> <td>    0.271</td> <td>    2.515</td> <td> 0.012</td> <td>    0.150</td> <td>    1.211</td>\n",
       "</tr>\n",
       "<tr>\n",
       "  <th>TGS_high</th>  <td>    0.7327</td> <td>    0.360</td> <td>    2.036</td> <td> 0.042</td> <td>    0.027</td> <td>    1.438</td>\n",
       "</tr>\n",
       "</table>"
      ],
      "text/plain": [
       "<class 'statsmodels.iolib.summary.Summary'>\n",
       "\"\"\"\n",
       "                 Generalized Linear Model Regression Results                  \n",
       "==============================================================================\n",
       "Dep. Variable:                     OR   No. Observations:                  433\n",
       "Model:                            GLM   Df Residuals:                      430\n",
       "Model Family:                Binomial   Df Model:                            2\n",
       "Link Function:                  logit   Scale:                          1.0000\n",
       "Method:                          IRLS   Log-Likelihood:                -261.43\n",
       "Date:                Sun, 28 Mar 2021   Deviance:                       522.86\n",
       "Time:                        21:57:21   Pearson chi2:                     441.\n",
       "No. Iterations:                     4                                         \n",
       "Covariance Type:            nonrobust                                         \n",
       "==============================================================================\n",
       "                 coef    std err          z      P>|z|      [0.025      0.975]\n",
       "------------------------------------------------------------------------------\n",
       "Intercept     -2.8478      0.536     -5.311      0.000      -3.899      -1.797\n",
       "TMB_log10      0.6808      0.271      2.515      0.012       0.150       1.211\n",
       "TGS_high       0.7327      0.360      2.036      0.042       0.027       1.438\n",
       "==============================================================================\n",
       "\"\"\""
      ]
     },
     "execution_count": 199,
     "metadata": {},
     "output_type": "execute_result"
    }
   ],
   "source": [
    "model = smf.glm(formula=formula, data=input_df, family=family)\n",
    "res2 = model.fit()\n",
    "res2.summary()"
   ]
  },
  {
   "cell_type": "markdown",
   "metadata": {},
   "source": [
    "### TMB high as categorical value"
   ]
  },
  {
   "cell_type": "code",
   "execution_count": 200,
   "metadata": {},
   "outputs": [],
   "source": [
    "input_df=df.copy()\n",
    "input_df=input_df[ input_df[\"Cons\"]!=\"UND\" ]\n",
    "formula = \"OR ~ TGS_high +  Cancertype_Melanoma +  Cancertype_Lung + Sex_male\"# +Age_median_comp\"\n",
    "family = sm.families.Binomial()"
   ]
  },
  {
   "cell_type": "code",
   "execution_count": 201,
   "metadata": {
    "scrolled": true
   },
   "outputs": [
    {
     "data": {
      "text/html": [
       "<table class=\"simpletable\">\n",
       "<caption>Generalized Linear Model Regression Results</caption>\n",
       "<tr>\n",
       "  <th>Dep. Variable:</th>          <td>OR</td>        <th>  No. Observations:  </th>  <td>   433</td> \n",
       "</tr>\n",
       "<tr>\n",
       "  <th>Model:</th>                  <td>GLM</td>       <th>  Df Residuals:      </th>  <td>   428</td> \n",
       "</tr>\n",
       "<tr>\n",
       "  <th>Model Family:</th>        <td>Binomial</td>     <th>  Df Model:          </th>  <td>     4</td> \n",
       "</tr>\n",
       "<tr>\n",
       "  <th>Link Function:</th>         <td>logit</td>      <th>  Scale:             </th> <td>  1.0000</td>\n",
       "</tr>\n",
       "<tr>\n",
       "  <th>Method:</th>                <td>IRLS</td>       <th>  Log-Likelihood:    </th> <td> -263.51</td>\n",
       "</tr>\n",
       "<tr>\n",
       "  <th>Date:</th>            <td>Sun, 28 Mar 2021</td> <th>  Deviance:          </th> <td>  527.01</td>\n",
       "</tr>\n",
       "<tr>\n",
       "  <th>Time:</th>                <td>21:57:39</td>     <th>  Pearson chi2:      </th>  <td>  432.</td> \n",
       "</tr>\n",
       "<tr>\n",
       "  <th>No. Iterations:</th>          <td>4</td>        <th>                     </th>     <td> </td>   \n",
       "</tr>\n",
       "<tr>\n",
       "  <th>Covariance Type:</th>     <td>nonrobust</td>    <th>                     </th>     <td> </td>   \n",
       "</tr>\n",
       "</table>\n",
       "<table class=\"simpletable\">\n",
       "<tr>\n",
       "           <td></td>              <th>coef</th>     <th>std err</th>      <th>z</th>      <th>P>|z|</th>  <th>[0.025</th>    <th>0.975]</th>  \n",
       "</tr>\n",
       "<tr>\n",
       "  <th>Intercept</th>           <td>   -1.1879</td> <td>    0.429</td> <td>   -2.770</td> <td> 0.006</td> <td>   -2.028</td> <td>   -0.348</td>\n",
       "</tr>\n",
       "<tr>\n",
       "  <th>TGS_high</th>            <td>    1.3350</td> <td>    0.291</td> <td>    4.592</td> <td> 0.000</td> <td>    0.765</td> <td>    1.905</td>\n",
       "</tr>\n",
       "<tr>\n",
       "  <th>Cancertype_Melanoma</th> <td>   -0.4679</td> <td>    0.365</td> <td>   -1.282</td> <td> 0.200</td> <td>   -1.183</td> <td>    0.247</td>\n",
       "</tr>\n",
       "<tr>\n",
       "  <th>Cancertype_Lung</th>     <td>   -0.4868</td> <td>    0.400</td> <td>   -1.218</td> <td> 0.223</td> <td>   -1.270</td> <td>    0.296</td>\n",
       "</tr>\n",
       "<tr>\n",
       "  <th>Sex_male</th>            <td>   -0.1963</td> <td>    0.220</td> <td>   -0.894</td> <td> 0.371</td> <td>   -0.627</td> <td>    0.234</td>\n",
       "</tr>\n",
       "</table>"
      ],
      "text/plain": [
       "<class 'statsmodels.iolib.summary.Summary'>\n",
       "\"\"\"\n",
       "                 Generalized Linear Model Regression Results                  \n",
       "==============================================================================\n",
       "Dep. Variable:                     OR   No. Observations:                  433\n",
       "Model:                            GLM   Df Residuals:                      428\n",
       "Model Family:                Binomial   Df Model:                            4\n",
       "Link Function:                  logit   Scale:                          1.0000\n",
       "Method:                          IRLS   Log-Likelihood:                -263.51\n",
       "Date:                Sun, 28 Mar 2021   Deviance:                       527.01\n",
       "Time:                        21:57:39   Pearson chi2:                     432.\n",
       "No. Iterations:                     4                                         \n",
       "Covariance Type:            nonrobust                                         \n",
       "=======================================================================================\n",
       "                          coef    std err          z      P>|z|      [0.025      0.975]\n",
       "---------------------------------------------------------------------------------------\n",
       "Intercept              -1.1879      0.429     -2.770      0.006      -2.028      -0.348\n",
       "TGS_high                1.3350      0.291      4.592      0.000       0.765       1.905\n",
       "Cancertype_Melanoma    -0.4679      0.365     -1.282      0.200      -1.183       0.247\n",
       "Cancertype_Lung        -0.4868      0.400     -1.218      0.223      -1.270       0.296\n",
       "Sex_male               -0.1963      0.220     -0.894      0.371      -0.627       0.234\n",
       "=======================================================================================\n",
       "\"\"\""
      ]
     },
     "execution_count": 201,
     "metadata": {},
     "output_type": "execute_result"
    }
   ],
   "source": [
    "model = smf.glm(formula=formula, data=input_df, family=family)\n",
    "res3 = model.fit()\n",
    "res3.summary()"
   ]
  },
  {
   "cell_type": "code",
   "execution_count": 202,
   "metadata": {},
   "outputs": [
    {
     "data": {
      "text/plain": [
       "4.384692184590371e-06"
      ]
     },
     "execution_count": 202,
     "metadata": {},
     "output_type": "execute_result"
    }
   ],
   "source": [
    "res3.pvalues[\"TGS_high\"]"
   ]
  },
  {
   "cell_type": "code",
   "execution_count": 203,
   "metadata": {},
   "outputs": [
    {
     "data": {
      "text/html": [
       "<div>\n",
       "<style scoped>\n",
       "    .dataframe tbody tr th:only-of-type {\n",
       "        vertical-align: middle;\n",
       "    }\n",
       "\n",
       "    .dataframe tbody tr th {\n",
       "        vertical-align: top;\n",
       "    }\n",
       "\n",
       "    .dataframe thead th {\n",
       "        text-align: right;\n",
       "    }\n",
       "</style>\n",
       "<table border=\"1\" class=\"dataframe\">\n",
       "  <thead>\n",
       "    <tr style=\"text-align: right;\">\n",
       "      <th></th>\n",
       "      <th>Odds ratio</th>\n",
       "      <th>CI 5%</th>\n",
       "      <th>CI 95%</th>\n",
       "      <th>p-value</th>\n",
       "    </tr>\n",
       "  </thead>\n",
       "  <tbody>\n",
       "    <tr>\n",
       "      <th>Intercept</th>\n",
       "      <td>0.3049</td>\n",
       "      <td>0.1316</td>\n",
       "      <td>0.7064</td>\n",
       "      <td>0.0056</td>\n",
       "    </tr>\n",
       "    <tr>\n",
       "      <th>TGS_high</th>\n",
       "      <td>3.8001</td>\n",
       "      <td>2.1495</td>\n",
       "      <td>6.7182</td>\n",
       "      <td>0.0000</td>\n",
       "    </tr>\n",
       "    <tr>\n",
       "      <th>Cancertype_Melanoma</th>\n",
       "      <td>0.6263</td>\n",
       "      <td>0.3063</td>\n",
       "      <td>1.2807</td>\n",
       "      <td>0.1998</td>\n",
       "    </tr>\n",
       "    <tr>\n",
       "      <th>Cancertype_Lung</th>\n",
       "      <td>0.6146</td>\n",
       "      <td>0.2808</td>\n",
       "      <td>1.3448</td>\n",
       "      <td>0.2231</td>\n",
       "    </tr>\n",
       "    <tr>\n",
       "      <th>Sex_male</th>\n",
       "      <td>0.8218</td>\n",
       "      <td>0.5344</td>\n",
       "      <td>1.2638</td>\n",
       "      <td>0.3714</td>\n",
       "    </tr>\n",
       "  </tbody>\n",
       "</table>\n",
       "</div>"
      ],
      "text/plain": [
       "                     Odds ratio   CI 5%  CI 95%  p-value\n",
       "Intercept                0.3049  0.1316  0.7064   0.0056\n",
       "TGS_high                 3.8001  2.1495  6.7182   0.0000\n",
       "Cancertype_Melanoma      0.6263  0.3063  1.2807   0.1998\n",
       "Cancertype_Lung          0.6146  0.2808  1.3448   0.2231\n",
       "Sex_male                 0.8218  0.5344  1.2638   0.3714"
      ]
     },
     "execution_count": 203,
     "metadata": {},
     "output_type": "execute_result"
    }
   ],
   "source": [
    "res=res3\n",
    "res_df=pd.concat( [ np.exp(res.params), np.exp(res.conf_int(alpha=0.05)),res.pvalues],axis=1)\n",
    "res_df.columns=[\"Odds ratio\",\"CI 5%\",\"CI 95%\", \"p-value\"]\n",
    "np.round( res_df,4)"
   ]
  },
  {
   "cell_type": "code",
   "execution_count": 204,
   "metadata": {},
   "outputs": [],
   "source": [
    "input_df=df.copy()\n",
    "input_df=input_df[ input_df[\"Cons\"]!=\"UND\" ]\n",
    "formula = \"OR ~ TGS_high +TMB_high+Cancertype_Melanoma+Cancertype_Lung\\\n",
    "+Sex_male\"#+Age_median_comp\"\n",
    "family = sm.families.Binomial()"
   ]
  },
  {
   "cell_type": "code",
   "execution_count": 205,
   "metadata": {
    "scrolled": true
   },
   "outputs": [
    {
     "data": {
      "text/html": [
       "<table class=\"simpletable\">\n",
       "<caption>Generalized Linear Model Regression Results</caption>\n",
       "<tr>\n",
       "  <th>Dep. Variable:</th>          <td>OR</td>        <th>  No. Observations:  </th>  <td>   433</td> \n",
       "</tr>\n",
       "<tr>\n",
       "  <th>Model:</th>                  <td>GLM</td>       <th>  Df Residuals:      </th>  <td>   427</td> \n",
       "</tr>\n",
       "<tr>\n",
       "  <th>Model Family:</th>        <td>Binomial</td>     <th>  Df Model:          </th>  <td>     5</td> \n",
       "</tr>\n",
       "<tr>\n",
       "  <th>Link Function:</th>         <td>logit</td>      <th>  Scale:             </th> <td>  1.0000</td>\n",
       "</tr>\n",
       "<tr>\n",
       "  <th>Method:</th>                <td>IRLS</td>       <th>  Log-Likelihood:    </th> <td> -258.32</td>\n",
       "</tr>\n",
       "<tr>\n",
       "  <th>Date:</th>            <td>Sun, 28 Mar 2021</td> <th>  Deviance:          </th> <td>  516.64</td>\n",
       "</tr>\n",
       "<tr>\n",
       "  <th>Time:</th>                <td>21:57:57</td>     <th>  Pearson chi2:      </th>  <td>  432.</td> \n",
       "</tr>\n",
       "<tr>\n",
       "  <th>No. Iterations:</th>          <td>4</td>        <th>                     </th>     <td> </td>   \n",
       "</tr>\n",
       "<tr>\n",
       "  <th>Covariance Type:</th>     <td>nonrobust</td>    <th>                     </th>     <td> </td>   \n",
       "</tr>\n",
       "</table>\n",
       "<table class=\"simpletable\">\n",
       "<tr>\n",
       "           <td></td>              <th>coef</th>     <th>std err</th>      <th>z</th>      <th>P>|z|</th>  <th>[0.025</th>    <th>0.975]</th>  \n",
       "</tr>\n",
       "<tr>\n",
       "  <th>Intercept</th>           <td>   -1.1407</td> <td>    0.432</td> <td>   -2.639</td> <td> 0.008</td> <td>   -1.988</td> <td>   -0.293</td>\n",
       "</tr>\n",
       "<tr>\n",
       "  <th>TGS_high</th>            <td>    0.9069</td> <td>    0.323</td> <td>    2.806</td> <td> 0.005</td> <td>    0.273</td> <td>    1.540</td>\n",
       "</tr>\n",
       "<tr>\n",
       "  <th>TMB_high</th>            <td>    0.7863</td> <td>    0.248</td> <td>    3.168</td> <td> 0.002</td> <td>    0.300</td> <td>    1.273</td>\n",
       "</tr>\n",
       "<tr>\n",
       "  <th>Cancertype_Melanoma</th> <td>   -0.5799</td> <td>    0.372</td> <td>   -1.560</td> <td> 0.119</td> <td>   -1.308</td> <td>    0.149</td>\n",
       "</tr>\n",
       "<tr>\n",
       "  <th>Cancertype_Lung</th>     <td>   -0.3994</td> <td>    0.405</td> <td>   -0.987</td> <td> 0.324</td> <td>   -1.193</td> <td>    0.394</td>\n",
       "</tr>\n",
       "<tr>\n",
       "  <th>Sex_male</th>            <td>   -0.2700</td> <td>    0.224</td> <td>   -1.204</td> <td> 0.229</td> <td>   -0.710</td> <td>    0.170</td>\n",
       "</tr>\n",
       "</table>"
      ],
      "text/plain": [
       "<class 'statsmodels.iolib.summary.Summary'>\n",
       "\"\"\"\n",
       "                 Generalized Linear Model Regression Results                  \n",
       "==============================================================================\n",
       "Dep. Variable:                     OR   No. Observations:                  433\n",
       "Model:                            GLM   Df Residuals:                      427\n",
       "Model Family:                Binomial   Df Model:                            5\n",
       "Link Function:                  logit   Scale:                          1.0000\n",
       "Method:                          IRLS   Log-Likelihood:                -258.32\n",
       "Date:                Sun, 28 Mar 2021   Deviance:                       516.64\n",
       "Time:                        21:57:57   Pearson chi2:                     432.\n",
       "No. Iterations:                     4                                         \n",
       "Covariance Type:            nonrobust                                         \n",
       "=======================================================================================\n",
       "                          coef    std err          z      P>|z|      [0.025      0.975]\n",
       "---------------------------------------------------------------------------------------\n",
       "Intercept              -1.1407      0.432     -2.639      0.008      -1.988      -0.293\n",
       "TGS_high                0.9069      0.323      2.806      0.005       0.273       1.540\n",
       "TMB_high                0.7863      0.248      3.168      0.002       0.300       1.273\n",
       "Cancertype_Melanoma    -0.5799      0.372     -1.560      0.119      -1.308       0.149\n",
       "Cancertype_Lung        -0.3994      0.405     -0.987      0.324      -1.193       0.394\n",
       "Sex_male               -0.2700      0.224     -1.204      0.229      -0.710       0.170\n",
       "=======================================================================================\n",
       "\"\"\""
      ]
     },
     "execution_count": 205,
     "metadata": {},
     "output_type": "execute_result"
    }
   ],
   "source": [
    "model = smf.glm(formula=formula, data=input_df, family=family)\n",
    "res4 = model.fit()\n",
    "res4.summary()"
   ]
  },
  {
   "cell_type": "code",
   "execution_count": 206,
   "metadata": {},
   "outputs": [
    {
     "data": {
      "text/plain": [
       "0.005015972480027351"
      ]
     },
     "execution_count": 206,
     "metadata": {},
     "output_type": "execute_result"
    }
   ],
   "source": [
    "res4.pvalues[\"TGS_high\"]"
   ]
  },
  {
   "cell_type": "code",
   "execution_count": 207,
   "metadata": {},
   "outputs": [
    {
     "data": {
      "text/html": [
       "<div>\n",
       "<style scoped>\n",
       "    .dataframe tbody tr th:only-of-type {\n",
       "        vertical-align: middle;\n",
       "    }\n",
       "\n",
       "    .dataframe tbody tr th {\n",
       "        vertical-align: top;\n",
       "    }\n",
       "\n",
       "    .dataframe thead th {\n",
       "        text-align: right;\n",
       "    }\n",
       "</style>\n",
       "<table border=\"1\" class=\"dataframe\">\n",
       "  <thead>\n",
       "    <tr style=\"text-align: right;\">\n",
       "      <th></th>\n",
       "      <th>Odds ratio</th>\n",
       "      <th>CI 5%</th>\n",
       "      <th>CI 95%</th>\n",
       "      <th>p-value</th>\n",
       "    </tr>\n",
       "  </thead>\n",
       "  <tbody>\n",
       "    <tr>\n",
       "      <th>Intercept</th>\n",
       "      <td>0.3196</td>\n",
       "      <td>0.1370</td>\n",
       "      <td>0.7457</td>\n",
       "      <td>0.0083</td>\n",
       "    </tr>\n",
       "    <tr>\n",
       "      <th>TGS_high</th>\n",
       "      <td>2.4766</td>\n",
       "      <td>1.3145</td>\n",
       "      <td>4.6660</td>\n",
       "      <td>0.0050</td>\n",
       "    </tr>\n",
       "    <tr>\n",
       "      <th>TMB_high</th>\n",
       "      <td>2.1952</td>\n",
       "      <td>1.3497</td>\n",
       "      <td>3.5703</td>\n",
       "      <td>0.0015</td>\n",
       "    </tr>\n",
       "    <tr>\n",
       "      <th>Cancertype_Melanoma</th>\n",
       "      <td>0.5600</td>\n",
       "      <td>0.2702</td>\n",
       "      <td>1.1603</td>\n",
       "      <td>0.1187</td>\n",
       "    </tr>\n",
       "    <tr>\n",
       "      <th>Cancertype_Lung</th>\n",
       "      <td>0.6707</td>\n",
       "      <td>0.3034</td>\n",
       "      <td>1.4828</td>\n",
       "      <td>0.3238</td>\n",
       "    </tr>\n",
       "    <tr>\n",
       "      <th>Sex_male</th>\n",
       "      <td>0.7634</td>\n",
       "      <td>0.4919</td>\n",
       "      <td>1.1847</td>\n",
       "      <td>0.2286</td>\n",
       "    </tr>\n",
       "  </tbody>\n",
       "</table>\n",
       "</div>"
      ],
      "text/plain": [
       "                     Odds ratio   CI 5%  CI 95%  p-value\n",
       "Intercept                0.3196  0.1370  0.7457   0.0083\n",
       "TGS_high                 2.4766  1.3145  4.6660   0.0050\n",
       "TMB_high                 2.1952  1.3497  3.5703   0.0015\n",
       "Cancertype_Melanoma      0.5600  0.2702  1.1603   0.1187\n",
       "Cancertype_Lung          0.6707  0.3034  1.4828   0.3238\n",
       "Sex_male                 0.7634  0.4919  1.1847   0.2286"
      ]
     },
     "execution_count": 207,
     "metadata": {},
     "output_type": "execute_result"
    }
   ],
   "source": [
    "res=res4\n",
    "res_df=pd.concat( [ np.exp(res.params), np.exp(res.conf_int(alpha=0.05)),res.pvalues],axis=1)\n",
    "res_df.columns=[\"Odds ratio\",\"CI 5%\",\"CI 95%\", \"p-value\"]\n",
    "np.round( res_df,4)"
   ]
  },
  {
   "cell_type": "code",
   "execution_count": 208,
   "metadata": {},
   "outputs": [
    {
     "data": {
      "text/html": [
       "<div>\n",
       "<style scoped>\n",
       "    .dataframe tbody tr th:only-of-type {\n",
       "        vertical-align: middle;\n",
       "    }\n",
       "\n",
       "    .dataframe tbody tr th {\n",
       "        vertical-align: top;\n",
       "    }\n",
       "\n",
       "    .dataframe thead th {\n",
       "        text-align: right;\n",
       "    }\n",
       "</style>\n",
       "<table border=\"1\" class=\"dataframe\">\n",
       "  <thead>\n",
       "    <tr style=\"text-align: right;\">\n",
       "      <th></th>\n",
       "      <th>Odds ratio</th>\n",
       "      <th>95%CI</th>\n",
       "      <th>p-value</th>\n",
       "    </tr>\n",
       "  </thead>\n",
       "  <tbody>\n",
       "    <tr>\n",
       "      <th>Intercept</th>\n",
       "      <td>0.3196</td>\n",
       "      <td>(0.1370 - 0.7457)</td>\n",
       "      <td>0.0083</td>\n",
       "    </tr>\n",
       "    <tr>\n",
       "      <th>TGS_high</th>\n",
       "      <td>2.4766</td>\n",
       "      <td>(1.3145 - 4.6660)</td>\n",
       "      <td>0.0050</td>\n",
       "    </tr>\n",
       "    <tr>\n",
       "      <th>TMB_high</th>\n",
       "      <td>2.1952</td>\n",
       "      <td>(1.3497 - 3.5703)</td>\n",
       "      <td>0.0015</td>\n",
       "    </tr>\n",
       "    <tr>\n",
       "      <th>Cancertype_Melanoma</th>\n",
       "      <td>0.5600</td>\n",
       "      <td>(0.2702 - 1.1603)</td>\n",
       "      <td>0.1187</td>\n",
       "    </tr>\n",
       "    <tr>\n",
       "      <th>Cancertype_Lung</th>\n",
       "      <td>0.6707</td>\n",
       "      <td>(0.3034 - 1.4828)</td>\n",
       "      <td>0.3238</td>\n",
       "    </tr>\n",
       "    <tr>\n",
       "      <th>Sex_male</th>\n",
       "      <td>0.7634</td>\n",
       "      <td>(0.4919 - 1.1847)</td>\n",
       "      <td>0.2286</td>\n",
       "    </tr>\n",
       "  </tbody>\n",
       "</table>\n",
       "</div>"
      ],
      "text/plain": [
       "                     Odds ratio              95%CI  p-value\n",
       "Intercept                0.3196  (0.1370 - 0.7457)   0.0083\n",
       "TGS_high                 2.4766  (1.3145 - 4.6660)   0.0050\n",
       "TMB_high                 2.1952  (1.3497 - 3.5703)   0.0015\n",
       "Cancertype_Melanoma      0.5600  (0.2702 - 1.1603)   0.1187\n",
       "Cancertype_Lung          0.6707  (0.3034 - 1.4828)   0.3238\n",
       "Sex_male                 0.7634  (0.4919 - 1.1847)   0.2286"
      ]
     },
     "execution_count": 208,
     "metadata": {},
     "output_type": "execute_result"
    }
   ],
   "source": [
    "res_df[\"95%CI\"]=[\"({:.4f} - {:.4f})\".format(x,y) for x,y in zip(res_df[\"CI 5%\"],res_df[\"CI 95%\"])  ]\n",
    "np.round(res_df[[\"Odds ratio\",\"95%CI\",\"p-value\"]],4)"
   ]
  },
  {
   "cell_type": "code",
   "execution_count": null,
   "metadata": {},
   "outputs": [],
   "source": [
    "input_df=df.copy()\n",
    "input_df=input_df[ input_df[\"Cons\"]!=\"UND\" ]\n",
    "formula = \"OR ~ TMB_high + TGS_high +  Cancertype_Melanoma +  Cancertype_Lung + Sex_male\"\n",
    "family = sm.families.Binomial()"
   ]
  },
  {
   "cell_type": "code",
   "execution_count": null,
   "metadata": {
    "scrolled": true
   },
   "outputs": [],
   "source": [
    "model = smf.glm(formula=formula, data=input_df, family=family)\n",
    "res3 = model.fit()\n",
    "res3.summary()"
   ]
  },
  {
   "cell_type": "markdown",
   "metadata": {},
   "source": [
    "### univariate analysis integrated"
   ]
  },
  {
   "cell_type": "code",
   "execution_count": 129,
   "metadata": {},
   "outputs": [],
   "source": [
    "univ_integrated=pd.DataFrame()"
   ]
  },
  {
   "cell_type": "code",
   "execution_count": 130,
   "metadata": {},
   "outputs": [],
   "source": [
    "cat=\"TMB_high\"\n",
    "input_df=df.copy()\n",
    "input_df=input_df[ input_df[\"Cons\"]!=\"UND\" ]\n",
    "formula = \"OR ~ \"+cat\n",
    "family = sm.families.Binomial()"
   ]
  },
  {
   "cell_type": "code",
   "execution_count": 131,
   "metadata": {
    "scrolled": true
   },
   "outputs": [
    {
     "data": {
      "text/html": [
       "<div>\n",
       "<style scoped>\n",
       "    .dataframe tbody tr th:only-of-type {\n",
       "        vertical-align: middle;\n",
       "    }\n",
       "\n",
       "    .dataframe tbody tr th {\n",
       "        vertical-align: top;\n",
       "    }\n",
       "\n",
       "    .dataframe thead th {\n",
       "        text-align: right;\n",
       "    }\n",
       "</style>\n",
       "<table border=\"1\" class=\"dataframe\">\n",
       "  <thead>\n",
       "    <tr style=\"text-align: right;\">\n",
       "      <th></th>\n",
       "      <th>Odds ratio</th>\n",
       "      <th>CI 5%</th>\n",
       "      <th>CI 95%</th>\n",
       "      <th>p-value</th>\n",
       "    </tr>\n",
       "  </thead>\n",
       "  <tbody>\n",
       "    <tr>\n",
       "      <th>Intercept</th>\n",
       "      <td>0.309783</td>\n",
       "      <td>0.230158</td>\n",
       "      <td>0.416954</td>\n",
       "      <td>1.068947e-14</td>\n",
       "    </tr>\n",
       "    <tr>\n",
       "      <th>TMB_high</th>\n",
       "      <td>2.789303</td>\n",
       "      <td>1.849703</td>\n",
       "      <td>4.206197</td>\n",
       "      <td>9.853651e-07</td>\n",
       "    </tr>\n",
       "  </tbody>\n",
       "</table>\n",
       "</div>"
      ],
      "text/plain": [
       "           Odds ratio     CI 5%    CI 95%       p-value\n",
       "Intercept    0.309783  0.230158  0.416954  1.068947e-14\n",
       "TMB_high     2.789303  1.849703  4.206197  9.853651e-07"
      ]
     },
     "execution_count": 131,
     "metadata": {},
     "output_type": "execute_result"
    }
   ],
   "source": [
    "model = smf.glm(formula=formula, data=input_df, family=family)\n",
    "res = model.fit()\n",
    "res_df=pd.concat( [ np.exp(res.params), np.exp(res.conf_int(alpha=0.05)),res.pvalues],axis=1)\n",
    "res_df.columns=[\"Odds ratio\",\"CI 5%\",\"CI 95%\", \"p-value\"]\n",
    "res_df"
   ]
  },
  {
   "cell_type": "code",
   "execution_count": 132,
   "metadata": {},
   "outputs": [
    {
     "data": {
      "text/html": [
       "<div>\n",
       "<style scoped>\n",
       "    .dataframe tbody tr th:only-of-type {\n",
       "        vertical-align: middle;\n",
       "    }\n",
       "\n",
       "    .dataframe tbody tr th {\n",
       "        vertical-align: top;\n",
       "    }\n",
       "\n",
       "    .dataframe thead th {\n",
       "        text-align: right;\n",
       "    }\n",
       "</style>\n",
       "<table border=\"1\" class=\"dataframe\">\n",
       "  <thead>\n",
       "    <tr style=\"text-align: right;\">\n",
       "      <th></th>\n",
       "      <th>TMB_high</th>\n",
       "    </tr>\n",
       "  </thead>\n",
       "  <tbody>\n",
       "    <tr>\n",
       "      <th>Odds ratio</th>\n",
       "      <td>2.789303e+00</td>\n",
       "    </tr>\n",
       "    <tr>\n",
       "      <th>CI 5%</th>\n",
       "      <td>1.849703e+00</td>\n",
       "    </tr>\n",
       "    <tr>\n",
       "      <th>CI 95%</th>\n",
       "      <td>4.206197e+00</td>\n",
       "    </tr>\n",
       "    <tr>\n",
       "      <th>p-value</th>\n",
       "      <td>9.853651e-07</td>\n",
       "    </tr>\n",
       "  </tbody>\n",
       "</table>\n",
       "</div>"
      ],
      "text/plain": [
       "                TMB_high\n",
       "Odds ratio  2.789303e+00\n",
       "CI 5%       1.849703e+00\n",
       "CI 95%      4.206197e+00\n",
       "p-value     9.853651e-07"
      ]
     },
     "execution_count": 132,
     "metadata": {},
     "output_type": "execute_result"
    }
   ],
   "source": [
    "univ_integrated=pd.concat( [univ_integrated,res_df.T[[cat]]])\n",
    "univ_integrated"
   ]
  },
  {
   "cell_type": "code",
   "execution_count": 133,
   "metadata": {},
   "outputs": [
    {
     "data": {
      "text/html": [
       "<div>\n",
       "<style scoped>\n",
       "    .dataframe tbody tr th:only-of-type {\n",
       "        vertical-align: middle;\n",
       "    }\n",
       "\n",
       "    .dataframe tbody tr th {\n",
       "        vertical-align: top;\n",
       "    }\n",
       "\n",
       "    .dataframe thead th {\n",
       "        text-align: right;\n",
       "    }\n",
       "</style>\n",
       "<table border=\"1\" class=\"dataframe\">\n",
       "  <thead>\n",
       "    <tr style=\"text-align: right;\">\n",
       "      <th></th>\n",
       "      <th>Odds ratio</th>\n",
       "      <th>CI 5%</th>\n",
       "      <th>CI 95%</th>\n",
       "      <th>p-value</th>\n",
       "    </tr>\n",
       "  </thead>\n",
       "  <tbody>\n",
       "    <tr>\n",
       "      <th>Intercept</th>\n",
       "      <td>0.182796</td>\n",
       "      <td>0.109004</td>\n",
       "      <td>0.306542</td>\n",
       "      <td>1.174382e-10</td>\n",
       "    </tr>\n",
       "    <tr>\n",
       "      <th>TGS_high</th>\n",
       "      <td>3.637659</td>\n",
       "      <td>2.071851</td>\n",
       "      <td>6.386833</td>\n",
       "      <td>6.913346e-06</td>\n",
       "    </tr>\n",
       "  </tbody>\n",
       "</table>\n",
       "</div>"
      ],
      "text/plain": [
       "           Odds ratio     CI 5%    CI 95%       p-value\n",
       "Intercept    0.182796  0.109004  0.306542  1.174382e-10\n",
       "TGS_high     3.637659  2.071851  6.386833  6.913346e-06"
      ]
     },
     "execution_count": 133,
     "metadata": {},
     "output_type": "execute_result"
    }
   ],
   "source": [
    "cat=\"TGS_high\"\n",
    "input_df=df.copy()\n",
    "input_df=input_df[ input_df[\"Cons\"]!=\"UND\" ]\n",
    "formula = \"OR ~ \"+cat\n",
    "family = sm.families.Binomial()\n",
    "model = smf.glm(formula=formula, data=input_df, family=family)\n",
    "res = model.fit()\n",
    "res_df=pd.concat( [ np.exp(res.params), np.exp(res.conf_int(alpha=0.05)),res.pvalues],axis=1)\n",
    "res_df.columns=[\"Odds ratio\",\"CI 5%\",\"CI 95%\", \"p-value\"]\n",
    "res_df"
   ]
  },
  {
   "cell_type": "code",
   "execution_count": 134,
   "metadata": {},
   "outputs": [
    {
     "data": {
      "text/html": [
       "<div>\n",
       "<style scoped>\n",
       "    .dataframe tbody tr th:only-of-type {\n",
       "        vertical-align: middle;\n",
       "    }\n",
       "\n",
       "    .dataframe tbody tr th {\n",
       "        vertical-align: top;\n",
       "    }\n",
       "\n",
       "    .dataframe thead th {\n",
       "        text-align: right;\n",
       "    }\n",
       "</style>\n",
       "<table border=\"1\" class=\"dataframe\">\n",
       "  <thead>\n",
       "    <tr style=\"text-align: right;\">\n",
       "      <th></th>\n",
       "      <th>TMB_high</th>\n",
       "      <th>TGS_high</th>\n",
       "    </tr>\n",
       "  </thead>\n",
       "  <tbody>\n",
       "    <tr>\n",
       "      <th>Odds ratio</th>\n",
       "      <td>2.789303e+00</td>\n",
       "      <td>3.637659</td>\n",
       "    </tr>\n",
       "    <tr>\n",
       "      <th>CI 5%</th>\n",
       "      <td>1.849703e+00</td>\n",
       "      <td>2.071851</td>\n",
       "    </tr>\n",
       "    <tr>\n",
       "      <th>CI 95%</th>\n",
       "      <td>4.206197e+00</td>\n",
       "      <td>6.386833</td>\n",
       "    </tr>\n",
       "    <tr>\n",
       "      <th>p-value</th>\n",
       "      <td>9.853651e-07</td>\n",
       "      <td>0.000007</td>\n",
       "    </tr>\n",
       "  </tbody>\n",
       "</table>\n",
       "</div>"
      ],
      "text/plain": [
       "                TMB_high  TGS_high\n",
       "Odds ratio  2.789303e+00  3.637659\n",
       "CI 5%       1.849703e+00  2.071851\n",
       "CI 95%      4.206197e+00  6.386833\n",
       "p-value     9.853651e-07  0.000007"
      ]
     },
     "execution_count": 134,
     "metadata": {},
     "output_type": "execute_result"
    }
   ],
   "source": [
    "univ_integrated=pd.concat( [univ_integrated,res_df.T[[cat]]],axis=1)\n",
    "univ_integrated"
   ]
  },
  {
   "cell_type": "code",
   "execution_count": 135,
   "metadata": {},
   "outputs": [
    {
     "data": {
      "text/html": [
       "<div>\n",
       "<style scoped>\n",
       "    .dataframe tbody tr th:only-of-type {\n",
       "        vertical-align: middle;\n",
       "    }\n",
       "\n",
       "    .dataframe tbody tr th {\n",
       "        vertical-align: top;\n",
       "    }\n",
       "\n",
       "    .dataframe thead th {\n",
       "        text-align: right;\n",
       "    }\n",
       "</style>\n",
       "<table border=\"1\" class=\"dataframe\">\n",
       "  <thead>\n",
       "    <tr style=\"text-align: right;\">\n",
       "      <th></th>\n",
       "      <th>Odds ratio</th>\n",
       "      <th>CI 5%</th>\n",
       "      <th>CI 95%</th>\n",
       "      <th>p-value</th>\n",
       "    </tr>\n",
       "  </thead>\n",
       "  <tbody>\n",
       "    <tr>\n",
       "      <th>Intercept</th>\n",
       "      <td>0.518868</td>\n",
       "      <td>0.374631</td>\n",
       "      <td>0.718637</td>\n",
       "      <td>0.000079</td>\n",
       "    </tr>\n",
       "    <tr>\n",
       "      <th>Cancertype_Melanoma</th>\n",
       "      <td>0.968960</td>\n",
       "      <td>0.641939</td>\n",
       "      <td>1.462576</td>\n",
       "      <td>0.880686</td>\n",
       "    </tr>\n",
       "  </tbody>\n",
       "</table>\n",
       "</div>"
      ],
      "text/plain": [
       "                     Odds ratio     CI 5%    CI 95%   p-value\n",
       "Intercept              0.518868  0.374631  0.718637  0.000079\n",
       "Cancertype_Melanoma    0.968960  0.641939  1.462576  0.880686"
      ]
     },
     "execution_count": 135,
     "metadata": {},
     "output_type": "execute_result"
    }
   ],
   "source": [
    "cat=\"Cancertype_Melanoma\"\n",
    "input_df=df.copy()\n",
    "input_df=input_df[ input_df[\"Cons\"]!=\"UND\" ]\n",
    "formula = \"OR ~ \"+cat\n",
    "family = sm.families.Binomial()\n",
    "model = smf.glm(formula=formula, data=input_df, family=family)\n",
    "res = model.fit()\n",
    "res_df=pd.concat( [ np.exp(res.params), np.exp(res.conf_int(alpha=0.05)),res.pvalues],axis=1)\n",
    "res_df.columns=[\"Odds ratio\",\"CI 5%\",\"CI 95%\", \"p-value\"]\n",
    "res_df"
   ]
  },
  {
   "cell_type": "code",
   "execution_count": 136,
   "metadata": {
    "scrolled": false
   },
   "outputs": [
    {
     "data": {
      "text/html": [
       "<div>\n",
       "<style scoped>\n",
       "    .dataframe tbody tr th:only-of-type {\n",
       "        vertical-align: middle;\n",
       "    }\n",
       "\n",
       "    .dataframe tbody tr th {\n",
       "        vertical-align: top;\n",
       "    }\n",
       "\n",
       "    .dataframe thead th {\n",
       "        text-align: right;\n",
       "    }\n",
       "</style>\n",
       "<table border=\"1\" class=\"dataframe\">\n",
       "  <thead>\n",
       "    <tr style=\"text-align: right;\">\n",
       "      <th></th>\n",
       "      <th>TMB_high</th>\n",
       "      <th>TGS_high</th>\n",
       "      <th>Cancertype_Melanoma</th>\n",
       "    </tr>\n",
       "  </thead>\n",
       "  <tbody>\n",
       "    <tr>\n",
       "      <th>Odds ratio</th>\n",
       "      <td>2.789303e+00</td>\n",
       "      <td>3.637659</td>\n",
       "      <td>0.968960</td>\n",
       "    </tr>\n",
       "    <tr>\n",
       "      <th>CI 5%</th>\n",
       "      <td>1.849703e+00</td>\n",
       "      <td>2.071851</td>\n",
       "      <td>0.641939</td>\n",
       "    </tr>\n",
       "    <tr>\n",
       "      <th>CI 95%</th>\n",
       "      <td>4.206197e+00</td>\n",
       "      <td>6.386833</td>\n",
       "      <td>1.462576</td>\n",
       "    </tr>\n",
       "    <tr>\n",
       "      <th>p-value</th>\n",
       "      <td>9.853651e-07</td>\n",
       "      <td>0.000007</td>\n",
       "      <td>0.880686</td>\n",
       "    </tr>\n",
       "  </tbody>\n",
       "</table>\n",
       "</div>"
      ],
      "text/plain": [
       "                TMB_high  TGS_high  Cancertype_Melanoma\n",
       "Odds ratio  2.789303e+00  3.637659             0.968960\n",
       "CI 5%       1.849703e+00  2.071851             0.641939\n",
       "CI 95%      4.206197e+00  6.386833             1.462576\n",
       "p-value     9.853651e-07  0.000007             0.880686"
      ]
     },
     "execution_count": 136,
     "metadata": {},
     "output_type": "execute_result"
    }
   ],
   "source": [
    "univ_integrated=pd.concat( [univ_integrated,res_df.T[[cat]]],axis=1)\n",
    "univ_integrated"
   ]
  },
  {
   "cell_type": "code",
   "execution_count": 137,
   "metadata": {},
   "outputs": [
    {
     "data": {
      "text/html": [
       "<div>\n",
       "<style scoped>\n",
       "    .dataframe tbody tr th:only-of-type {\n",
       "        vertical-align: middle;\n",
       "    }\n",
       "\n",
       "    .dataframe tbody tr th {\n",
       "        vertical-align: top;\n",
       "    }\n",
       "\n",
       "    .dataframe thead th {\n",
       "        text-align: right;\n",
       "    }\n",
       "</style>\n",
       "<table border=\"1\" class=\"dataframe\">\n",
       "  <thead>\n",
       "    <tr style=\"text-align: right;\">\n",
       "      <th></th>\n",
       "      <th>Odds ratio</th>\n",
       "      <th>CI 5%</th>\n",
       "      <th>CI 95%</th>\n",
       "      <th>p-value</th>\n",
       "    </tr>\n",
       "  </thead>\n",
       "  <tbody>\n",
       "    <tr>\n",
       "      <th>Intercept</th>\n",
       "      <td>0.524510</td>\n",
       "      <td>0.415098</td>\n",
       "      <td>0.662760</td>\n",
       "      <td>6.441868e-08</td>\n",
       "    </tr>\n",
       "    <tr>\n",
       "      <th>Cancertype_Lung</th>\n",
       "      <td>0.895845</td>\n",
       "      <td>0.573122</td>\n",
       "      <td>1.400293</td>\n",
       "      <td>6.293648e-01</td>\n",
       "    </tr>\n",
       "  </tbody>\n",
       "</table>\n",
       "</div>"
      ],
      "text/plain": [
       "                 Odds ratio     CI 5%    CI 95%       p-value\n",
       "Intercept          0.524510  0.415098  0.662760  6.441868e-08\n",
       "Cancertype_Lung    0.895845  0.573122  1.400293  6.293648e-01"
      ]
     },
     "execution_count": 137,
     "metadata": {},
     "output_type": "execute_result"
    }
   ],
   "source": [
    "cat=\"Cancertype_Lung\"\n",
    "input_df=df.copy()\n",
    "input_df=input_df[ input_df[\"Cons\"]!=\"UND\" ]\n",
    "formula = \"OR ~ \"+cat\n",
    "family = sm.families.Binomial()\n",
    "model = smf.glm(formula=formula, data=input_df, family=family)\n",
    "res = model.fit()\n",
    "res_df=pd.concat( [ np.exp(res.params), np.exp(res.conf_int(alpha=0.05)),res.pvalues],axis=1)\n",
    "res_df.columns=[\"Odds ratio\",\"CI 5%\",\"CI 95%\", \"p-value\"]\n",
    "res_df"
   ]
  },
  {
   "cell_type": "code",
   "execution_count": 138,
   "metadata": {
    "scrolled": true
   },
   "outputs": [
    {
     "data": {
      "text/html": [
       "<div>\n",
       "<style scoped>\n",
       "    .dataframe tbody tr th:only-of-type {\n",
       "        vertical-align: middle;\n",
       "    }\n",
       "\n",
       "    .dataframe tbody tr th {\n",
       "        vertical-align: top;\n",
       "    }\n",
       "\n",
       "    .dataframe thead th {\n",
       "        text-align: right;\n",
       "    }\n",
       "</style>\n",
       "<table border=\"1\" class=\"dataframe\">\n",
       "  <thead>\n",
       "    <tr style=\"text-align: right;\">\n",
       "      <th></th>\n",
       "      <th>TMB_high</th>\n",
       "      <th>TGS_high</th>\n",
       "      <th>Cancertype_Melanoma</th>\n",
       "      <th>Cancertype_Lung</th>\n",
       "    </tr>\n",
       "  </thead>\n",
       "  <tbody>\n",
       "    <tr>\n",
       "      <th>Odds ratio</th>\n",
       "      <td>2.789303e+00</td>\n",
       "      <td>3.637659</td>\n",
       "      <td>0.968960</td>\n",
       "      <td>0.895845</td>\n",
       "    </tr>\n",
       "    <tr>\n",
       "      <th>CI 5%</th>\n",
       "      <td>1.849703e+00</td>\n",
       "      <td>2.071851</td>\n",
       "      <td>0.641939</td>\n",
       "      <td>0.573122</td>\n",
       "    </tr>\n",
       "    <tr>\n",
       "      <th>CI 95%</th>\n",
       "      <td>4.206197e+00</td>\n",
       "      <td>6.386833</td>\n",
       "      <td>1.462576</td>\n",
       "      <td>1.400293</td>\n",
       "    </tr>\n",
       "    <tr>\n",
       "      <th>p-value</th>\n",
       "      <td>9.853651e-07</td>\n",
       "      <td>0.000007</td>\n",
       "      <td>0.880686</td>\n",
       "      <td>0.629365</td>\n",
       "    </tr>\n",
       "  </tbody>\n",
       "</table>\n",
       "</div>"
      ],
      "text/plain": [
       "                TMB_high  TGS_high  Cancertype_Melanoma  Cancertype_Lung\n",
       "Odds ratio  2.789303e+00  3.637659             0.968960         0.895845\n",
       "CI 5%       1.849703e+00  2.071851             0.641939         0.573122\n",
       "CI 95%      4.206197e+00  6.386833             1.462576         1.400293\n",
       "p-value     9.853651e-07  0.000007             0.880686         0.629365"
      ]
     },
     "execution_count": 138,
     "metadata": {},
     "output_type": "execute_result"
    }
   ],
   "source": [
    "univ_integrated=pd.concat( [univ_integrated,res_df.T[[cat]]],axis=1)\n",
    "univ_integrated"
   ]
  },
  {
   "cell_type": "code",
   "execution_count": 139,
   "metadata": {},
   "outputs": [
    {
     "data": {
      "text/html": [
       "<div>\n",
       "<style scoped>\n",
       "    .dataframe tbody tr th:only-of-type {\n",
       "        vertical-align: middle;\n",
       "    }\n",
       "\n",
       "    .dataframe tbody tr th {\n",
       "        vertical-align: top;\n",
       "    }\n",
       "\n",
       "    .dataframe thead th {\n",
       "        text-align: right;\n",
       "    }\n",
       "</style>\n",
       "<table border=\"1\" class=\"dataframe\">\n",
       "  <thead>\n",
       "    <tr style=\"text-align: right;\">\n",
       "      <th></th>\n",
       "      <th>Odds ratio</th>\n",
       "      <th>CI 5%</th>\n",
       "      <th>CI 95%</th>\n",
       "      <th>p-value</th>\n",
       "    </tr>\n",
       "  </thead>\n",
       "  <tbody>\n",
       "    <tr>\n",
       "      <th>Intercept</th>\n",
       "      <td>0.521739</td>\n",
       "      <td>0.381852</td>\n",
       "      <td>0.712873</td>\n",
       "      <td>0.000044</td>\n",
       "    </tr>\n",
       "    <tr>\n",
       "      <th>Sex_male</th>\n",
       "      <td>0.958333</td>\n",
       "      <td>0.638866</td>\n",
       "      <td>1.437550</td>\n",
       "      <td>0.837018</td>\n",
       "    </tr>\n",
       "  </tbody>\n",
       "</table>\n",
       "</div>"
      ],
      "text/plain": [
       "           Odds ratio     CI 5%    CI 95%   p-value\n",
       "Intercept    0.521739  0.381852  0.712873  0.000044\n",
       "Sex_male     0.958333  0.638866  1.437550  0.837018"
      ]
     },
     "execution_count": 139,
     "metadata": {},
     "output_type": "execute_result"
    }
   ],
   "source": [
    "cat=\"Sex_male\"\n",
    "input_df=df.copy()\n",
    "input_df=input_df[ input_df[\"Cons\"]!=\"UND\" ]\n",
    "formula = \"OR ~ \"+cat\n",
    "family = sm.families.Binomial()\n",
    "model = smf.glm(formula=formula, data=input_df, family=family)\n",
    "res = model.fit()\n",
    "res_df=pd.concat( [ np.exp(res.params), np.exp(res.conf_int(alpha=0.05)),res.pvalues],axis=1)\n",
    "res_df.columns=[\"Odds ratio\",\"CI 5%\",\"CI 95%\", \"p-value\"]\n",
    "res_df"
   ]
  },
  {
   "cell_type": "code",
   "execution_count": 140,
   "metadata": {
    "scrolled": false
   },
   "outputs": [
    {
     "data": {
      "text/html": [
       "<div>\n",
       "<style scoped>\n",
       "    .dataframe tbody tr th:only-of-type {\n",
       "        vertical-align: middle;\n",
       "    }\n",
       "\n",
       "    .dataframe tbody tr th {\n",
       "        vertical-align: top;\n",
       "    }\n",
       "\n",
       "    .dataframe thead th {\n",
       "        text-align: right;\n",
       "    }\n",
       "</style>\n",
       "<table border=\"1\" class=\"dataframe\">\n",
       "  <thead>\n",
       "    <tr style=\"text-align: right;\">\n",
       "      <th></th>\n",
       "      <th>TMB_high</th>\n",
       "      <th>TGS_high</th>\n",
       "      <th>Cancertype_Melanoma</th>\n",
       "      <th>Cancertype_Lung</th>\n",
       "      <th>Sex_male</th>\n",
       "    </tr>\n",
       "  </thead>\n",
       "  <tbody>\n",
       "    <tr>\n",
       "      <th>Odds ratio</th>\n",
       "      <td>2.789303e+00</td>\n",
       "      <td>3.637659</td>\n",
       "      <td>0.968960</td>\n",
       "      <td>0.895845</td>\n",
       "      <td>0.958333</td>\n",
       "    </tr>\n",
       "    <tr>\n",
       "      <th>CI 5%</th>\n",
       "      <td>1.849703e+00</td>\n",
       "      <td>2.071851</td>\n",
       "      <td>0.641939</td>\n",
       "      <td>0.573122</td>\n",
       "      <td>0.638866</td>\n",
       "    </tr>\n",
       "    <tr>\n",
       "      <th>CI 95%</th>\n",
       "      <td>4.206197e+00</td>\n",
       "      <td>6.386833</td>\n",
       "      <td>1.462576</td>\n",
       "      <td>1.400293</td>\n",
       "      <td>1.437550</td>\n",
       "    </tr>\n",
       "    <tr>\n",
       "      <th>p-value</th>\n",
       "      <td>9.853651e-07</td>\n",
       "      <td>0.000007</td>\n",
       "      <td>0.880686</td>\n",
       "      <td>0.629365</td>\n",
       "      <td>0.837018</td>\n",
       "    </tr>\n",
       "  </tbody>\n",
       "</table>\n",
       "</div>"
      ],
      "text/plain": [
       "                TMB_high  TGS_high  Cancertype_Melanoma  Cancertype_Lung  \\\n",
       "Odds ratio  2.789303e+00  3.637659             0.968960         0.895845   \n",
       "CI 5%       1.849703e+00  2.071851             0.641939         0.573122   \n",
       "CI 95%      4.206197e+00  6.386833             1.462576         1.400293   \n",
       "p-value     9.853651e-07  0.000007             0.880686         0.629365   \n",
       "\n",
       "            Sex_male  \n",
       "Odds ratio  0.958333  \n",
       "CI 5%       0.638866  \n",
       "CI 95%      1.437550  \n",
       "p-value     0.837018  "
      ]
     },
     "execution_count": 140,
     "metadata": {},
     "output_type": "execute_result"
    }
   ],
   "source": [
    "univ_integrated=pd.concat( [univ_integrated,res_df.T[[cat]]],axis=1)\n",
    "univ_integrated"
   ]
  },
  {
   "cell_type": "code",
   "execution_count": 141,
   "metadata": {},
   "outputs": [
    {
     "data": {
      "text/html": [
       "<div>\n",
       "<style scoped>\n",
       "    .dataframe tbody tr th:only-of-type {\n",
       "        vertical-align: middle;\n",
       "    }\n",
       "\n",
       "    .dataframe tbody tr th {\n",
       "        vertical-align: top;\n",
       "    }\n",
       "\n",
       "    .dataframe thead th {\n",
       "        text-align: right;\n",
       "    }\n",
       "</style>\n",
       "<table border=\"1\" class=\"dataframe\">\n",
       "  <thead>\n",
       "    <tr style=\"text-align: right;\">\n",
       "      <th></th>\n",
       "      <th>Odds ratio</th>\n",
       "      <th>CI 5%</th>\n",
       "      <th>CI 95%</th>\n",
       "      <th>p-value</th>\n",
       "    </tr>\n",
       "  </thead>\n",
       "  <tbody>\n",
       "    <tr>\n",
       "      <th>Intercept</th>\n",
       "      <td>0.077272</td>\n",
       "      <td>0.019387</td>\n",
       "      <td>0.307992</td>\n",
       "      <td>0.000284</td>\n",
       "    </tr>\n",
       "    <tr>\n",
       "      <th>Age_median_comp</th>\n",
       "      <td>1.030594</td>\n",
       "      <td>1.008483</td>\n",
       "      <td>1.053190</td>\n",
       "      <td>0.006462</td>\n",
       "    </tr>\n",
       "  </tbody>\n",
       "</table>\n",
       "</div>"
      ],
      "text/plain": [
       "                 Odds ratio     CI 5%    CI 95%   p-value\n",
       "Intercept          0.077272  0.019387  0.307992  0.000284\n",
       "Age_median_comp    1.030594  1.008483  1.053190  0.006462"
      ]
     },
     "execution_count": 141,
     "metadata": {},
     "output_type": "execute_result"
    }
   ],
   "source": [
    "cat=\"Age_median_comp\"\n",
    "input_df=df.copy()\n",
    "input_df=input_df[ input_df[\"Cons\"]!=\"UND\" ]\n",
    "formula = \"OR ~ \"+cat\n",
    "family = sm.families.Binomial()\n",
    "model = smf.glm(formula=formula, data=input_df, family=family)\n",
    "res = model.fit()\n",
    "res_df=pd.concat( [ np.exp(res.params), np.exp(res.conf_int(alpha=0.05)),res.pvalues],axis=1)\n",
    "res_df.columns=[\"Odds ratio\",\"CI 5%\",\"CI 95%\", \"p-value\"]\n",
    "res_df"
   ]
  },
  {
   "cell_type": "code",
   "execution_count": 142,
   "metadata": {
    "scrolled": false
   },
   "outputs": [
    {
     "data": {
      "text/html": [
       "<div>\n",
       "<style scoped>\n",
       "    .dataframe tbody tr th:only-of-type {\n",
       "        vertical-align: middle;\n",
       "    }\n",
       "\n",
       "    .dataframe tbody tr th {\n",
       "        vertical-align: top;\n",
       "    }\n",
       "\n",
       "    .dataframe thead th {\n",
       "        text-align: right;\n",
       "    }\n",
       "</style>\n",
       "<table border=\"1\" class=\"dataframe\">\n",
       "  <thead>\n",
       "    <tr style=\"text-align: right;\">\n",
       "      <th></th>\n",
       "      <th>TMB_high</th>\n",
       "      <th>TGS_high</th>\n",
       "      <th>Cancertype_Melanoma</th>\n",
       "      <th>Cancertype_Lung</th>\n",
       "      <th>Sex_male</th>\n",
       "      <th>Age_median_comp</th>\n",
       "    </tr>\n",
       "  </thead>\n",
       "  <tbody>\n",
       "    <tr>\n",
       "      <th>Odds ratio</th>\n",
       "      <td>2.789303e+00</td>\n",
       "      <td>3.637659</td>\n",
       "      <td>0.968960</td>\n",
       "      <td>0.895845</td>\n",
       "      <td>0.958333</td>\n",
       "      <td>1.030594</td>\n",
       "    </tr>\n",
       "    <tr>\n",
       "      <th>CI 5%</th>\n",
       "      <td>1.849703e+00</td>\n",
       "      <td>2.071851</td>\n",
       "      <td>0.641939</td>\n",
       "      <td>0.573122</td>\n",
       "      <td>0.638866</td>\n",
       "      <td>1.008483</td>\n",
       "    </tr>\n",
       "    <tr>\n",
       "      <th>CI 95%</th>\n",
       "      <td>4.206197e+00</td>\n",
       "      <td>6.386833</td>\n",
       "      <td>1.462576</td>\n",
       "      <td>1.400293</td>\n",
       "      <td>1.437550</td>\n",
       "      <td>1.053190</td>\n",
       "    </tr>\n",
       "    <tr>\n",
       "      <th>p-value</th>\n",
       "      <td>9.853651e-07</td>\n",
       "      <td>0.000007</td>\n",
       "      <td>0.880686</td>\n",
       "      <td>0.629365</td>\n",
       "      <td>0.837018</td>\n",
       "      <td>0.006462</td>\n",
       "    </tr>\n",
       "  </tbody>\n",
       "</table>\n",
       "</div>"
      ],
      "text/plain": [
       "                TMB_high  TGS_high  Cancertype_Melanoma  Cancertype_Lung  \\\n",
       "Odds ratio  2.789303e+00  3.637659             0.968960         0.895845   \n",
       "CI 5%       1.849703e+00  2.071851             0.641939         0.573122   \n",
       "CI 95%      4.206197e+00  6.386833             1.462576         1.400293   \n",
       "p-value     9.853651e-07  0.000007             0.880686         0.629365   \n",
       "\n",
       "            Sex_male  Age_median_comp  \n",
       "Odds ratio  0.958333         1.030594  \n",
       "CI 5%       0.638866         1.008483  \n",
       "CI 95%      1.437550         1.053190  \n",
       "p-value     0.837018         0.006462  "
      ]
     },
     "execution_count": 142,
     "metadata": {},
     "output_type": "execute_result"
    }
   ],
   "source": [
    "univ_integrated=pd.concat( [univ_integrated,res_df.T[[cat]]],axis=1)\n",
    "univ_integrated"
   ]
  },
  {
   "cell_type": "code",
   "execution_count": 143,
   "metadata": {},
   "outputs": [
    {
     "data": {
      "text/html": [
       "<div>\n",
       "<style scoped>\n",
       "    .dataframe tbody tr th:only-of-type {\n",
       "        vertical-align: middle;\n",
       "    }\n",
       "\n",
       "    .dataframe tbody tr th {\n",
       "        vertical-align: top;\n",
       "    }\n",
       "\n",
       "    .dataframe thead th {\n",
       "        text-align: right;\n",
       "    }\n",
       "</style>\n",
       "<table border=\"1\" class=\"dataframe\">\n",
       "  <thead>\n",
       "    <tr style=\"text-align: right;\">\n",
       "      <th></th>\n",
       "      <th>Odds ratio</th>\n",
       "      <th>CI 5%</th>\n",
       "      <th>CI 95%</th>\n",
       "      <th>p-value</th>\n",
       "    </tr>\n",
       "  </thead>\n",
       "  <tbody>\n",
       "    <tr>\n",
       "      <th>TMB_high</th>\n",
       "      <td>2.789303</td>\n",
       "      <td>1.849703</td>\n",
       "      <td>4.206197</td>\n",
       "      <td>9.853651e-07</td>\n",
       "    </tr>\n",
       "    <tr>\n",
       "      <th>TGS_high</th>\n",
       "      <td>3.637659</td>\n",
       "      <td>2.071851</td>\n",
       "      <td>6.386833</td>\n",
       "      <td>6.913346e-06</td>\n",
       "    </tr>\n",
       "    <tr>\n",
       "      <th>Cancertype_Melanoma</th>\n",
       "      <td>0.968960</td>\n",
       "      <td>0.641939</td>\n",
       "      <td>1.462576</td>\n",
       "      <td>8.806856e-01</td>\n",
       "    </tr>\n",
       "    <tr>\n",
       "      <th>Cancertype_Lung</th>\n",
       "      <td>0.895845</td>\n",
       "      <td>0.573122</td>\n",
       "      <td>1.400293</td>\n",
       "      <td>6.293648e-01</td>\n",
       "    </tr>\n",
       "    <tr>\n",
       "      <th>Sex_male</th>\n",
       "      <td>0.958333</td>\n",
       "      <td>0.638866</td>\n",
       "      <td>1.437550</td>\n",
       "      <td>8.370177e-01</td>\n",
       "    </tr>\n",
       "    <tr>\n",
       "      <th>Age_median_comp</th>\n",
       "      <td>1.030594</td>\n",
       "      <td>1.008483</td>\n",
       "      <td>1.053190</td>\n",
       "      <td>6.462299e-03</td>\n",
       "    </tr>\n",
       "  </tbody>\n",
       "</table>\n",
       "</div>"
      ],
      "text/plain": [
       "                     Odds ratio     CI 5%    CI 95%       p-value\n",
       "TMB_high               2.789303  1.849703  4.206197  9.853651e-07\n",
       "TGS_high               3.637659  2.071851  6.386833  6.913346e-06\n",
       "Cancertype_Melanoma    0.968960  0.641939  1.462576  8.806856e-01\n",
       "Cancertype_Lung        0.895845  0.573122  1.400293  6.293648e-01\n",
       "Sex_male               0.958333  0.638866  1.437550  8.370177e-01\n",
       "Age_median_comp        1.030594  1.008483  1.053190  6.462299e-03"
      ]
     },
     "execution_count": 143,
     "metadata": {},
     "output_type": "execute_result"
    }
   ],
   "source": [
    "univ_integrated.T"
   ]
  },
  {
   "cell_type": "code",
   "execution_count": 145,
   "metadata": {},
   "outputs": [
    {
     "data": {
      "text/html": [
       "<div>\n",
       "<style scoped>\n",
       "    .dataframe tbody tr th:only-of-type {\n",
       "        vertical-align: middle;\n",
       "    }\n",
       "\n",
       "    .dataframe tbody tr th {\n",
       "        vertical-align: top;\n",
       "    }\n",
       "\n",
       "    .dataframe thead th {\n",
       "        text-align: right;\n",
       "    }\n",
       "</style>\n",
       "<table border=\"1\" class=\"dataframe\">\n",
       "  <thead>\n",
       "    <tr style=\"text-align: right;\">\n",
       "      <th></th>\n",
       "      <th>Odds ratio</th>\n",
       "      <th>95%CI</th>\n",
       "      <th>p-value</th>\n",
       "    </tr>\n",
       "  </thead>\n",
       "  <tbody>\n",
       "    <tr>\n",
       "      <th>TMB_high</th>\n",
       "      <td>2.7893</td>\n",
       "      <td>(1.8497 - 4.2062)</td>\n",
       "      <td>0.0000</td>\n",
       "    </tr>\n",
       "    <tr>\n",
       "      <th>TGS_high</th>\n",
       "      <td>3.6377</td>\n",
       "      <td>(2.0719 - 6.3868)</td>\n",
       "      <td>0.0000</td>\n",
       "    </tr>\n",
       "    <tr>\n",
       "      <th>Cancertype_Melanoma</th>\n",
       "      <td>0.9690</td>\n",
       "      <td>(0.6419 - 1.4626)</td>\n",
       "      <td>0.8807</td>\n",
       "    </tr>\n",
       "    <tr>\n",
       "      <th>Cancertype_Lung</th>\n",
       "      <td>0.8958</td>\n",
       "      <td>(0.5731 - 1.4003)</td>\n",
       "      <td>0.6294</td>\n",
       "    </tr>\n",
       "    <tr>\n",
       "      <th>Sex_male</th>\n",
       "      <td>0.9583</td>\n",
       "      <td>(0.6389 - 1.4376)</td>\n",
       "      <td>0.8370</td>\n",
       "    </tr>\n",
       "    <tr>\n",
       "      <th>Age_median_comp</th>\n",
       "      <td>1.0306</td>\n",
       "      <td>(1.0085 - 1.0532)</td>\n",
       "      <td>0.0065</td>\n",
       "    </tr>\n",
       "  </tbody>\n",
       "</table>\n",
       "</div>"
      ],
      "text/plain": [
       "                     Odds ratio              95%CI  p-value\n",
       "TMB_high                 2.7893  (1.8497 - 4.2062)   0.0000\n",
       "TGS_high                 3.6377  (2.0719 - 6.3868)   0.0000\n",
       "Cancertype_Melanoma      0.9690  (0.6419 - 1.4626)   0.8807\n",
       "Cancertype_Lung          0.8958  (0.5731 - 1.4003)   0.6294\n",
       "Sex_male                 0.9583  (0.6389 - 1.4376)   0.8370\n",
       "Age_median_comp          1.0306  (1.0085 - 1.0532)   0.0065"
      ]
     },
     "execution_count": 145,
     "metadata": {},
     "output_type": "execute_result"
    }
   ],
   "source": [
    "res_df=np.round( univ_integrated.T,4)\n",
    "res_df[\"95%CI\"]=[\"({:.4f} - {:.4f})\".format(x,y) for x,y in zip(res_df[\"CI 5%\"],res_df[\"CI 95%\"])  ]\n",
    "np.round(res_df[[\"Odds ratio\",\"95%CI\",\"p-value\"]],4)"
   ]
  },
  {
   "cell_type": "markdown",
   "metadata": {},
   "source": [
    "## Divided by cancertype"
   ]
  },
  {
   "cell_type": "code",
   "execution_count": 56,
   "metadata": {},
   "outputs": [
    {
     "data": {
      "text/plain": [
       "(125, 16)"
      ]
     },
     "execution_count": 56,
     "metadata": {},
     "output_type": "execute_result"
    }
   ],
   "source": [
    "df_sel=df[ df[\"Cancertype\"]==\"Lung\"]\n",
    "df_sel.shape"
   ]
  },
  {
   "cell_type": "code",
   "execution_count": 57,
   "metadata": {},
   "outputs": [
    {
     "name": "stdout",
     "output_type": "stream",
     "text": [
      "p= 7.26e-04\n"
     ]
    },
    {
     "data": {
      "image/png": "[encoded data removed]",
      "text/plain": [
       "<Figure size 450x600 with 1 Axes>"
      ]
     },
     "metadata": {},
     "output_type": "display_data"
    }
   ],
   "source": [
    "fig=plt.figure(figsize=(1.5,2))\n",
    "ax=fig.add_subplot(111)\n",
    "\n",
    "input_df=df_sel.copy()\n",
    "input_df=input_df[input_df[\"Cons\"]!=\"UND\"]\n",
    "plt_df=pd.crosstab(input_df[\"TGS\"],input_df[\"OR\"])\n",
    "plt_df=plt_df.loc[:,[1.0,0.0]]\n",
    "plt_df.plot.bar(stacked=True,ax=ax,color=[\"red\",\"grey\"])\n",
    "\n",
    "ax.set_xlabel('')\n",
    "ax.set_ylabel('')\n",
    "ax.set_xticklabels([\"GS high\",\"GS low\"], rotation=0, fontsize=8)\n",
    "ax.tick_params(labelsize=8)\n",
    "ax.legend([])\n",
    "ax.spines['right'].set_visible(False)\n",
    "ax.spines['top'].set_visible(False)\n",
    "\n",
    "plt_df2=plt_df[1]/ np.sum( plt_df,axis=1)*100\n",
    "text1=\"{:.3g}\".format(plt_df2[0] )\n",
    "text2=\"{:.3g}\".format(plt_df2[1] )\n",
    "ax.annotate(text=text1,xy=(0.25,1),xycoords='axes fraction',\n",
    "            ha=\"center\", va=\"center\",fontsize=10)\n",
    "ax.annotate(text=text2,xy=(0.75,0.5),xycoords='axes fraction',\n",
    "            ha=\"center\", va=\"center\",fontsize=10)\n",
    "_,p=stats.fisher_exact(plt_df)\n",
    "print(\"p= %.2e\"%p)"
   ]
  },
  {
   "cell_type": "code",
   "execution_count": 58,
   "metadata": {},
   "outputs": [
    {
     "data": {
      "text/plain": [
       "(279, 16)"
      ]
     },
     "execution_count": 58,
     "metadata": {},
     "output_type": "execute_result"
    }
   ],
   "source": [
    "df_sel=df[ df[\"Cancertype\"]==\"Melanoma\"]\n",
    "df_sel.shape"
   ]
  },
  {
   "cell_type": "code",
   "execution_count": 59,
   "metadata": {},
   "outputs": [
    {
     "name": "stdout",
     "output_type": "stream",
     "text": [
      "p= 1.15e-03\n"
     ]
    },
    {
     "data": {
      "image/png": "[encoded data removed]",
      "text/plain": [
       "<Figure size 450x600 with 1 Axes>"
      ]
     },
     "metadata": {},
     "output_type": "display_data"
    }
   ],
   "source": [
    "fig=plt.figure(figsize=(1.5,2))\n",
    "ax=fig.add_subplot(111)\n",
    "\n",
    "input_df=df_sel.copy()\n",
    "input_df=input_df[input_df[\"Cons\"]!=\"UND\"]\n",
    "plt_df=pd.crosstab(input_df[\"TGS\"],input_df[\"OR\"])\n",
    "plt_df=plt_df.loc[:,[1.0,0.0]]\n",
    "plt_df.plot.bar(stacked=True,ax=ax,color=[\"red\",\"grey\"])\n",
    "\n",
    "ax.set_xlabel('')\n",
    "ax.set_ylabel('')\n",
    "ax.set_xticklabels([\"GS high\",\"GS low\"], rotation=0, fontsize=8)\n",
    "ax.tick_params(labelsize=8)\n",
    "ax.legend([])\n",
    "ax.spines['right'].set_visible(False)\n",
    "ax.spines['top'].set_visible(False)\n",
    "\n",
    "plt_df2=plt_df[1]/ np.sum( plt_df,axis=1)*100\n",
    "text1=\"{:.3g}\".format(plt_df2[0] )\n",
    "text2=\"{:.3g}\".format(plt_df2[1] )\n",
    "ax.annotate(text=text1,xy=(0.25,1),xycoords='axes fraction',\n",
    "            ha=\"center\", va=\"center\",fontsize=10)\n",
    "ax.annotate(text=text2,xy=(0.75,0.5),xycoords='axes fraction',\n",
    "            ha=\"center\", va=\"center\",fontsize=10)\n",
    "_,p=stats.fisher_exact(plt_df)\n",
    "print(\"p= %.2e\"%p)"
   ]
  },
  {
   "cell_type": "code",
   "execution_count": 60,
   "metadata": {},
   "outputs": [
    {
     "data": {
      "text/plain": [
       "(41, 16)"
      ]
     },
     "execution_count": 60,
     "metadata": {},
     "output_type": "execute_result"
    }
   ],
   "source": [
    "df_sel=df[ df[\"Cancertype3\"]==\"0.Others\"]\n",
    "df_sel.shape"
   ]
  },
  {
   "cell_type": "code",
   "execution_count": 61,
   "metadata": {},
   "outputs": [
    {
     "name": "stdout",
     "output_type": "stream",
     "text": [
      "p= 2.91e-01\n"
     ]
    },
    {
     "data": {
      "image/png": "[encoded data removed]",
      "text/plain": [
       "<Figure size 450x600 with 1 Axes>"
      ]
     },
     "metadata": {},
     "output_type": "display_data"
    }
   ],
   "source": [
    "fig=plt.figure(figsize=(1.5,2))\n",
    "ax=fig.add_subplot(111)\n",
    "\n",
    "input_df=df_sel.copy()\n",
    "input_df=input_df[input_df[\"Cons\"]!=\"UND\"]\n",
    "plt_df=pd.crosstab(input_df[\"TGS\"],input_df[\"OR\"])\n",
    "plt_df=plt_df.loc[:,[1.0,0.0]]\n",
    "plt_df.plot.bar(stacked=True,ax=ax,color=[\"red\",\"grey\"])\n",
    "\n",
    "ax.set_xlabel('')\n",
    "ax.set_ylabel('')\n",
    "ax.set_xticklabels([\"GS high\",\"GS low\"], rotation=0, fontsize=8)\n",
    "ax.tick_params(labelsize=8)\n",
    "ax.legend([])\n",
    "ax.spines['right'].set_visible(False)\n",
    "ax.spines['top'].set_visible(False)\n",
    "\n",
    "plt_df2=plt_df[1]/ np.sum( plt_df,axis=1)*100\n",
    "text1=\"{:.3g}\".format(plt_df2[0] )\n",
    "text2=\"{:.3g}\".format(plt_df2[1] )\n",
    "ax.annotate(text=text1,xy=(0.25,1),xycoords='axes fraction',\n",
    "            ha=\"center\", va=\"center\",fontsize=10)\n",
    "ax.annotate(text=text2,xy=(0.75,0.5),xycoords='axes fraction',\n",
    "            ha=\"center\", va=\"center\",fontsize=10)\n",
    "_,p=stats.fisher_exact(plt_df)\n",
    "print(\"p= %.2e\"%p)"
   ]
  },
  {
   "cell_type": "markdown",
   "metadata": {},
   "source": [
    "# RCC"
   ]
  },
  {
   "cell_type": "code",
   "execution_count": null,
   "metadata": {},
   "outputs": [],
   "source": [
    "ccrcc_2019=pd.read_csv(\"/Users/takamatsushiro/Desktop/pancancer_TMB_MSI_IRS/Data/Validation/Validate_ICIres/RccDfci2019/calculation/ccrcc_dfci_2019_integrated.tsv\"\n",
    "                      ,sep=\"\\t\",index_col=0)\n",
    "ccrcc_2019"
   ]
  },
  {
   "cell_type": "code",
   "execution_count": null,
   "metadata": {
    "scrolled": true
   },
   "outputs": [],
   "source": [
    "pd.crosstab(ccrcc_2019[\"Cons\"],ccrcc_2019[\"OR\"])"
   ]
  },
  {
   "cell_type": "code",
   "execution_count": null,
   "metadata": {},
   "outputs": [],
   "source": [
    "pd.crosstab(ccrcc_2019[\"Cons\"],ccrcc_2019[\"OR_im\"])"
   ]
  },
  {
   "cell_type": "code",
   "execution_count": null,
   "metadata": {},
   "outputs": [],
   "source": [
    "rcc_phs=pd.read_csv(\"/Users/takamatsushiro/Desktop/pancancer_TMB_MSI_IRS/Data/Validation/Validate_ICIres/phs001493_c12/calculation/RCC_phs001493_integrated.tsv\"\n",
    "                   ,sep=\"\\t\",index_col=0)\n",
    "rcc_phs"
   ]
  },
  {
   "cell_type": "code",
   "execution_count": null,
   "metadata": {},
   "outputs": [],
   "source": [
    "pd.crosstab(rcc_phs[\"Cons\"],rcc_phs[\"OR_benefit\"])"
   ]
  }
 ],
 "metadata": {
  "kernelspec": {
   "display_name": "Python 3",
   "language": "python",
   "name": "python3"
  },
  "language_info": {
   "codemirror_mode": {
    "name": "ipython",
    "version": 3
   },
   "file_extension": ".py",
   "mimetype": "text/x-python",
   "name": "python",
   "nbconvert_exporter": "python",
   "pygments_lexer": "ipython3",
   "version": "3.7.4"
  },
  "toc": {
   "base_numbering": 1,
   "nav_menu": {},
   "number_sections": true,
   "sideBar": true,
   "skip_h1_title": false,
   "title_cell": "Table of Contents",
   "title_sidebar": "Contents",
   "toc_cell": false,
   "toc_position": {
    "height": "calc(100% - 180px)",
    "left": "10px",
    "top": "150px",
    "width": "478.125px"
   },
   "toc_section_display": true,
   "toc_window_display": true
  }
 },
 "nbformat": 4,
 "nbformat_minor": 4
}
