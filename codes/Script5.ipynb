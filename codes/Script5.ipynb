{
 "cells": [
  {
   "cell_type": "markdown",
   "id": "unsigned-norfolk",
   "metadata": {},
   "source": [
    "# Evaluate classification results per cancer type, Figure2"
   ]
  },
  {
   "cell_type": "code",
   "execution_count": 2,
   "id": "eastern-progress",
   "metadata": {},
   "outputs": [],
   "source": [
    "import numpy as np\n",
    "import pandas as pd \n",
    "import matplotlib.pyplot as plt\n",
    "%matplotlib inline\n",
    "import seaborn as sns\n",
    "sns.set()\n",
    "from scipy import stats\n",
    "import sys,os\n",
    "from collections import defaultdict, Counter\n",
    "from matplotlib import patches\n",
    "from matplotlib.colors import LinearSegmentedColormap"
   ]
  },
  {
   "cell_type": "code",
   "execution_count": 3,
   "id": "artificial-philosophy",
   "metadata": {},
   "outputs": [
    {
     "name": "stdout",
     "output_type": "stream",
     "text": [
      "3.7.4 (default, Jan  6 2021, 18:10:47) \n",
      "[Clang 11.0.3 (clang-1103.0.32.29)]\n"
     ]
    }
   ],
   "source": [
    "print(sys.version)"
   ]
  },
  {
   "cell_type": "code",
   "execution_count": 4,
   "id": "hidden-pharmacology",
   "metadata": {},
   "outputs": [
    {
     "name": "stdout",
     "output_type": "stream",
     "text": [
      "\u001b[01;31m\u001b[Kmatplotlib\u001b[m\u001b[K                        3.3.4\n",
      "\u001b[01;31m\u001b[Knumpy\u001b[m\u001b[K                             1.19.5\n",
      "\u001b[01;31m\u001b[Kpandas\u001b[m\u001b[K                            1.2.3\n",
      "\u001b[01;31m\u001b[Kscipy\u001b[m\u001b[K                             1.6.1\n",
      "\u001b[01;31m\u001b[Kseaborn\u001b[m\u001b[K                           0.11.1\n",
      "\u001b[33mWARNING: You are using pip version 21.0.1; however, version 21.2.4 is available.\n",
      "You should consider upgrading via the '/Users/takamatsushiro/.pyenv/versions/3.7.4/envs/MSigPred_2021/bin/python3.7 -m pip install --upgrade pip' command.\u001b[0m\n",
      "Note: you may need to restart the kernel to use updated packages.\n"
     ]
    }
   ],
   "source": [
    "%pip list | grep -e \"numpy\" -e \"pandas\" -e \"matplotlib\" -e \"scipy\" -e \"seaborn\""
   ]
  },
  {
   "cell_type": "code",
   "execution_count": 5,
   "id": "broad-advocate",
   "metadata": {},
   "outputs": [],
   "source": [
    "plt.style.use('seaborn-white')\n",
    "plt.rcParams['figure.figsize']=4,3\n",
    "plt.rcParams['figure.dpi']=300\n",
    "plt.rcParams['axes.linewidth'] =0.5\n",
    "plt.rcParams['lines.linewidth'] =0.5\n",
    "pd.set_option('display.max_columns', 100)\n",
    "pd.set_option('display.max_rows', 100)\n",
    "\n",
    "# set font size\n",
    "SMALL_SIZE = 7\n",
    "MEDIUM_SIZE = 8\n",
    "LARGE_SIZE = 10\n",
    "BIGGER_SIZE = 12\n",
    "\n",
    "plt.rc('font', size=LARGE_SIZE)          # controls default text sizes\n",
    "plt.rc('axes', titlesize=MEDIUM_SIZE)     # fontsize of the axes title\n",
    "plt.rc('axes', labelsize=MEDIUM_SIZE)    # fontsize of the x and y labels\n",
    "plt.rc('axes', linewidth=0.5) \n",
    "plt.rc('xtick', labelsize=SMALL_SIZE)    # fontsize of the tick labels\n",
    "plt.rc('ytick', labelsize=SMALL_SIZE)    # fontsize of the tick labels\n",
    "plt.rc('legend', fontsize=MEDIUM_SIZE)    # legend fontsize\n",
    "plt.rc('figure', titlesize=BIGGER_SIZE)  "
   ]
  },
  {
   "cell_type": "code",
   "execution_count": 6,
   "id": "golden-sweet",
   "metadata": {},
   "outputs": [],
   "source": [
    "store=\"../results/\""
   ]
  },
  {
   "cell_type": "code",
   "execution_count": 9,
   "id": "lesbian-pennsylvania",
   "metadata": {},
   "outputs": [],
   "source": [
    "# import data\n",
    "df=pd.read_csv(\"../data/TCGA_integrated_data_after_clustering.tsv\"\n",
    "               ,sep=\"\\t\",index_col=0)"
   ]
  },
  {
   "cell_type": "code",
   "execution_count": 10,
   "id": "fifty-nothing",
   "metadata": {},
   "outputs": [],
   "source": [
    "cluster_colors=['red', 'blue', 'green', \"brown\", 'purple', 'hotpink',\"c\",'y']\n",
    "dict_cluster_colors={\"SMK\":'red', \"UVL\":'blue', \"APB\":'green', \"POL\":'brown', \"MRD\":'purple',\\\n",
    "                     \"HRD\":'hotpink',\"GNS\":\"c\",\"AGE\":\"y\",np.nan:\"grey\"}\n",
    "cluster_orders=[\"SMK\",\"UVL\",\"APB\",\"POL\",\"MRD\",\"HRD\",\"GNS\",\"AGE\"]\n",
    "dict_cluster_order_number={ \"SMK\":0,\"UVL\":1,\"APB\":2,\"POL\":3,\"MRD\":4,\"HRD\":5,\"GNS\":6,\"AGE\":7,np.nan:8}"
   ]
  },
  {
   "cell_type": "markdown",
   "id": "overhead-meeting",
   "metadata": {},
   "source": [
    "# Compare subtype ratio per cancer type"
   ]
  },
  {
   "cell_type": "code",
   "execution_count": 11,
   "id": "general-norfolk",
   "metadata": {},
   "outputs": [
    {
     "data": {
      "text/html": [
       "<div>\n",
       "<style scoped>\n",
       "    .dataframe tbody tr th:only-of-type {\n",
       "        vertical-align: middle;\n",
       "    }\n",
       "\n",
       "    .dataframe tbody tr th {\n",
       "        vertical-align: top;\n",
       "    }\n",
       "\n",
       "    .dataframe thead th {\n",
       "        text-align: right;\n",
       "    }\n",
       "</style>\n",
       "<table border=\"1\" class=\"dataframe\">\n",
       "  <thead>\n",
       "    <tr style=\"text-align: right;\">\n",
       "      <th>CancerType</th>\n",
       "      <th>ACC</th>\n",
       "      <th>BLCA</th>\n",
       "      <th>BRCA</th>\n",
       "      <th>CESC</th>\n",
       "      <th>CHOL</th>\n",
       "      <th>CRC</th>\n",
       "      <th>ESCA</th>\n",
       "      <th>GBM</th>\n",
       "      <th>HNSC</th>\n",
       "      <th>KICH</th>\n",
       "      <th>KIRC</th>\n",
       "      <th>KIRP</th>\n",
       "      <th>LGG</th>\n",
       "      <th>LIHC</th>\n",
       "      <th>LUAD</th>\n",
       "      <th>LUSC</th>\n",
       "      <th>MESO</th>\n",
       "      <th>OV</th>\n",
       "      <th>PAAD</th>\n",
       "      <th>PCPG</th>\n",
       "      <th>PRAD</th>\n",
       "      <th>SARC</th>\n",
       "      <th>SKCM</th>\n",
       "      <th>STAD</th>\n",
       "      <th>TGCT</th>\n",
       "      <th>THCA</th>\n",
       "      <th>UCEC</th>\n",
       "      <th>UCS</th>\n",
       "      <th>UVM</th>\n",
       "    </tr>\n",
       "    <tr>\n",
       "      <th>cluster_m2_names</th>\n",
       "      <th></th>\n",
       "      <th></th>\n",
       "      <th></th>\n",
       "      <th></th>\n",
       "      <th></th>\n",
       "      <th></th>\n",
       "      <th></th>\n",
       "      <th></th>\n",
       "      <th></th>\n",
       "      <th></th>\n",
       "      <th></th>\n",
       "      <th></th>\n",
       "      <th></th>\n",
       "      <th></th>\n",
       "      <th></th>\n",
       "      <th></th>\n",
       "      <th></th>\n",
       "      <th></th>\n",
       "      <th></th>\n",
       "      <th></th>\n",
       "      <th></th>\n",
       "      <th></th>\n",
       "      <th></th>\n",
       "      <th></th>\n",
       "      <th></th>\n",
       "      <th></th>\n",
       "      <th></th>\n",
       "      <th></th>\n",
       "      <th></th>\n",
       "    </tr>\n",
       "  </thead>\n",
       "  <tbody>\n",
       "    <tr>\n",
       "      <th>SMK</th>\n",
       "      <td>4.347826</td>\n",
       "      <td>5.339806</td>\n",
       "      <td>2.030457</td>\n",
       "      <td>1.384083</td>\n",
       "      <td>4.444444</td>\n",
       "      <td>1.688555</td>\n",
       "      <td>5.978261</td>\n",
       "      <td>0.769231</td>\n",
       "      <td>12.426036</td>\n",
       "      <td>0.000000</td>\n",
       "      <td>2.678571</td>\n",
       "      <td>3.914591</td>\n",
       "      <td>0.000000</td>\n",
       "      <td>38.736264</td>\n",
       "      <td>65.048544</td>\n",
       "      <td>78.861789</td>\n",
       "      <td>0.000000</td>\n",
       "      <td>5.747126</td>\n",
       "      <td>0.000000</td>\n",
       "      <td>0.000000</td>\n",
       "      <td>0.000000</td>\n",
       "      <td>2.953586</td>\n",
       "      <td>0.856531</td>\n",
       "      <td>1.372998</td>\n",
       "      <td>0.00000</td>\n",
       "      <td>0.000000</td>\n",
       "      <td>1.509434</td>\n",
       "      <td>0.000000</td>\n",
       "      <td>0.00</td>\n",
       "    </tr>\n",
       "    <tr>\n",
       "      <th>UVL</th>\n",
       "      <td>0.000000</td>\n",
       "      <td>0.485437</td>\n",
       "      <td>0.101523</td>\n",
       "      <td>0.000000</td>\n",
       "      <td>0.000000</td>\n",
       "      <td>0.187617</td>\n",
       "      <td>0.000000</td>\n",
       "      <td>0.256410</td>\n",
       "      <td>0.591716</td>\n",
       "      <td>0.000000</td>\n",
       "      <td>0.000000</td>\n",
       "      <td>0.000000</td>\n",
       "      <td>0.000000</td>\n",
       "      <td>0.000000</td>\n",
       "      <td>0.000000</td>\n",
       "      <td>0.609756</td>\n",
       "      <td>0.000000</td>\n",
       "      <td>0.000000</td>\n",
       "      <td>0.000000</td>\n",
       "      <td>0.000000</td>\n",
       "      <td>0.000000</td>\n",
       "      <td>2.109705</td>\n",
       "      <td>82.226981</td>\n",
       "      <td>0.000000</td>\n",
       "      <td>0.00000</td>\n",
       "      <td>0.203252</td>\n",
       "      <td>0.000000</td>\n",
       "      <td>0.000000</td>\n",
       "      <td>0.00</td>\n",
       "    </tr>\n",
       "    <tr>\n",
       "      <th>APB</th>\n",
       "      <td>1.086957</td>\n",
       "      <td>71.359223</td>\n",
       "      <td>15.939086</td>\n",
       "      <td>73.702422</td>\n",
       "      <td>6.666667</td>\n",
       "      <td>1.313321</td>\n",
       "      <td>18.478261</td>\n",
       "      <td>0.000000</td>\n",
       "      <td>37.475345</td>\n",
       "      <td>0.000000</td>\n",
       "      <td>0.297619</td>\n",
       "      <td>1.067616</td>\n",
       "      <td>0.197239</td>\n",
       "      <td>0.274725</td>\n",
       "      <td>5.631068</td>\n",
       "      <td>8.333333</td>\n",
       "      <td>0.000000</td>\n",
       "      <td>0.689655</td>\n",
       "      <td>3.389831</td>\n",
       "      <td>0.000000</td>\n",
       "      <td>0.000000</td>\n",
       "      <td>0.421941</td>\n",
       "      <td>0.214133</td>\n",
       "      <td>1.601831</td>\n",
       "      <td>0.00000</td>\n",
       "      <td>2.439024</td>\n",
       "      <td>5.283019</td>\n",
       "      <td>5.263158</td>\n",
       "      <td>0.00</td>\n",
       "    </tr>\n",
       "    <tr>\n",
       "      <th>POL</th>\n",
       "      <td>0.000000</td>\n",
       "      <td>0.242718</td>\n",
       "      <td>0.203046</td>\n",
       "      <td>0.692042</td>\n",
       "      <td>0.000000</td>\n",
       "      <td>2.439024</td>\n",
       "      <td>0.543478</td>\n",
       "      <td>0.512821</td>\n",
       "      <td>0.000000</td>\n",
       "      <td>0.000000</td>\n",
       "      <td>0.000000</td>\n",
       "      <td>0.000000</td>\n",
       "      <td>0.197239</td>\n",
       "      <td>0.000000</td>\n",
       "      <td>0.000000</td>\n",
       "      <td>0.000000</td>\n",
       "      <td>0.000000</td>\n",
       "      <td>0.000000</td>\n",
       "      <td>0.564972</td>\n",
       "      <td>0.000000</td>\n",
       "      <td>0.202020</td>\n",
       "      <td>0.000000</td>\n",
       "      <td>0.000000</td>\n",
       "      <td>0.457666</td>\n",
       "      <td>0.00000</td>\n",
       "      <td>0.000000</td>\n",
       "      <td>10.188679</td>\n",
       "      <td>1.754386</td>\n",
       "      <td>0.00</td>\n",
       "    </tr>\n",
       "    <tr>\n",
       "      <th>MRD</th>\n",
       "      <td>4.347826</td>\n",
       "      <td>0.000000</td>\n",
       "      <td>0.812183</td>\n",
       "      <td>2.076125</td>\n",
       "      <td>2.222222</td>\n",
       "      <td>13.883677</td>\n",
       "      <td>1.086957</td>\n",
       "      <td>0.769231</td>\n",
       "      <td>0.788955</td>\n",
       "      <td>1.515152</td>\n",
       "      <td>0.297619</td>\n",
       "      <td>0.000000</td>\n",
       "      <td>0.197239</td>\n",
       "      <td>0.549451</td>\n",
       "      <td>0.194175</td>\n",
       "      <td>0.406504</td>\n",
       "      <td>1.219512</td>\n",
       "      <td>0.229885</td>\n",
       "      <td>0.000000</td>\n",
       "      <td>0.000000</td>\n",
       "      <td>0.606061</td>\n",
       "      <td>1.265823</td>\n",
       "      <td>0.214133</td>\n",
       "      <td>18.306636</td>\n",
       "      <td>0.00000</td>\n",
       "      <td>0.000000</td>\n",
       "      <td>26.226415</td>\n",
       "      <td>1.754386</td>\n",
       "      <td>0.00</td>\n",
       "    </tr>\n",
       "    <tr>\n",
       "      <th>HRD</th>\n",
       "      <td>26.086957</td>\n",
       "      <td>9.951456</td>\n",
       "      <td>30.152284</td>\n",
       "      <td>5.882353</td>\n",
       "      <td>33.333333</td>\n",
       "      <td>11.257036</td>\n",
       "      <td>16.304348</td>\n",
       "      <td>20.256410</td>\n",
       "      <td>11.637081</td>\n",
       "      <td>9.090909</td>\n",
       "      <td>52.678571</td>\n",
       "      <td>54.092527</td>\n",
       "      <td>9.861933</td>\n",
       "      <td>24.725275</td>\n",
       "      <td>10.291262</td>\n",
       "      <td>6.707317</td>\n",
       "      <td>43.902439</td>\n",
       "      <td>72.413793</td>\n",
       "      <td>7.909605</td>\n",
       "      <td>2.793296</td>\n",
       "      <td>12.323232</td>\n",
       "      <td>45.147679</td>\n",
       "      <td>4.925054</td>\n",
       "      <td>14.645309</td>\n",
       "      <td>7.03125</td>\n",
       "      <td>5.284553</td>\n",
       "      <td>16.226415</td>\n",
       "      <td>33.333333</td>\n",
       "      <td>10.00</td>\n",
       "    </tr>\n",
       "    <tr>\n",
       "      <th>GNS</th>\n",
       "      <td>18.478261</td>\n",
       "      <td>0.970874</td>\n",
       "      <td>5.583756</td>\n",
       "      <td>0.692042</td>\n",
       "      <td>13.333333</td>\n",
       "      <td>0.375235</td>\n",
       "      <td>0.543478</td>\n",
       "      <td>0.769231</td>\n",
       "      <td>1.775148</td>\n",
       "      <td>19.696970</td>\n",
       "      <td>15.773810</td>\n",
       "      <td>11.032028</td>\n",
       "      <td>5.325444</td>\n",
       "      <td>2.472527</td>\n",
       "      <td>3.106796</td>\n",
       "      <td>1.422764</td>\n",
       "      <td>20.731707</td>\n",
       "      <td>6.896552</td>\n",
       "      <td>9.039548</td>\n",
       "      <td>59.217877</td>\n",
       "      <td>11.717172</td>\n",
       "      <td>7.594937</td>\n",
       "      <td>4.496788</td>\n",
       "      <td>1.372998</td>\n",
       "      <td>71.09375</td>\n",
       "      <td>51.016260</td>\n",
       "      <td>0.943396</td>\n",
       "      <td>0.000000</td>\n",
       "      <td>43.75</td>\n",
       "    </tr>\n",
       "    <tr>\n",
       "      <th>AGE</th>\n",
       "      <td>45.652174</td>\n",
       "      <td>11.650485</td>\n",
       "      <td>45.177665</td>\n",
       "      <td>15.570934</td>\n",
       "      <td>40.000000</td>\n",
       "      <td>68.855535</td>\n",
       "      <td>57.065217</td>\n",
       "      <td>76.666667</td>\n",
       "      <td>35.305720</td>\n",
       "      <td>69.696970</td>\n",
       "      <td>28.273810</td>\n",
       "      <td>29.893238</td>\n",
       "      <td>84.220907</td>\n",
       "      <td>33.241758</td>\n",
       "      <td>15.728155</td>\n",
       "      <td>3.658537</td>\n",
       "      <td>34.146341</td>\n",
       "      <td>14.022989</td>\n",
       "      <td>79.096045</td>\n",
       "      <td>37.988827</td>\n",
       "      <td>75.151515</td>\n",
       "      <td>40.506329</td>\n",
       "      <td>7.066381</td>\n",
       "      <td>62.242563</td>\n",
       "      <td>21.87500</td>\n",
       "      <td>41.056911</td>\n",
       "      <td>39.622642</td>\n",
       "      <td>57.894737</td>\n",
       "      <td>46.25</td>\n",
       "    </tr>\n",
       "  </tbody>\n",
       "</table>\n",
       "</div>"
      ],
      "text/plain": [
       "CancerType              ACC       BLCA       BRCA       CESC       CHOL  \\\n",
       "cluster_m2_names                                                          \n",
       "SMK                4.347826   5.339806   2.030457   1.384083   4.444444   \n",
       "UVL                0.000000   0.485437   0.101523   0.000000   0.000000   \n",
       "APB                1.086957  71.359223  15.939086  73.702422   6.666667   \n",
       "POL                0.000000   0.242718   0.203046   0.692042   0.000000   \n",
       "MRD                4.347826   0.000000   0.812183   2.076125   2.222222   \n",
       "HRD               26.086957   9.951456  30.152284   5.882353  33.333333   \n",
       "GNS               18.478261   0.970874   5.583756   0.692042  13.333333   \n",
       "AGE               45.652174  11.650485  45.177665  15.570934  40.000000   \n",
       "\n",
       "CancerType              CRC       ESCA        GBM       HNSC       KICH  \\\n",
       "cluster_m2_names                                                          \n",
       "SMK                1.688555   5.978261   0.769231  12.426036   0.000000   \n",
       "UVL                0.187617   0.000000   0.256410   0.591716   0.000000   \n",
       "APB                1.313321  18.478261   0.000000  37.475345   0.000000   \n",
       "POL                2.439024   0.543478   0.512821   0.000000   0.000000   \n",
       "MRD               13.883677   1.086957   0.769231   0.788955   1.515152   \n",
       "HRD               11.257036  16.304348  20.256410  11.637081   9.090909   \n",
       "GNS                0.375235   0.543478   0.769231   1.775148  19.696970   \n",
       "AGE               68.855535  57.065217  76.666667  35.305720  69.696970   \n",
       "\n",
       "CancerType             KIRC       KIRP        LGG       LIHC       LUAD  \\\n",
       "cluster_m2_names                                                          \n",
       "SMK                2.678571   3.914591   0.000000  38.736264  65.048544   \n",
       "UVL                0.000000   0.000000   0.000000   0.000000   0.000000   \n",
       "APB                0.297619   1.067616   0.197239   0.274725   5.631068   \n",
       "POL                0.000000   0.000000   0.197239   0.000000   0.000000   \n",
       "MRD                0.297619   0.000000   0.197239   0.549451   0.194175   \n",
       "HRD               52.678571  54.092527   9.861933  24.725275  10.291262   \n",
       "GNS               15.773810  11.032028   5.325444   2.472527   3.106796   \n",
       "AGE               28.273810  29.893238  84.220907  33.241758  15.728155   \n",
       "\n",
       "CancerType             LUSC       MESO         OV       PAAD       PCPG  \\\n",
       "cluster_m2_names                                                          \n",
       "SMK               78.861789   0.000000   5.747126   0.000000   0.000000   \n",
       "UVL                0.609756   0.000000   0.000000   0.000000   0.000000   \n",
       "APB                8.333333   0.000000   0.689655   3.389831   0.000000   \n",
       "POL                0.000000   0.000000   0.000000   0.564972   0.000000   \n",
       "MRD                0.406504   1.219512   0.229885   0.000000   0.000000   \n",
       "HRD                6.707317  43.902439  72.413793   7.909605   2.793296   \n",
       "GNS                1.422764  20.731707   6.896552   9.039548  59.217877   \n",
       "AGE                3.658537  34.146341  14.022989  79.096045  37.988827   \n",
       "\n",
       "CancerType             PRAD       SARC       SKCM       STAD      TGCT  \\\n",
       "cluster_m2_names                                                         \n",
       "SMK                0.000000   2.953586   0.856531   1.372998   0.00000   \n",
       "UVL                0.000000   2.109705  82.226981   0.000000   0.00000   \n",
       "APB                0.000000   0.421941   0.214133   1.601831   0.00000   \n",
       "POL                0.202020   0.000000   0.000000   0.457666   0.00000   \n",
       "MRD                0.606061   1.265823   0.214133  18.306636   0.00000   \n",
       "HRD               12.323232  45.147679   4.925054  14.645309   7.03125   \n",
       "GNS               11.717172   7.594937   4.496788   1.372998  71.09375   \n",
       "AGE               75.151515  40.506329   7.066381  62.242563  21.87500   \n",
       "\n",
       "CancerType             THCA       UCEC        UCS    UVM  \n",
       "cluster_m2_names                                          \n",
       "SMK                0.000000   1.509434   0.000000   0.00  \n",
       "UVL                0.203252   0.000000   0.000000   0.00  \n",
       "APB                2.439024   5.283019   5.263158   0.00  \n",
       "POL                0.000000  10.188679   1.754386   0.00  \n",
       "MRD                0.000000  26.226415   1.754386   0.00  \n",
       "HRD                5.284553  16.226415  33.333333  10.00  \n",
       "GNS               51.016260   0.943396   0.000000  43.75  \n",
       "AGE               41.056911  39.622642  57.894737  46.25  "
      ]
     },
     "execution_count": 11,
     "metadata": {},
     "output_type": "execute_result"
    }
   ],
   "source": [
    "tcga_count=pd.crosstab(df[\"cluster_m2_names\"],df[\"CancerType\"])\n",
    "tcga_count=tcga_count.reindex(cluster_orders,axis=0).fillna(0)\n",
    "tcga_ratio=tcga_count.apply(lambda x: x/np.sum(x) )*100\n",
    "tcga_ratio"
   ]
  },
  {
   "cell_type": "code",
   "execution_count": 12,
   "id": "figured-learning",
   "metadata": {},
   "outputs": [],
   "source": [
    "# make cancer colors\n",
    "rgbs1=sns.color_palette(\"tab20\", 20)\n",
    "rgbs2=sns.color_palette(\"tab20b\", 20)\n",
    "rgbs1_3=[] \n",
    "for i,x in enumerate(rgbs1):\n",
    "    if (i%4)!=0:\n",
    "        rgbs1_3.append(x)\n",
    "rgbs2_3=[] \n",
    "for i,x in enumerate(rgbs2):\n",
    "    if (i%4)!=0:\n",
    "        rgbs2_3.append(x)\n",
    "\n",
    "cancer30_colors = sns.color_palette(rgbs1_3+rgbs2_3, 30)"
   ]
  },
  {
   "cell_type": "code",
   "execution_count": 13,
   "id": "perceived-silly",
   "metadata": {},
   "outputs": [],
   "source": [
    "cancers_freq_order=[x[0] for x in Counter( df[\"CancerType\"]).most_common()]"
   ]
  },
  {
   "cell_type": "code",
   "execution_count": 14,
   "id": "german-philadelphia",
   "metadata": {},
   "outputs": [],
   "source": [
    "dict_cancer_colors={ cancer:color for cancer,color in zip(cancers_freq_order,cancer30_colors)}\n",
    "dict_cancer_colors[\"Others\"]=\"whitesmoke\"\n",
    "dict_cancer_colors[\"\"]=\"whitesmoke\""
   ]
  },
  {
   "cell_type": "code",
   "execution_count": 15,
   "id": "native-covering",
   "metadata": {},
   "outputs": [],
   "source": [
    "bwr=LinearSegmentedColormap.from_list('bwr', [(0,\"blue\"),(0.5,\"w\"),(1,\"red\")] )\n",
    "wk=LinearSegmentedColormap.from_list('wk', [(0,\"w\"),(1,\"k\")] )\n",
    "wr=LinearSegmentedColormap.from_list('wr', [(0,\"w\"),(1,\"red\")] )"
   ]
  },
  {
   "cell_type": "code",
   "execution_count": 17,
   "id": "understood-inventory",
   "metadata": {},
   "outputs": [
    {
     "data": {
      "text/html": [
       "<div>\n",
       "<style scoped>\n",
       "    .dataframe tbody tr th:only-of-type {\n",
       "        vertical-align: middle;\n",
       "    }\n",
       "\n",
       "    .dataframe tbody tr th {\n",
       "        vertical-align: top;\n",
       "    }\n",
       "\n",
       "    .dataframe thead th {\n",
       "        text-align: right;\n",
       "    }\n",
       "</style>\n",
       "<table border=\"1\" class=\"dataframe\">\n",
       "  <thead>\n",
       "    <tr style=\"text-align: right;\">\n",
       "      <th></th>\n",
       "      <th>CancerType</th>\n",
       "      <th>KNN</th>\n",
       "      <th>SVC</th>\n",
       "      <th>RF</th>\n",
       "      <th>LR</th>\n",
       "      <th>Cons</th>\n",
       "      <th>Details</th>\n",
       "    </tr>\n",
       "  </thead>\n",
       "  <tbody>\n",
       "    <tr>\n",
       "      <th>UCEC12</th>\n",
       "      <td>UCEC</td>\n",
       "      <td>APB</td>\n",
       "      <td>APB</td>\n",
       "      <td>APB</td>\n",
       "      <td>APB</td>\n",
       "      <td>APB</td>\n",
       "      <td>APB:4</td>\n",
       "    </tr>\n",
       "    <tr>\n",
       "      <th>UCEC05</th>\n",
       "      <td>UCEC</td>\n",
       "      <td>POL</td>\n",
       "      <td>POL</td>\n",
       "      <td>POL</td>\n",
       "      <td>POL</td>\n",
       "      <td>POL</td>\n",
       "      <td>POL:4</td>\n",
       "    </tr>\n",
       "    <tr>\n",
       "      <th>UCEC10</th>\n",
       "      <td>UCEC</td>\n",
       "      <td>POL</td>\n",
       "      <td>POL</td>\n",
       "      <td>POL</td>\n",
       "      <td>POL</td>\n",
       "      <td>POL</td>\n",
       "      <td>POL:4</td>\n",
       "    </tr>\n",
       "    <tr>\n",
       "      <th>UCEC13</th>\n",
       "      <td>UCEC</td>\n",
       "      <td>POL</td>\n",
       "      <td>POL</td>\n",
       "      <td>POL</td>\n",
       "      <td>POL</td>\n",
       "      <td>POL</td>\n",
       "      <td>POL:4</td>\n",
       "    </tr>\n",
       "    <tr>\n",
       "      <th>UCEC26</th>\n",
       "      <td>UCEC</td>\n",
       "      <td>POL</td>\n",
       "      <td>POL</td>\n",
       "      <td>POL</td>\n",
       "      <td>POL</td>\n",
       "      <td>POL</td>\n",
       "      <td>POL:4</td>\n",
       "    </tr>\n",
       "  </tbody>\n",
       "</table>\n",
       "</div>"
      ],
      "text/plain": [
       "       CancerType  KNN  SVC   RF   LR Cons Details\n",
       "UCEC12       UCEC  APB  APB  APB  APB  APB   APB:4\n",
       "UCEC05       UCEC  POL  POL  POL  POL  POL   POL:4\n",
       "UCEC10       UCEC  POL  POL  POL  POL  POL   POL:4\n",
       "UCEC13       UCEC  POL  POL  POL  POL  POL   POL:4\n",
       "UCEC26       UCEC  POL  POL  POL  POL  POL   POL:4"
      ]
     },
     "execution_count": 17,
     "metadata": {},
     "output_type": "execute_result"
    }
   ],
   "source": [
    "nbdc=pd.read_csv(\"../data/tgs_results/NBDC_tgs.tsv\",sep=\"\\t\",index_col=0)\n",
    "nbdc.head()"
   ]
  },
  {
   "cell_type": "code",
   "execution_count": 18,
   "id": "accepting-passport",
   "metadata": {},
   "outputs": [
    {
     "data": {
      "text/html": [
       "<div>\n",
       "<style scoped>\n",
       "    .dataframe tbody tr th:only-of-type {\n",
       "        vertical-align: middle;\n",
       "    }\n",
       "\n",
       "    .dataframe tbody tr th {\n",
       "        vertical-align: top;\n",
       "    }\n",
       "\n",
       "    .dataframe thead th {\n",
       "        text-align: right;\n",
       "    }\n",
       "</style>\n",
       "<table border=\"1\" class=\"dataframe\">\n",
       "  <thead>\n",
       "    <tr style=\"text-align: right;\">\n",
       "      <th>CancerType</th>\n",
       "      <th>BRCA</th>\n",
       "      <th>CRC</th>\n",
       "      <th>LUAD</th>\n",
       "      <th>OV</th>\n",
       "      <th>STAD</th>\n",
       "      <th>TNBC</th>\n",
       "      <th>UCEC</th>\n",
       "    </tr>\n",
       "    <tr>\n",
       "      <th>Cons</th>\n",
       "      <th></th>\n",
       "      <th></th>\n",
       "      <th></th>\n",
       "      <th></th>\n",
       "      <th></th>\n",
       "      <th></th>\n",
       "      <th></th>\n",
       "    </tr>\n",
       "  </thead>\n",
       "  <tbody>\n",
       "    <tr>\n",
       "      <th>SMK</th>\n",
       "      <td>0.000000</td>\n",
       "      <td>0.000000</td>\n",
       "      <td>41.463415</td>\n",
       "      <td>0.000000</td>\n",
       "      <td>5.660377</td>\n",
       "      <td>0.000000</td>\n",
       "      <td>0.000000</td>\n",
       "    </tr>\n",
       "    <tr>\n",
       "      <th>UVL</th>\n",
       "      <td>0.000000</td>\n",
       "      <td>0.000000</td>\n",
       "      <td>0.000000</td>\n",
       "      <td>0.000000</td>\n",
       "      <td>0.000000</td>\n",
       "      <td>0.000000</td>\n",
       "      <td>0.000000</td>\n",
       "    </tr>\n",
       "    <tr>\n",
       "      <th>APB</th>\n",
       "      <td>19.354839</td>\n",
       "      <td>0.000000</td>\n",
       "      <td>9.756098</td>\n",
       "      <td>1.639344</td>\n",
       "      <td>5.660377</td>\n",
       "      <td>13.888889</td>\n",
       "      <td>1.470588</td>\n",
       "    </tr>\n",
       "    <tr>\n",
       "      <th>POL</th>\n",
       "      <td>0.000000</td>\n",
       "      <td>1.219512</td>\n",
       "      <td>0.000000</td>\n",
       "      <td>0.000000</td>\n",
       "      <td>0.000000</td>\n",
       "      <td>0.000000</td>\n",
       "      <td>16.176471</td>\n",
       "    </tr>\n",
       "    <tr>\n",
       "      <th>MRD</th>\n",
       "      <td>0.000000</td>\n",
       "      <td>2.439024</td>\n",
       "      <td>0.000000</td>\n",
       "      <td>0.000000</td>\n",
       "      <td>16.981132</td>\n",
       "      <td>0.000000</td>\n",
       "      <td>22.058824</td>\n",
       "    </tr>\n",
       "    <tr>\n",
       "      <th>HRD</th>\n",
       "      <td>29.032258</td>\n",
       "      <td>18.292683</td>\n",
       "      <td>19.512195</td>\n",
       "      <td>90.163934</td>\n",
       "      <td>28.301887</td>\n",
       "      <td>61.111111</td>\n",
       "      <td>4.411765</td>\n",
       "    </tr>\n",
       "    <tr>\n",
       "      <th>GNS</th>\n",
       "      <td>3.225806</td>\n",
       "      <td>0.000000</td>\n",
       "      <td>9.756098</td>\n",
       "      <td>1.639344</td>\n",
       "      <td>0.000000</td>\n",
       "      <td>13.888889</td>\n",
       "      <td>1.470588</td>\n",
       "    </tr>\n",
       "    <tr>\n",
       "      <th>AGE</th>\n",
       "      <td>48.387097</td>\n",
       "      <td>78.048780</td>\n",
       "      <td>19.512195</td>\n",
       "      <td>6.557377</td>\n",
       "      <td>43.396226</td>\n",
       "      <td>11.111111</td>\n",
       "      <td>54.411765</td>\n",
       "    </tr>\n",
       "  </tbody>\n",
       "</table>\n",
       "</div>"
      ],
      "text/plain": [
       "CancerType       BRCA        CRC       LUAD         OV       STAD       TNBC  \\\n",
       "Cons                                                                           \n",
       "SMK          0.000000   0.000000  41.463415   0.000000   5.660377   0.000000   \n",
       "UVL          0.000000   0.000000   0.000000   0.000000   0.000000   0.000000   \n",
       "APB         19.354839   0.000000   9.756098   1.639344   5.660377  13.888889   \n",
       "POL          0.000000   1.219512   0.000000   0.000000   0.000000   0.000000   \n",
       "MRD          0.000000   2.439024   0.000000   0.000000  16.981132   0.000000   \n",
       "HRD         29.032258  18.292683  19.512195  90.163934  28.301887  61.111111   \n",
       "GNS          3.225806   0.000000   9.756098   1.639344   0.000000  13.888889   \n",
       "AGE         48.387097  78.048780  19.512195   6.557377  43.396226  11.111111   \n",
       "\n",
       "CancerType       UCEC  \n",
       "Cons                   \n",
       "SMK          0.000000  \n",
       "UVL          0.000000  \n",
       "APB          1.470588  \n",
       "POL         16.176471  \n",
       "MRD         22.058824  \n",
       "HRD          4.411765  \n",
       "GNS          1.470588  \n",
       "AGE         54.411765  "
      ]
     },
     "execution_count": 18,
     "metadata": {},
     "output_type": "execute_result"
    }
   ],
   "source": [
    "nbdc_count=pd.crosstab( nbdc[\"Cons\"], nbdc[\"CancerType\"])\n",
    "nbdc_count.drop(\"UND\",inplace=True)\n",
    "nbdc_count=nbdc_count.reindex(cluster_orders,axis=0).fillna(0)\n",
    "nbdc_ratio=nbdc_count.apply(lambda x: x/np.sum(x) )*100\n",
    "nbdc_ratio"
   ]
  },
  {
   "cell_type": "code",
   "execution_count": 19,
   "id": "charming-spelling",
   "metadata": {},
   "outputs": [],
   "source": [
    "cptac=pd.read_csv(\"../data/CPTAC_tgs_irs.tsv\",sep=\"\\t\")"
   ]
  },
  {
   "cell_type": "code",
   "execution_count": 20,
   "id": "tested-advantage",
   "metadata": {},
   "outputs": [
    {
     "data": {
      "text/html": [
       "<div>\n",
       "<style scoped>\n",
       "    .dataframe tbody tr th:only-of-type {\n",
       "        vertical-align: middle;\n",
       "    }\n",
       "\n",
       "    .dataframe tbody tr th {\n",
       "        vertical-align: top;\n",
       "    }\n",
       "\n",
       "    .dataframe thead th {\n",
       "        text-align: right;\n",
       "    }\n",
       "</style>\n",
       "<table border=\"1\" class=\"dataframe\">\n",
       "  <thead>\n",
       "    <tr style=\"text-align: right;\">\n",
       "      <th>CancerType2</th>\n",
       "      <th>BRCA</th>\n",
       "      <th>BRN</th>\n",
       "      <th>CRC</th>\n",
       "      <th>HNC</th>\n",
       "      <th>OV</th>\n",
       "      <th>KRC</th>\n",
       "      <th>LUAD</th>\n",
       "      <th>LUSC</th>\n",
       "      <th>PAAD</th>\n",
       "      <th>UCEC</th>\n",
       "    </tr>\n",
       "    <tr>\n",
       "      <th>Cons</th>\n",
       "      <th></th>\n",
       "      <th></th>\n",
       "      <th></th>\n",
       "      <th></th>\n",
       "      <th></th>\n",
       "      <th></th>\n",
       "      <th></th>\n",
       "      <th></th>\n",
       "      <th></th>\n",
       "      <th></th>\n",
       "    </tr>\n",
       "  </thead>\n",
       "  <tbody>\n",
       "    <tr>\n",
       "      <th>SMK</th>\n",
       "      <td>0.000000</td>\n",
       "      <td>0.000000</td>\n",
       "      <td>0.980392</td>\n",
       "      <td>13.265306</td>\n",
       "      <td>0.000000</td>\n",
       "      <td>1.0</td>\n",
       "      <td>53.333333</td>\n",
       "      <td>83.333333</td>\n",
       "      <td>0.000000</td>\n",
       "      <td>0.000000</td>\n",
       "    </tr>\n",
       "    <tr>\n",
       "      <th>UVL</th>\n",
       "      <td>0.000000</td>\n",
       "      <td>1.030928</td>\n",
       "      <td>0.000000</td>\n",
       "      <td>4.081633</td>\n",
       "      <td>0.000000</td>\n",
       "      <td>0.0</td>\n",
       "      <td>0.000000</td>\n",
       "      <td>0.000000</td>\n",
       "      <td>0.000000</td>\n",
       "      <td>0.000000</td>\n",
       "    </tr>\n",
       "    <tr>\n",
       "      <th>APB</th>\n",
       "      <td>14.754098</td>\n",
       "      <td>0.000000</td>\n",
       "      <td>0.000000</td>\n",
       "      <td>32.653061</td>\n",
       "      <td>0.000000</td>\n",
       "      <td>0.0</td>\n",
       "      <td>5.714286</td>\n",
       "      <td>2.941176</td>\n",
       "      <td>1.538462</td>\n",
       "      <td>1.020408</td>\n",
       "    </tr>\n",
       "    <tr>\n",
       "      <th>POL</th>\n",
       "      <td>0.000000</td>\n",
       "      <td>0.000000</td>\n",
       "      <td>0.980392</td>\n",
       "      <td>0.000000</td>\n",
       "      <td>1.075269</td>\n",
       "      <td>0.0</td>\n",
       "      <td>0.000000</td>\n",
       "      <td>0.000000</td>\n",
       "      <td>0.000000</td>\n",
       "      <td>8.163265</td>\n",
       "    </tr>\n",
       "    <tr>\n",
       "      <th>MRD</th>\n",
       "      <td>1.639344</td>\n",
       "      <td>1.030928</td>\n",
       "      <td>22.549020</td>\n",
       "      <td>1.020408</td>\n",
       "      <td>1.075269</td>\n",
       "      <td>0.0</td>\n",
       "      <td>0.000000</td>\n",
       "      <td>0.000000</td>\n",
       "      <td>1.538462</td>\n",
       "      <td>27.551020</td>\n",
       "    </tr>\n",
       "    <tr>\n",
       "      <th>HRD</th>\n",
       "      <td>31.967213</td>\n",
       "      <td>7.216495</td>\n",
       "      <td>6.862745</td>\n",
       "      <td>14.285714</td>\n",
       "      <td>73.118280</td>\n",
       "      <td>69.0</td>\n",
       "      <td>10.476190</td>\n",
       "      <td>10.784314</td>\n",
       "      <td>6.923077</td>\n",
       "      <td>5.102041</td>\n",
       "    </tr>\n",
       "    <tr>\n",
       "      <th>GNS</th>\n",
       "      <td>5.737705</td>\n",
       "      <td>1.030928</td>\n",
       "      <td>0.000000</td>\n",
       "      <td>1.020408</td>\n",
       "      <td>0.000000</td>\n",
       "      <td>12.0</td>\n",
       "      <td>5.714286</td>\n",
       "      <td>1.960784</td>\n",
       "      <td>3.846154</td>\n",
       "      <td>2.040816</td>\n",
       "    </tr>\n",
       "    <tr>\n",
       "      <th>AGE</th>\n",
       "      <td>45.901639</td>\n",
       "      <td>89.690722</td>\n",
       "      <td>68.627451</td>\n",
       "      <td>33.673469</td>\n",
       "      <td>24.731183</td>\n",
       "      <td>18.0</td>\n",
       "      <td>24.761905</td>\n",
       "      <td>0.980392</td>\n",
       "      <td>86.153846</td>\n",
       "      <td>56.122449</td>\n",
       "    </tr>\n",
       "  </tbody>\n",
       "</table>\n",
       "</div>"
      ],
      "text/plain": [
       "CancerType2       BRCA        BRN        CRC        HNC         OV   KRC  \\\n",
       "Cons                                                                       \n",
       "SMK           0.000000   0.000000   0.980392  13.265306   0.000000   1.0   \n",
       "UVL           0.000000   1.030928   0.000000   4.081633   0.000000   0.0   \n",
       "APB          14.754098   0.000000   0.000000  32.653061   0.000000   0.0   \n",
       "POL           0.000000   0.000000   0.980392   0.000000   1.075269   0.0   \n",
       "MRD           1.639344   1.030928  22.549020   1.020408   1.075269   0.0   \n",
       "HRD          31.967213   7.216495   6.862745  14.285714  73.118280  69.0   \n",
       "GNS           5.737705   1.030928   0.000000   1.020408   0.000000  12.0   \n",
       "AGE          45.901639  89.690722  68.627451  33.673469  24.731183  18.0   \n",
       "\n",
       "CancerType2       LUAD       LUSC       PAAD       UCEC  \n",
       "Cons                                                     \n",
       "SMK          53.333333  83.333333   0.000000   0.000000  \n",
       "UVL           0.000000   0.000000   0.000000   0.000000  \n",
       "APB           5.714286   2.941176   1.538462   1.020408  \n",
       "POL           0.000000   0.000000   0.000000   8.163265  \n",
       "MRD           0.000000   0.000000   1.538462  27.551020  \n",
       "HRD          10.476190  10.784314   6.923077   5.102041  \n",
       "GNS           5.714286   1.960784   3.846154   2.040816  \n",
       "AGE          24.761905   0.980392  86.153846  56.122449  "
      ]
     },
     "execution_count": 20,
     "metadata": {},
     "output_type": "execute_result"
    }
   ],
   "source": [
    "cptac_count=pd.crosstab(cptac[\"Cons\"],cptac[\"CancerType2\"])\n",
    "cptac_count=cptac_count.reindex(cluster_orders,axis=0).fillna(0)\n",
    "cptac_ratio=cptac_count.apply(lambda x: x/np.sum(x) )*100\n",
    "cptac_ratio.rename(columns={\"HSOC\":\"OV\"},inplace=True)\n",
    "cptac_ratio"
   ]
  },
  {
   "cell_type": "code",
   "execution_count": 21,
   "id": "moral-newman",
   "metadata": {},
   "outputs": [],
   "source": [
    "keynotes=pd.read_csv(\"../data/tgs_results/KEYNOTEs_all_tgs.tsv\",sep=\"\\t\")"
   ]
  },
  {
   "cell_type": "code",
   "execution_count": 23,
   "id": "swedish-seventh",
   "metadata": {},
   "outputs": [],
   "source": [
    "keynotes_s=pd.read_csv(\"../data/tgs_results/KEYNOTEs_HNSC_SKCM_tgs.tsv\",sep=\"\\t\")"
   ]
  },
  {
   "cell_type": "code",
   "execution_count": 24,
   "id": "dated-exploration",
   "metadata": {},
   "outputs": [
    {
     "data": {
      "text/html": [
       "<div>\n",
       "<style scoped>\n",
       "    .dataframe tbody tr th:only-of-type {\n",
       "        vertical-align: middle;\n",
       "    }\n",
       "\n",
       "    .dataframe tbody tr th {\n",
       "        vertical-align: top;\n",
       "    }\n",
       "\n",
       "    .dataframe thead th {\n",
       "        text-align: right;\n",
       "    }\n",
       "</style>\n",
       "<table border=\"1\" class=\"dataframe\">\n",
       "  <thead>\n",
       "    <tr style=\"text-align: right;\">\n",
       "      <th>CancerType</th>\n",
       "      <th>HNSC</th>\n",
       "      <th>SKCM</th>\n",
       "    </tr>\n",
       "    <tr>\n",
       "      <th>Cons</th>\n",
       "      <th></th>\n",
       "      <th></th>\n",
       "    </tr>\n",
       "  </thead>\n",
       "  <tbody>\n",
       "    <tr>\n",
       "      <th>SMK</th>\n",
       "      <td>13.0</td>\n",
       "      <td>0.000000</td>\n",
       "    </tr>\n",
       "    <tr>\n",
       "      <th>UVL</th>\n",
       "      <td>2.0</td>\n",
       "      <td>83.720930</td>\n",
       "    </tr>\n",
       "    <tr>\n",
       "      <th>APB</th>\n",
       "      <td>35.0</td>\n",
       "      <td>0.000000</td>\n",
       "    </tr>\n",
       "    <tr>\n",
       "      <th>POL</th>\n",
       "      <td>0.0</td>\n",
       "      <td>0.000000</td>\n",
       "    </tr>\n",
       "    <tr>\n",
       "      <th>MRD</th>\n",
       "      <td>0.0</td>\n",
       "      <td>0.000000</td>\n",
       "    </tr>\n",
       "    <tr>\n",
       "      <th>HRD</th>\n",
       "      <td>14.0</td>\n",
       "      <td>11.627907</td>\n",
       "    </tr>\n",
       "    <tr>\n",
       "      <th>GNS</th>\n",
       "      <td>0.0</td>\n",
       "      <td>0.000000</td>\n",
       "    </tr>\n",
       "    <tr>\n",
       "      <th>AGE</th>\n",
       "      <td>36.0</td>\n",
       "      <td>4.651163</td>\n",
       "    </tr>\n",
       "  </tbody>\n",
       "</table>\n",
       "</div>"
      ],
      "text/plain": [
       "CancerType  HNSC       SKCM\n",
       "Cons                       \n",
       "SMK         13.0   0.000000\n",
       "UVL          2.0  83.720930\n",
       "APB         35.0   0.000000\n",
       "POL          0.0   0.000000\n",
       "MRD          0.0   0.000000\n",
       "HRD         14.0  11.627907\n",
       "GNS          0.0   0.000000\n",
       "AGE         36.0   4.651163"
      ]
     },
     "execution_count": 24,
     "metadata": {},
     "output_type": "execute_result"
    }
   ],
   "source": [
    "keynotes_count=pd.crosstab(keynotes_s[\"Cons\"],keynotes_s[\"CancerType\"])\n",
    "keynotes_count=keynotes_count.reindex(cluster_orders,axis=0).fillna(0)\n",
    "keynotes_ratio=keynotes_count.apply(lambda x: x/np.sum(x) )*100\n",
    "keynotes_ratio"
   ]
  },
  {
   "cell_type": "code",
   "execution_count": 25,
   "id": "missing-exclusion",
   "metadata": {},
   "outputs": [
    {
     "data": {
      "text/plain": [
       "['nsclc_mskcc_2018',\n",
       " 'NBDC',\n",
       " 'hnsc_mdanderson_2013',\n",
       " 'Plos2017_BLCA',\n",
       " 'brca_broad',\n",
       " 'Cell2017_MEL',\n",
       " 'blca_cornell_2016',\n",
       " 'mixed_allen_2018_mel',\n",
       " 'mixed_allen_2018_lung',\n",
       " 'Science2015_MEL',\n",
       " 'mixed_allen_2018_blca',\n",
       " 'paad_icgc',\n",
       " 'NatMed2019_MEL',\n",
       " 'ccrcc_dfci_2019',\n",
       " 'luad_mskcc_2015',\n",
       " 'hnsc_jhu',\n",
       " 'KEYNOTEs_all',\n",
       " 'hnsc_broad',\n",
       " 'Nature2018_BLCA',\n",
       " 'brca_sanger',\n",
       " 'mel_dfci_2019',\n",
       " 'NatCan2020_NSCLC36',\n",
       " 'SciTra2017_MEL',\n",
       " 'Nejm2014_MEL',\n",
       " 'Cell2016_MEL',\n",
       " 'lgg_ucsf_2014',\n",
       " 'blca_bgi',\n",
       " 'luad_oncosg_2020',\n",
       " 'blca_dfarber_mskcc_2014',\n",
       " 'KEYNOTEs_HNSC_SKCM',\n",
       " 'mel_ucla_2016',\n",
       " 'coadread_dfci_2016',\n",
       " 'Science2015_LUAD',\n",
       " 'NatCom2018_NSCLC',\n",
       " 'luad_broad',\n",
       " 'skcm_dfci_2015',\n",
       " 'coadread_genentech',\n",
       " 'paad_utsw_2015']"
      ]
     },
     "execution_count": 25,
     "metadata": {},
     "output_type": "execute_result"
    }
   ],
   "source": [
    "import glob\n",
    "files=glob.glob(\"../data/tgs_results/*tgs.tsv\")\n",
    "names=[os.path.basename(x).replace(\"_tgs.tsv\",\"\") for x in files]\n",
    "names"
   ]
  },
  {
   "cell_type": "code",
   "execution_count": 26,
   "id": "special-advertiser",
   "metadata": {},
   "outputs": [],
   "source": [
    "all_ratio, all_count=pd.DataFrame(), pd.DataFrame()\n",
    "for path,name in zip(files,names):\n",
    "    tmp_df=pd.read_csv(path,sep=\"\\t\")\n",
    "    tmp_df.rename(columns={\"Unnamed: 0\":name},inplace=True)\n",
    "    tmp_df=tmp_df[tmp_df[\"Cons\"]!=\"UND\"]\n",
    "    count=tmp_df.groupby(\"Cons\").count()[[name]].reindex(index=cluster_orders).fillna(0)\n",
    "    ratio=count/np.sum(count)*100\n",
    "    all_ratio=pd.concat( [all_ratio,ratio],axis=1)\n",
    "    all_count=pd.concat( [all_count,count],axis=1)"
   ]
  },
  {
   "cell_type": "code",
   "execution_count": 27,
   "id": "german-burning",
   "metadata": {},
   "outputs": [],
   "source": [
    "cancertype=\"LUNG\"\n",
    "dfs=[ tcga_count[[\"LUSC\",\"LUAD\"]],\n",
    "     cptac_count[[\"LUSC\",\"LUAD\"]],\n",
    "     nbdc_count[\"LUAD\"],\n",
    "     all_count[\"NatCan2020_NSCLC36\"],\n",
    "     all_count[\"NatCom2018_NSCLC\"],\n",
    "     all_count[\"Science2015_LUAD\"],\n",
    "     all_count[['luad_broad',\"nsclc_mskcc_2018\",\n",
    "                   'mixed_allen_2018_lung',]]]\n",
    "names=[\"TCGA LUSC\",\"TCGA LUAD\",\"CPTAC LUSC\",\"CPTAC LUAD\",\"NBDC LUAD\",\n",
    "      \"NatCan2020\",\"NatCom2018\",\"Science2015\",\n",
    "       'luad_broad',\"nsclc_mskcc_2018\", 'mixed_allen_2018_lung',]"
   ]
  },
  {
   "cell_type": "code",
   "execution_count": 28,
   "id": "distinct-protection",
   "metadata": {},
   "outputs": [
    {
     "name": "stdout",
     "output_type": "stream",
     "text": [
      "TCGA LUSC [n=492]\n",
      "TCGA LUAD [n=515]\n",
      "CPTAC LUSC [n=102]\n",
      "CPTAC LUAD [n=105]\n",
      "NBDC LUAD [n=41]\n",
      "NatCan2020 [n=36]\n",
      "NatCom2018 [n=34]\n",
      "Science2015 [n=32]\n",
      "luad_broad [n=155]\n",
      "nsclc_mskcc_2018 [n=75]\n",
      "mixed_allen_2018_lung [n=53]\n"
     ]
    },
    {
     "data": {
      "image/png": "[encoded data removed]",
      "text/plain": [
       "<Figure size 540x528 with 1 Axes>"
      ]
     },
     "metadata": {},
     "output_type": "display_data"
    }
   ],
   "source": [
    "input_df=pd.concat(dfs,axis=1)\n",
    "input_df.columns=names\n",
    "for name,val in zip( names,  np.sum(input_df) ):\n",
    "    print(name, \"[n=%.1d]\" %val )\n",
    "input_df=input_df.apply(lambda x: x/np.sum(x) )*100\n",
    "n=input_df.shape[1]\n",
    "fig=plt.figure(figsize=(1.8,0.16*n))\n",
    "ax=fig.add_subplot(111)\n",
    "input_df.T.plot.barh(stacked=True,color=cluster_colors,ax=ax,width=0.9,lw=0)\n",
    "ax.set_xlabel('')\n",
    "ax.set_ylabel('')\n",
    "ax.tick_params(labelsize=6)\n",
    "ax.legend([])\n",
    "ax.invert_yaxis()\n",
    "ax.set_axis_off()\n",
    "#plt.savefig(store+\"Subtype_frequency_comp_\"+cancertype+\".png\",dpi=300,bbox_inches=\"tight\")"
   ]
  },
  {
   "cell_type": "code",
   "execution_count": 29,
   "id": "ongoing-nigeria",
   "metadata": {},
   "outputs": [],
   "source": [
    "cancertype=\"SKCM\"\n",
    "dfs=[ tcga_count[cancertype], \n",
    "     keynotes_count[cancertype],\n",
    "     all_count[\"NatMed2019_MEL\"],\n",
    "     all_count[\"Science2015_MEL\"],\n",
    "     all_count[\"Cell2017_MEL\"],\n",
    "     all_count[\"Nejm2014_MEL\"],  \n",
    "     all_count[\"Cell2016_MEL\"],\n",
    "     all_count[\"mixed_allen_2018_mel\"],\n",
    "     all_count[\"mel_dfci_2019\"],\n",
    "     all_count['skcm_dfci_2015'],\n",
    "     all_count['mel_ucla_2016']]\n",
    "names=[\"TCGA\",\"KEYNOTE\",'NatMed2019',\"Science2015\",\"Cell2017\",\"Nejm2014\",\"Cell2016\",\n",
    "       'mixed_allen_2018_mel',\"mel_dfci_2019\",'skcm_dfci_2015','mel_ucla_2016']"
   ]
  },
  {
   "cell_type": "code",
   "execution_count": 30,
   "id": "junior-immunology",
   "metadata": {},
   "outputs": [
    {
     "name": "stdout",
     "output_type": "stream",
     "text": [
      "TCGA [n=467]\n",
      "KEYNOTE [n=86]\n",
      "NatMed2019 [n=134]\n",
      "Science2015 [n=98]\n",
      "Cell2017 [n=62]\n",
      "Nejm2014 [n=62]\n",
      "Cell2016 [n=36]\n",
      "mixed_allen_2018_mel [n=145]\n",
      "mel_dfci_2019 [n=139]\n",
      "skcm_dfci_2015 [n=108]\n",
      "mel_ucla_2016 [n=37]\n"
     ]
    },
    {
     "data": {
      "image/png": "[encoded data removed]",
      "text/plain": [
       "<Figure size 540x528 with 1 Axes>"
      ]
     },
     "metadata": {},
     "output_type": "display_data"
    }
   ],
   "source": [
    "input_df=pd.concat(dfs,axis=1)\n",
    "input_df.columns=names\n",
    "for name,val in zip( names,  np.sum(input_df) ):\n",
    "    print(name, \"[n=%.1d]\" %val )\n",
    "input_df=input_df.apply(lambda x: x/np.sum(x) )*100\n",
    "n=input_df.shape[1]\n",
    "fig=plt.figure(figsize=(1.8,0.16*n))\n",
    "ax=fig.add_subplot(111)\n",
    "input_df.T.plot.barh(stacked=True,color=cluster_colors,ax=ax,width=0.9,lw=0)\n",
    "ax.set_xlabel('')\n",
    "ax.set_ylabel('')\n",
    "ax.tick_params(labelsize=6)\n",
    "ax.legend([])\n",
    "ax.invert_yaxis()\n",
    "ax.set_axis_off()"
   ]
  },
  {
   "cell_type": "code",
   "execution_count": 31,
   "id": "requested-leave",
   "metadata": {},
   "outputs": [],
   "source": [
    "cancertype=\"BLCA\"\n",
    "dfs=[ tcga_count[cancertype],\n",
    "     all_count[[\"Nature2018_BLCA\",\"blca_bgi\", 'blca_cornell_2016',\n",
    " 'blca_dfarber_mskcc_2014','mixed_allen_2018_blca']] ] \n",
    "names=[\"TCGA\",\"Nature_2018\",\"blca_bgi\",'blca_cornell_2016', 'blca_dfarber_mskcc_2014'\n",
    "        ,'mixed_allen_2018_blca']"
   ]
  },
  {
   "cell_type": "code",
   "execution_count": 32,
   "id": "furnished-feeding",
   "metadata": {},
   "outputs": [
    {
     "name": "stdout",
     "output_type": "stream",
     "text": [
      "TCGA [n=412]\n",
      "Nature_2018 [n=182]\n",
      "blca_bgi [n=92]\n",
      "blca_cornell_2016 [n=70]\n",
      "blca_dfarber_mskcc_2014 [n=49]\n",
      "mixed_allen_2018_blca [n=25]\n"
     ]
    },
    {
     "data": {
      "image/png": "[encoded data removed]",
      "text/plain": [
       "<Figure size 600x306 with 1 Axes>"
      ]
     },
     "metadata": {},
     "output_type": "display_data"
    }
   ],
   "source": [
    "input_df=pd.concat(dfs,axis=1)\n",
    "input_df.columns=names\n",
    "for name,val in zip( names,  np.sum(input_df) ):\n",
    "    print(name, \"[n=%.1d]\" %val )\n",
    "input_df=input_df.apply(lambda x: x/np.sum(x) )*100\n",
    "n=input_df.shape[1]\n",
    "fig=plt.figure(figsize=(2,0.17*n))\n",
    "ax=fig.add_subplot(111)\n",
    "input_df.T.plot.barh(stacked=True,color=cluster_colors,ax=ax,width=0.9,lw=0)\n",
    "ax.set_xlabel('')\n",
    "ax.set_ylabel('')\n",
    "ax.tick_params(labelsize=6)\n",
    "ax.legend([])\n",
    "ax.invert_yaxis()\n",
    "ax.set_axis_off()"
   ]
  },
  {
   "cell_type": "code",
   "execution_count": 33,
   "id": "digital-duncan",
   "metadata": {},
   "outputs": [
    {
     "name": "stdout",
     "output_type": "stream",
     "text": [
      "TCGA [n=985]\n",
      "CPTAC [n=122]\n",
      "NBDC [n=62]\n",
      "brca_broad [n=98]\n",
      "brca_sanger [n=100]\n"
     ]
    },
    {
     "data": {
      "image/png": "[encoded data removed]",
      "text/plain": [
       "<Figure size 540x240 with 1 Axes>"
      ]
     },
     "metadata": {},
     "output_type": "display_data"
    }
   ],
   "source": [
    "cancertype=\"BRCA\"\n",
    "dfs=[tcga_count[cancertype],\n",
    "     cptac_count[cancertype],\n",
    "     nbdc_count[cancertype],\n",
    "     all_count[['brca_broad','brca_sanger']] ]\n",
    "names=[\"TCGA\",\"CPTAC\",\"NBDC\", 'brca_broad', 'brca_sanger']\n",
    "\n",
    "input_df=pd.concat(dfs,axis=1)\n",
    "input_df.columns=names\n",
    "for name,val in zip( names,  np.sum(input_df) ):\n",
    "    print(name, \"[n=%d]\" %val )\n",
    "input_df=input_df.apply(lambda x: x/np.sum(x) )*100\n",
    "n=input_df.shape[1]\n",
    "fig=plt.figure(figsize=(1.8,0.16*n))\n",
    "ax=fig.add_subplot(111)\n",
    "input_df.T.plot.barh(stacked=True,color=cluster_colors,ax=ax,width=0.9,lw=0)\n",
    "ax.set_xlabel('')\n",
    "ax.set_ylabel('')\n",
    "ax.tick_params(labelsize=6)\n",
    "ax.legend([])\n",
    "ax.invert_yaxis()\n",
    "ax.set_axis_off()"
   ]
  },
  {
   "cell_type": "code",
   "execution_count": 34,
   "id": "decimal-notification",
   "metadata": {},
   "outputs": [
    {
     "name": "stdout",
     "output_type": "stream",
     "text": [
      "TCGA [n=533]\n",
      "CPTAC [n=102]\n",
      "NBDC [n=82]\n",
      "coadread_dfci_2016 [n=616]\n",
      "coadread_genentech [n=72]\n"
     ]
    },
    {
     "data": {
      "image/png": "[encoded data removed]",
      "text/plain": [
       "<Figure size 540x240 with 1 Axes>"
      ]
     },
     "metadata": {},
     "output_type": "display_data"
    }
   ],
   "source": [
    "cancertype=\"CRC\"\n",
    "dfs=[tcga_count[cancertype],\n",
    "     cptac_count[cancertype],\n",
    "     nbdc_count[cancertype],\n",
    "     all_count[[\"coadread_dfci_2016\",'coadread_genentech',]] ]\n",
    "names=[\"TCGA\",\"CPTAC\",\"NBDC\",\n",
    "       \"coadread_dfci_2016\",'coadread_genentech',]\n",
    "\n",
    "input_df=pd.concat(dfs,axis=1)\n",
    "input_df.columns=names\n",
    "for name,val in zip( names,  np.sum(input_df) ):\n",
    "    print(name, \"[n=%.1d]\" %val )\n",
    "input_df=input_df.apply(lambda x: x/np.sum(x) )*100\n",
    "n=input_df.shape[1]\n",
    "fig=plt.figure(figsize=(1.8,0.16*n))\n",
    "ax=fig.add_subplot(111)\n",
    "input_df.T.plot.barh(stacked=True,color=cluster_colors,ax=ax,width=0.9,lw=0)\n",
    "ax.set_xlabel('')\n",
    "ax.set_ylabel('')\n",
    "ax.tick_params(labelsize=6)\n",
    "ax.legend([])\n",
    "ax.invert_yaxis()\n",
    "ax.set_axis_off()"
   ]
  },
  {
   "cell_type": "code",
   "execution_count": 35,
   "id": "minute-thunder",
   "metadata": {},
   "outputs": [
    {
     "name": "stdout",
     "output_type": "stream",
     "text": [
      "HNSC\n",
      "TCGA [n=507]\n",
      "CPTAC [n=98]\n",
      "KEYNOTE [n=100]\n",
      "hnsc_broad [n=72]\n"
     ]
    },
    {
     "data": {
      "image/png": "[encoded data removed]",
      "text/plain": [
       "<Figure size 540x192 with 1 Axes>"
      ]
     },
     "metadata": {},
     "output_type": "display_data"
    }
   ],
   "source": [
    "cancertype=\"HNSC\"\n",
    "dfs=[ tcga_count[cancertype], cptac_count[\"HNC\"],keynotes_count[cancertype],\n",
    "     all_count['hnsc_broad']]\n",
    "names=[\"TCGA\",\"CPTAC\", 'KEYNOTE','hnsc_broad']\n",
    "\n",
    "print(cancertype)\n",
    "input_df=pd.concat(dfs,axis=1)\n",
    "input_df.columns=names\n",
    "for name,val in zip( names,  np.sum(input_df) ):\n",
    "    print(name, \"[n=%.1d]\" %val )\n",
    "input_df=input_df.apply(lambda x: x/np.sum(x) )*100\n",
    "n=input_df.shape[1]\n",
    "fig=plt.figure(figsize=(1.8,0.16*n))\n",
    "ax=fig.add_subplot(111)\n",
    "input_df.T.plot.barh(stacked=True,color=cluster_colors,ax=ax,width=0.9,lw=0)\n",
    "ax.set_xlabel('')\n",
    "ax.set_ylabel('')\n",
    "ax.tick_params(labelsize=6)\n",
    "ax.legend([])\n",
    "ax.invert_yaxis()\n",
    "ax.set_axis_off()"
   ]
  },
  {
   "cell_type": "code",
   "execution_count": 36,
   "id": "funny-dylan",
   "metadata": {},
   "outputs": [
    {
     "name": "stdout",
     "output_type": "stream",
     "text": [
      "RCC\n",
      "TCGA KIRC [n=336]\n",
      "TCGA KIRP [n=281]\n",
      "CPTAC KRC [n=100]\n",
      "ccrcc_dfci_2019 [n=31]\n"
     ]
    },
    {
     "data": {
      "image/png": "[encoded data removed]",
      "text/plain": [
       "<Figure size 540x192 with 1 Axes>"
      ]
     },
     "metadata": {},
     "output_type": "display_data"
    }
   ],
   "source": [
    "cancertype=\"RCC\"\n",
    "dfs=[ tcga_count[\"KIRC\"], tcga_count[\"KIRP\"], cptac_count[\"KRC\"], \n",
    "     all_count['ccrcc_dfci_2019' ]]\n",
    "names=[\"TCGA KIRC\",\"TCGA KIRP\",\"CPTAC KRC\",     \n",
    "       'ccrcc_dfci_2019',]\n",
    "\n",
    "print(cancertype)\n",
    "input_df=pd.concat(dfs,axis=1)\n",
    "input_df.columns=names\n",
    "for name,val in zip( names,  np.sum(input_df) ):\n",
    "    print(name, \"[n=%.1d]\" %val )\n",
    "input_df=input_df.apply(lambda x: x/np.sum(x) )*100\n",
    "n=input_df.shape[1]\n",
    "fig=plt.figure(figsize=(1.8,0.16*n))\n",
    "ax=fig.add_subplot(111)\n",
    "input_df.T.plot.barh(stacked=True,color=cluster_colors,ax=ax,width=0.9,lw=0)\n",
    "ax.set_xlabel('')\n",
    "ax.set_ylabel('')\n",
    "ax.tick_params(labelsize=6)\n",
    "ax.legend([])\n",
    "ax.invert_yaxis()\n",
    "ax.set_axis_off()"
   ]
  },
  {
   "cell_type": "code",
   "execution_count": 37,
   "id": "proved-screening",
   "metadata": {},
   "outputs": [
    {
     "name": "stdout",
     "output_type": "stream",
     "text": [
      "BRN\n",
      "TCGA GBM [n=390]\n",
      "TCGA LGG [n=507]\n",
      "CPTAC BRN [n=97]\n",
      "lgg_ucsf_2014 [n=56]\n"
     ]
    },
    {
     "data": {
      "image/png": "[encoded data removed]",
      "text/plain": [
       "<Figure size 540x192 with 1 Axes>"
      ]
     },
     "metadata": {},
     "output_type": "display_data"
    }
   ],
   "source": [
    "cancertype=\"BRN\"\n",
    "dfs=[ tcga_count[[\"GBM\",\"LGG\"]], cptac_count[\"BRN\"],all_count[[ 'lgg_ucsf_2014',]]]\n",
    "names=[\"TCGA GBM\",\"TCGA LGG\",  \"CPTAC BRN\", 'lgg_ucsf_2014']\n",
    "\n",
    "print(cancertype)\n",
    "input_df=pd.concat(dfs,axis=1)\n",
    "input_df.columns=names\n",
    "for name,val in zip( names,  np.sum(input_df) ):\n",
    "    print(name, \"[n=%.1d]\" %val )\n",
    "input_df=input_df.apply(lambda x: x/np.sum(x) )*100\n",
    "n=input_df.shape[1]\n",
    "fig=plt.figure(figsize=(1.8,0.16*n))\n",
    "ax=fig.add_subplot(111)\n",
    "input_df.T.plot.barh(stacked=True,color=cluster_colors,ax=ax,width=0.9,lw=0)\n",
    "ax.set_xlabel('')\n",
    "ax.set_ylabel('')\n",
    "ax.tick_params(labelsize=6)\n",
    "ax.legend([])\n",
    "ax.invert_yaxis()\n",
    "ax.set_axis_off()"
   ]
  },
  {
   "cell_type": "code",
   "execution_count": 38,
   "id": "olive-huntington",
   "metadata": {},
   "outputs": [
    {
     "name": "stdout",
     "output_type": "stream",
     "text": [
      "PAAD\n",
      "TCGA [n=177]\n",
      "CPTAC [n=130]\n",
      "paad_utsw_2015 [n=106]\n",
      "paad_icgc [n=97]\n"
     ]
    },
    {
     "data": {
      "image/png": "[encoded data removed]",
      "text/plain": [
       "<Figure size 540x192 with 1 Axes>"
      ]
     },
     "metadata": {},
     "output_type": "display_data"
    }
   ],
   "source": [
    "cancertype=\"PAAD\"\n",
    "dfs=[ tcga_count[\"PAAD\"] , cptac_count[\"PAAD\"] ,all_count[['paad_utsw_2015','paad_icgc',]]]\n",
    "names=[\"TCGA\",\"CPTAC\",'paad_utsw_2015',  'paad_icgc', ]\n",
    "\n",
    "print(cancertype)\n",
    "input_df=pd.concat(dfs,axis=1)\n",
    "input_df.columns=names\n",
    "for name,val in zip( names,  np.sum(input_df) ):\n",
    "    print(name, \"[n=%.1d]\" %val )\n",
    "input_df=input_df.apply(lambda x: x/np.sum(x) )*100\n",
    "n=input_df.shape[1]\n",
    "fig=plt.figure(figsize=(1.8,0.16*n))\n",
    "ax=fig.add_subplot(111)\n",
    "input_df.T.plot.barh(stacked=True,color=cluster_colors,ax=ax,width=0.9,lw=0)\n",
    "ax.set_xlabel('')\n",
    "ax.set_ylabel('')\n",
    "ax.tick_params(labelsize=6)\n",
    "ax.legend([])\n",
    "ax.invert_yaxis()\n",
    "ax.set_axis_off()"
   ]
  },
  {
   "cell_type": "code",
   "execution_count": 39,
   "id": "thrown-kernel",
   "metadata": {},
   "outputs": [
    {
     "name": "stdout",
     "output_type": "stream",
     "text": [
      "OV\n",
      "TCGA [n=435]\n",
      "CPTAC [n=93]\n",
      "NBDC [n=61]\n"
     ]
    },
    {
     "data": {
      "image/png": "[encoded data removed]",
      "text/plain": [
       "<Figure size 540x144 with 1 Axes>"
      ]
     },
     "metadata": {},
     "output_type": "display_data"
    }
   ],
   "source": [
    "cancertype=\"OV\"\n",
    "dfs=[ tcga_count[cancertype], cptac_count[\"HSOC\"],nbdc_count[cancertype]]\n",
    "names=[\"TCGA\",\"CPTAC\",  \"NBDC\"]\n",
    "input_df=pd.concat(dfs,axis=1)\n",
    "input_df.columns=names\n",
    "print(cancertype)\n",
    "for name,val in zip( names,  np.sum(input_df) ):\n",
    "    print(name, \"[n=%.1d]\" %val )\n",
    "input_df=input_df.apply(lambda x: x/np.sum(x) )*100\n",
    "n=input_df.shape[1]\n",
    "fig=plt.figure(figsize=(1.8,0.16*n))\n",
    "ax=fig.add_subplot(111)\n",
    "input_df.T.plot.barh(stacked=True,color=cluster_colors,ax=ax,width=0.9,lw=0)\n",
    "ax.set_xlabel('')\n",
    "ax.set_ylabel('')\n",
    "ax.tick_params(labelsize=6)\n",
    "ax.legend([])\n",
    "ax.invert_yaxis()\n",
    "ax.set_axis_off()"
   ]
  },
  {
   "cell_type": "code",
   "execution_count": 40,
   "id": "aging-split",
   "metadata": {},
   "outputs": [
    {
     "name": "stdout",
     "output_type": "stream",
     "text": [
      "TCGA [n=530]\n",
      "CPTAC [n=98]\n",
      "NBDC [n=68]\n"
     ]
    },
    {
     "data": {
      "image/png": "[encoded data removed]",
      "text/plain": [
       "<Figure size 540x144 with 1 Axes>"
      ]
     },
     "metadata": {},
     "output_type": "display_data"
    }
   ],
   "source": [
    "cancertype=\"UCEC\"\n",
    "dfs=[ tcga_count[cancertype], cptac_count[cancertype],nbdc_count[cancertype]]\n",
    "names=[\"TCGA\",\"CPTAC\", \"NBDC\"]\n",
    "input_df=pd.concat(dfs,axis=1)\n",
    "input_df.columns=names\n",
    "for name,val in zip( names,  np.sum(input_df) ):\n",
    "    print(name, \"[n=%.1d]\" %val )\n",
    "input_df=input_df.apply(lambda x: x/np.sum(x) )*100\n",
    "n=input_df.shape[1]\n",
    "fig=plt.figure(figsize=(1.8,0.16*n))\n",
    "ax=fig.add_subplot(111)\n",
    "input_df.T.plot.barh(stacked=True,color=cluster_colors,ax=ax,width=0.9,lw=0)\n",
    "ax.set_xlabel('')\n",
    "ax.set_ylabel('')\n",
    "ax.tick_params(labelsize=6)\n",
    "ax.legend([])\n",
    "ax.invert_yaxis()\n",
    "ax.set_axis_off()"
   ]
  },
  {
   "cell_type": "markdown",
   "id": "immediate-translation",
   "metadata": {},
   "source": [
    "# Concordance ratio"
   ]
  },
  {
   "cell_type": "code",
   "execution_count": 41,
   "id": "complete-brand",
   "metadata": {},
   "outputs": [
    {
     "data": {
      "text/plain": [
       "[(4, 261), (3, 38), (2, 12)]"
      ]
     },
     "execution_count": 41,
     "metadata": {},
     "output_type": "execute_result"
    }
   ],
   "source": [
    "keynotes[\"top_count\"]=[ int( x.split(\",\")[0].split(\":\")[1]) for x in keynotes[\"Details\"]]\n",
    "counter=Counter( keynotes[\"top_count\"]).most_common()\n",
    "counter"
   ]
  },
  {
   "cell_type": "code",
   "execution_count": 42,
   "id": "english-charger",
   "metadata": {},
   "outputs": [
    {
     "name": "stderr",
     "output_type": "stream",
     "text": [
      "/Users/takamatsushiro/.pyenv/versions/3.7.4/envs/MSigPred_2021/lib/python3.7/site-packages/ipykernel_launcher.py:14: MatplotlibDeprecationWarning: Support for passing a radius of None to mean 1 is deprecated since 3.3 and will be removed two minor releases later.\n",
      "  \n"
     ]
    },
    {
     "name": "stdout",
     "output_type": "stream",
     "text": [
      "3.858520900321544\n"
     ]
    },
    {
     "data": {
      "image/png": "[encoded data removed]",
      "text/plain": [
       "<Figure size 600x600 with 1 Axes>"
      ]
     },
     "metadata": {},
     "output_type": "display_data"
    }
   ],
   "source": [
    "# pie chart\n",
    "fig = plt.figure(figsize=(2,2))\n",
    "labels=[\"Match 4\",\"Match 3\",\"\"]\n",
    "labels=[\"\",\"\",\"\"]\n",
    "ax = fig.add_subplot(111)\n",
    "counts=[ x[1] for x in counter ]\n",
    "colors=[\"red\",\"blue\",\"grey\"]\n",
    "ax.pie(counts, labels=labels, colors=colors, autopct=None,\n",
    "                      pctdistance=0.6, shadow=False, labeldistance=1.15,\n",
    "                      startangle=90, radius=None, counterclock=False,\n",
    "                    center=(0, 0),\n",
    "                      frame=False,  data=None,\n",
    "          wedgeprops={'linewidth': 0, 'edgecolor':\"white\"},\n",
    "          textprops={\"size\":8})\n",
    "\n",
    "ax.text(0.5,0.5,\"KEYNOTEs\\n$n=$\"+str(len(keynotes)).format(len(keynotes)),transform=ax.transAxes,fontsize=8,\n",
    "           ha=\"center\",va=\"center\")\n",
    "circle = patches.Circle(xy=(0, 0), radius=0.6, fc='w', ec='w')\n",
    "ax.add_patch(circle)\n",
    "\n",
    "print( counts[2]/np.sum(counts) *100)"
   ]
  },
  {
   "cell_type": "code",
   "execution_count": 43,
   "id": "broken-estate",
   "metadata": {},
   "outputs": [
    {
     "data": {
      "text/plain": [
       "[(4, 953), (3, 94), (2, 44)]"
      ]
     },
     "execution_count": 43,
     "metadata": {},
     "output_type": "execute_result"
    }
   ],
   "source": [
    "cptac[\"top_count\"]=[ int( x.split(\",\")[0].split(\":\")[1]) for x in cptac[\"Details\"] ]\n",
    "counter=Counter( cptac[\"top_count\"]).most_common()\n",
    "counter"
   ]
  },
  {
   "cell_type": "code",
   "execution_count": 44,
   "id": "former-prediction",
   "metadata": {},
   "outputs": [
    {
     "name": "stdout",
     "output_type": "stream",
     "text": [
      "4.032997250229148\n"
     ]
    },
    {
     "name": "stderr",
     "output_type": "stream",
     "text": [
      "/Users/takamatsushiro/.pyenv/versions/3.7.4/envs/MSigPred_2021/lib/python3.7/site-packages/ipykernel_launcher.py:14: MatplotlibDeprecationWarning: Support for passing a radius of None to mean 1 is deprecated since 3.3 and will be removed two minor releases later.\n",
      "  \n"
     ]
    },
    {
     "data": {
      "image/png": "[encoded data removed]",
      "text/plain": [
       "<Figure size 600x600 with 1 Axes>"
      ]
     },
     "metadata": {},
     "output_type": "display_data"
    }
   ],
   "source": [
    "# pie chart\n",
    "fig = plt.figure(figsize=(2,2))\n",
    "labels=[\"Match 4\",\"Match 3\",\"Undeterminable\"]\n",
    "labels=[\"\",\"\",\"\"]\n",
    "ax = fig.add_subplot(111)\n",
    "counts=[ x[1] for x in counter ]\n",
    "colors=[\"red\",\"blue\",\"grey\"]\n",
    "ax.pie(counts, labels=labels, colors=colors, autopct=None,\n",
    "                      pctdistance=0.6, shadow=False, labeldistance=1.15,\n",
    "                      startangle=90, radius=None, counterclock=False,\n",
    "                    center=(0, 0),\n",
    "                      frame=False,  data=None,\n",
    "          wedgeprops={'linewidth': 0, 'edgecolor':\"white\"},\n",
    "          textprops={\"size\":8})\n",
    "\n",
    "ax.text(0.5,0.5,\"CPTAC\\n$n=$\"+str(len(cptac)),transform=ax.transAxes,fontsize=8,\n",
    "           ha=\"center\",va=\"center\")\n",
    "circle = patches.Circle(xy=(0, 0), radius=0.6, fc='w', ec='w')\n",
    "ax.add_patch(circle)\n",
    "\n",
    "print( counts[2]/np.sum(counts) *100)\n",
    "#ax.set_title(\"KEYTNOTEs\",fontsize=10,backgroundcolor=dict_cluster_colors[name],color=\"w\",fontweight=\"bold\")\n",
    "#plt.savefig(store+\"pie_chart_8cluster_cancertype_0.png\",dpi=300,bbox_inches=\"tight\")"
   ]
  },
  {
   "cell_type": "code",
   "execution_count": 45,
   "id": "weekly-rental",
   "metadata": {},
   "outputs": [
    {
     "data": {
      "text/plain": [
       "[(4, 335), (3, 68), (2, 10)]"
      ]
     },
     "execution_count": 45,
     "metadata": {},
     "output_type": "execute_result"
    }
   ],
   "source": [
    "nbdc[\"top_count\"]=[ int( x.split(\",\")[0].split(\":\")[1]) for x in nbdc[\"Details\"] ]\n",
    "counter=Counter( nbdc[\"top_count\"]).most_common()\n",
    "counter"
   ]
  },
  {
   "cell_type": "code",
   "execution_count": 46,
   "id": "underlying-theta",
   "metadata": {},
   "outputs": [
    {
     "name": "stdout",
     "output_type": "stream",
     "text": [
      "2.4213075060532687\n"
     ]
    },
    {
     "name": "stderr",
     "output_type": "stream",
     "text": [
      "/Users/takamatsushiro/.pyenv/versions/3.7.4/envs/MSigPred_2021/lib/python3.7/site-packages/ipykernel_launcher.py:14: MatplotlibDeprecationWarning: Support for passing a radius of None to mean 1 is deprecated since 3.3 and will be removed two minor releases later.\n",
      "  \n"
     ]
    },
    {
     "data": {
      "image/png": "[encoded data removed]",
      "text/plain": [
       "<Figure size 600x600 with 1 Axes>"
      ]
     },
     "metadata": {},
     "output_type": "display_data"
    }
   ],
   "source": [
    "# pie chart\n",
    "fig = plt.figure(figsize=(2,2))\n",
    "labels=[\"Match 4\",\"Match 3\",\"Undeterminable\"]\n",
    "labels=[\"\",\"\",\"\"]\n",
    "ax = fig.add_subplot(111)\n",
    "counts=[ x[1] for x in counter ]\n",
    "colors=[\"red\",\"blue\",\"grey\"]\n",
    "ax.pie(counts, labels=labels, colors=colors, autopct=None,\n",
    "                      pctdistance=0.6, shadow=False, labeldistance=1.15,\n",
    "                      startangle=90, radius=None, counterclock=False,\n",
    "                    center=(0, 0),\n",
    "                      frame=False,  data=None,\n",
    "          wedgeprops={'linewidth': 0, 'edgecolor':\"white\"},\n",
    "          textprops={\"size\":8})\n",
    "\n",
    "ax.text(0.5,0.5,\"NBDC\\n$n=$\"+str(len(nbdc)),transform=ax.transAxes,fontsize=8,\n",
    "           ha=\"center\",va=\"center\")\n",
    "circle = patches.Circle(xy=(0, 0), radius=0.6, fc='w', ec='w')\n",
    "ax.add_patch(circle)\n",
    "\n",
    "print( counts[2]/np.sum(counts) *100)\n",
    "#ax.set_title(\"KEYTNOTEs\",fontsize=10,backgroundcolor=dict_cluster_colors[name],color=\"w\",fontweight=\"bold\")\n",
    "#plt.savefig(store+\"pie_chart_8cluster_cancertype_0.png\",dpi=300,bbox_inches=\"tight\")"
   ]
  },
  {
   "cell_type": "code",
   "execution_count": 47,
   "id": "bored-campbell",
   "metadata": {},
   "outputs": [],
   "source": [
    "cbio_frozen_names=['luad_broad',  'brca_broad', 'brca_sanger',\n",
    "                   'coadread_genentech',\"blca_bgi\",\n",
    "'hnsc_broad','paad_utsw_2015',  'paad_icgc', 'lgg_ucsf_2014']"
   ]
  },
  {
   "cell_type": "code",
   "execution_count": 48,
   "id": "eleven-forum",
   "metadata": {},
   "outputs": [],
   "source": [
    "cbio_ffpe_names=['mixed_allen_2018_mel',\"mel_dfci_2019\",'mel_ucla_2016',\n",
    "                'mixed_allen_2018_lung',\n",
    "                 'blca_cornell_2016', 'blca_dfarber_mskcc_2014'\n",
    "        ,'mixed_allen_2018_blca',\"ccrcc_dfci_2019\", \"coadread_dfci_2016\",]"
   ]
  },
  {
   "cell_type": "code",
   "execution_count": 49,
   "id": "heard-presentation",
   "metadata": {},
   "outputs": [],
   "source": [
    "top_counts=[]\n",
    "for name in cbio_ffpe_names:\n",
    "    path_to_file=\"../data/tgs_results/\"+name+\"_tgs.tsv\"\n",
    "    tmp_df=pd.read_csv(path_to_file,sep=\"\\t\")\n",
    "    tmp_df.rename(columns={\"Unnamed: 0\":name},inplace=True)\n",
    "    top_count=[ int( x.split(\",\")[0].split(\":\")[1]) for x in tmp_df[\"Details\"] ]\n",
    "    top_counts.extend(top_count)"
   ]
  },
  {
   "cell_type": "code",
   "execution_count": 50,
   "id": "turned-relaxation",
   "metadata": {},
   "outputs": [
    {
     "data": {
      "text/plain": [
       "Counter({4: 1112, 3: 53, 2: 27})"
      ]
     },
     "execution_count": 50,
     "metadata": {},
     "output_type": "execute_result"
    }
   ],
   "source": [
    "Counter( top_counts)"
   ]
  },
  {
   "cell_type": "code",
   "execution_count": 51,
   "id": "royal-alliance",
   "metadata": {},
   "outputs": [
    {
     "name": "stdout",
     "output_type": "stream",
     "text": [
      "2.2651006711409396\n"
     ]
    },
    {
     "name": "stderr",
     "output_type": "stream",
     "text": [
      "/Users/takamatsushiro/.pyenv/versions/3.7.4/envs/MSigPred_2021/lib/python3.7/site-packages/ipykernel_launcher.py:15: MatplotlibDeprecationWarning: Support for passing a radius of None to mean 1 is deprecated since 3.3 and will be removed two minor releases later.\n",
      "  from ipykernel import kernelapp as app\n"
     ]
    },
    {
     "data": {
      "image/png": "[encoded data removed]",
      "text/plain": [
       "<Figure size 600x600 with 1 Axes>"
      ]
     },
     "metadata": {},
     "output_type": "display_data"
    }
   ],
   "source": [
    "counter=Counter( top_counts).most_common()\n",
    "# pie chart\n",
    "fig = plt.figure(figsize=(2,2))\n",
    "labels=[\"Match 4\",\"Match 3\",\"Undeterminable\"]\n",
    "labels=[\"\",\"\",\"\"]\n",
    "ax = fig.add_subplot(111)\n",
    "counts=[ x[1] for x in counter ]\n",
    "colors=[\"red\",\"blue\",\"grey\"]\n",
    "ax.pie(counts, labels=labels, colors=colors, autopct=None,\n",
    "                      pctdistance=0.6, shadow=False, labeldistance=1.15,\n",
    "                      startangle=90, radius=None, counterclock=False,\n",
    "                    center=(0, 0),\n",
    "                      frame=False,  data=None,\n",
    "          wedgeprops={'linewidth': 0, 'edgecolor':\"white\"},\n",
    "          textprops={\"size\":8})\n",
    "\n",
    "ax.text(0.5,0.5,\"cBioPortal\\nFFPE\\n$n=$\"+str(len(top_counts)),transform=ax.transAxes,fontsize=8,\n",
    "           ha=\"center\",va=\"center\")\n",
    "circle = patches.Circle(xy=(0, 0), radius=0.6, fc='w', ec='w')\n",
    "ax.add_patch(circle)\n",
    "\n",
    "print( counts[2]/np.sum(counts) *100)"
   ]
  },
  {
   "cell_type": "code",
   "execution_count": 52,
   "id": "alleged-friend",
   "metadata": {},
   "outputs": [
    {
     "name": "stdout",
     "output_type": "stream",
     "text": [
      "3.085714285714286\n"
     ]
    },
    {
     "name": "stderr",
     "output_type": "stream",
     "text": [
      "/Users/takamatsushiro/.pyenv/versions/3.7.4/envs/MSigPred_2021/lib/python3.7/site-packages/ipykernel_launcher.py:24: MatplotlibDeprecationWarning: Support for passing a radius of None to mean 1 is deprecated since 3.3 and will be removed two minor releases later.\n"
     ]
    },
    {
     "data": {
      "image/png": "[encoded data removed]",
      "text/plain": [
       "<Figure size 600x600 with 1 Axes>"
      ]
     },
     "metadata": {},
     "output_type": "display_data"
    }
   ],
   "source": [
    "top_counts=[]\n",
    "for name in cbio_frozen_names:\n",
    "    path_to_file=\"../data/tgs_results/\"+name+\"_tgs.tsv\"\n",
    "    tmp_df=pd.read_csv(path_to_file,sep=\"\\t\")\n",
    "    tmp_df.rename(columns={\"Unnamed: 0\":name},inplace=True)\n",
    "    top_count=[ int( x.split(\",\")[0].split(\":\")[1]) for x in tmp_df[\"Details\"] ]\n",
    "    top_counts.extend(top_count)\n",
    "    \n",
    "counter=Counter( top_counts).most_common()\n",
    "\n",
    "# pie chart\n",
    "fig = plt.figure(figsize=(2,2))\n",
    "labels=[\"Match 4\",\"Match 3\",\"Undeterminable\"]\n",
    "labels=[\"\",\"\",\"\"]\n",
    "ax = fig.add_subplot(111)\n",
    "counts=[ x[1] for x in counter ]\n",
    "colors=[\"red\",\"blue\",\"grey\"]\n",
    "ax.pie(counts, labels=labels, colors=colors, autopct=None,\n",
    "                      pctdistance=0.6, shadow=False, labeldistance=1.15,\n",
    "                      startangle=90, radius=None, counterclock=False,\n",
    "                    center=(0, 0),\n",
    "                      frame=False,  data=None,\n",
    "          wedgeprops={'linewidth': 0, 'edgecolor':\"white\"},\n",
    "          textprops={\"size\":8})\n",
    "\n",
    "ax.text(0.5,0.5,\"cBioPortal\\nFrozen\\n$n=$\"+str(len(top_counts)),transform=ax.transAxes,fontsize=8,\n",
    "           ha=\"center\",va=\"center\")\n",
    "circle = patches.Circle(xy=(0, 0), radius=0.6, fc='w', ec='w')\n",
    "ax.add_patch(circle)\n",
    "\n",
    "print( counts[2]/np.sum(counts) *100)"
   ]
  },
  {
   "cell_type": "markdown",
   "id": "powered-subdivision",
   "metadata": {},
   "source": [
    "# CPTAC gene expression"
   ]
  },
  {
   "cell_type": "code",
   "execution_count": 54,
   "id": "foreign-roads",
   "metadata": {},
   "outputs": [],
   "source": [
    "irs_list=[\"CD8A_log\",\"GZMB_log\",\"IFNG_log\",\"PDCD1_log\",\"CTLA4_log\", \"CYT_log\",\"GEP_score\",]"
   ]
  },
  {
   "cell_type": "code",
   "execution_count": 55,
   "id": "knowing-breakfast",
   "metadata": {},
   "outputs": [],
   "source": [
    "from scipy.cluster.hierarchy import linkage, dendrogram"
   ]
  },
  {
   "cell_type": "code",
   "execution_count": 56,
   "id": "known-radio",
   "metadata": {},
   "outputs": [],
   "source": [
    "cptac_cancer_orders=['LUSC', 'LUAD','HNC', 'UCEC', 'CRC', 'BRCA', 'HSOC', 'BRN',\"PAAD\", 'KRC']"
   ]
  },
  {
   "cell_type": "code",
   "execution_count": 57,
   "id": "bright-digit",
   "metadata": {},
   "outputs": [],
   "source": [
    "for irs in irs_list:\n",
    "    cptac.loc[:,irs+\"_z\"]=stats.zscore(cptac.loc[:,irs],nan_policy=\"omit\")"
   ]
  },
  {
   "cell_type": "code",
   "execution_count": 58,
   "id": "informed-township",
   "metadata": {},
   "outputs": [],
   "source": [
    "irs_list_z=[x+\"_z\" for x in irs_list]"
   ]
  },
  {
   "cell_type": "code",
   "execution_count": 59,
   "id": "smart-cache",
   "metadata": {},
   "outputs": [
    {
     "name": "stdout",
     "output_type": "stream",
     "text": [
      "CD8A\n",
      "GZMB\n",
      "IFNG\n",
      "PDCD1\n",
      "CTLA4\n",
      "CYT\n",
      "GEP_score\n",
      "LUSC\n",
      "LUAD\n",
      "HNC\n",
      "UCEC\n",
      "CRC\n",
      "BRCA\n",
      "HSOC\n",
      "BRN\n",
      "PAAD\n",
      "KRC\n"
     ]
    },
    {
     "data": {
      "image/png": "[encoded data removed]",
      "text/plain": [
       "<Figure size 1950x1260 with 32 Axes>"
      ]
     },
     "metadata": {},
     "output_type": "display_data"
    }
   ],
   "source": [
    "fig = plt.figure(figsize=(6.5,4.2))\n",
    "plt_df=cptac.copy()\n",
    "widths = [ len( plt_df[plt_df[\"Cons\"]==cluster]) for cluster in cluster_orders]\n",
    "heights = [2,0.5, len(irs_list), len(cptac_cancer_orders)]\n",
    "\n",
    "spec = fig.add_gridspec(ncols=len(widths), nrows=len(heights),\n",
    "                        width_ratios=widths, height_ratios=heights, wspace=0.05,hspace=0.1)\n",
    "\n",
    "for i,cluster in enumerate(cluster_orders):\n",
    "    \n",
    "    selected_df=plt_df[ plt_df[\"Cons\"]==cluster]\n",
    "    selected_mutsig=np.log10( selected_df.loc[:, selected_df.columns.str.contains(\"Signature_\")] +1)\n",
    "    z = linkage(selected_mutsig, metric='euclidean', method='ward')\n",
    "    ax = fig.add_subplot(spec[0, i])\n",
    "    with plt.rc_context({'lines.linewidth': 0.5}):\n",
    "        d=dendrogram(z,color_threshold=0,above_threshold_color=dict_cluster_colors[cluster],\n",
    "                 ax=ax, no_labels=True)\n",
    "    ax.set_axis_off()\n",
    "    \n",
    "    selected_df_order= selected_df.iloc[d[\"leaves\"],:]\n",
    "    \n",
    "    ax = fig.add_subplot(spec[2, i])\n",
    "    sns_df=selected_df_order[ irs_list_z]   \n",
    "    mask = np.zeros_like(sns_df)\n",
    "    mask[np.triu_indices_from(mask)] = True    \n",
    "    sns.heatmap(sns_df.T,cmap=bwr, xticklabels=0,yticklabels=0,vmin=-1.5,vmax=1.5,cbar=False,ax=ax) \n",
    "    ax.set_xlabel(\"\")\n",
    "    ax.axhline(y=0, color='k',linewidth=1)\n",
    "    ax.axhline(y=sns_df.shape[1], color='k',linewidth=1)\n",
    "    ax.axvline(x=0, color='k',linewidth=0.5)\n",
    "    ax.axvline(x=sns_df.shape[0], color='k',linewidth=1)\n",
    "    \n",
    "    ax = fig.add_subplot(spec[3, i])\n",
    "    sns_df=pd.get_dummies( selected_df_order[\"CancerType2\"])\n",
    "    sns_df=sns_df.reindex( cptac_cancer_orders,axis=1).fillna(0)\n",
    "    sns.heatmap(sns_df.T,cmap=wk,xticklabels=0,yticklabels=0,cbar=False,ax=ax)\n",
    "    ax.set_xlabel(\"\")\n",
    "    ax.axhline(y=0, color='k',linewidth=1)\n",
    "    ax.axhline(y=sns_df.shape[1], color='k',linewidth=1)\n",
    "    ax.axvline(x=0, color='k',linewidth=0.5)\n",
    "    ax.axvline(x=sns_df.shape[0], color='k',linewidth=1)\n",
    "    \n",
    "    ax = fig.add_subplot(spec[1, i],facecolor =dict_cluster_colors[cluster])\n",
    "    #ax.set_axis_off()\n",
    "    ax.xaxis.set_ticks([])\n",
    "    ax.yaxis.set_ticks([])\n",
    "    \n",
    "for i in irs_list_z:\n",
    "    print(i.replace(\"_z\",\"\").replace(\"_log\",\"\"))\n",
    "for i in cptac_cancer_orders:\n",
    "    print(i)\n",
    "    \n",
    "#plt.savefig(\"20201010/\"+\"CPTAC_cluster_IRS_comp.png\",dpi=300,bbox_inches=\"tight\")"
   ]
  },
  {
   "cell_type": "code",
   "execution_count": 60,
   "id": "prime-rover",
   "metadata": {},
   "outputs": [
    {
     "data": {
      "text/html": [
       "<div>\n",
       "<style scoped>\n",
       "    .dataframe tbody tr th:only-of-type {\n",
       "        vertical-align: middle;\n",
       "    }\n",
       "\n",
       "    .dataframe tbody tr th {\n",
       "        vertical-align: top;\n",
       "    }\n",
       "\n",
       "    .dataframe thead th {\n",
       "        text-align: right;\n",
       "    }\n",
       "</style>\n",
       "<table border=\"1\" class=\"dataframe\">\n",
       "  <thead>\n",
       "    <tr style=\"text-align: right;\">\n",
       "      <th>Cons</th>\n",
       "      <th>SMK</th>\n",
       "      <th>UVL</th>\n",
       "      <th>APB</th>\n",
       "      <th>POL</th>\n",
       "      <th>MRD</th>\n",
       "      <th>HRD</th>\n",
       "      <th>GNS</th>\n",
       "      <th>AGE</th>\n",
       "    </tr>\n",
       "  </thead>\n",
       "  <tbody>\n",
       "    <tr>\n",
       "      <th>CD8A_log_z</th>\n",
       "      <td>0.280395</td>\n",
       "      <td>0.351785</td>\n",
       "      <td>0.366202</td>\n",
       "      <td>0.109416</td>\n",
       "      <td>0.342682</td>\n",
       "      <td>0.141440</td>\n",
       "      <td>0.556382</td>\n",
       "      <td>-0.317221</td>\n",
       "    </tr>\n",
       "    <tr>\n",
       "      <th>GZMB_log_z</th>\n",
       "      <td>0.587766</td>\n",
       "      <td>0.733344</td>\n",
       "      <td>0.548433</td>\n",
       "      <td>0.331670</td>\n",
       "      <td>0.559835</td>\n",
       "      <td>-0.028987</td>\n",
       "      <td>0.001393</td>\n",
       "      <td>-0.352984</td>\n",
       "    </tr>\n",
       "    <tr>\n",
       "      <th>IFNG_log_z</th>\n",
       "      <td>0.564614</td>\n",
       "      <td>1.125475</td>\n",
       "      <td>0.531233</td>\n",
       "      <td>0.447803</td>\n",
       "      <td>0.575599</td>\n",
       "      <td>-0.030006</td>\n",
       "      <td>0.299386</td>\n",
       "      <td>-0.378268</td>\n",
       "    </tr>\n",
       "    <tr>\n",
       "      <th>PDCD1_log_z</th>\n",
       "      <td>0.408366</td>\n",
       "      <td>0.611382</td>\n",
       "      <td>0.426214</td>\n",
       "      <td>0.150611</td>\n",
       "      <td>0.242194</td>\n",
       "      <td>-0.020919</td>\n",
       "      <td>0.486180</td>\n",
       "      <td>-0.264769</td>\n",
       "    </tr>\n",
       "    <tr>\n",
       "      <th>CTLA4_log_z</th>\n",
       "      <td>0.565982</td>\n",
       "      <td>0.463251</td>\n",
       "      <td>0.647953</td>\n",
       "      <td>0.124643</td>\n",
       "      <td>0.245941</td>\n",
       "      <td>-0.158680</td>\n",
       "      <td>0.325899</td>\n",
       "      <td>-0.272199</td>\n",
       "    </tr>\n",
       "    <tr>\n",
       "      <th>CYT_log_z</th>\n",
       "      <td>0.609354</td>\n",
       "      <td>0.775242</td>\n",
       "      <td>0.496322</td>\n",
       "      <td>0.208393</td>\n",
       "      <td>0.431900</td>\n",
       "      <td>-0.030950</td>\n",
       "      <td>0.281988</td>\n",
       "      <td>-0.366940</td>\n",
       "    </tr>\n",
       "    <tr>\n",
       "      <th>GEP_score_z</th>\n",
       "      <td>0.358597</td>\n",
       "      <td>0.876826</td>\n",
       "      <td>0.578086</td>\n",
       "      <td>0.058887</td>\n",
       "      <td>0.282334</td>\n",
       "      <td>0.091581</td>\n",
       "      <td>0.435983</td>\n",
       "      <td>-0.348534</td>\n",
       "    </tr>\n",
       "  </tbody>\n",
       "</table>\n",
       "</div>"
      ],
      "text/plain": [
       "Cons              SMK       UVL       APB       POL       MRD       HRD  \\\n",
       "CD8A_log_z   0.280395  0.351785  0.366202  0.109416  0.342682  0.141440   \n",
       "GZMB_log_z   0.587766  0.733344  0.548433  0.331670  0.559835 -0.028987   \n",
       "IFNG_log_z   0.564614  1.125475  0.531233  0.447803  0.575599 -0.030006   \n",
       "PDCD1_log_z  0.408366  0.611382  0.426214  0.150611  0.242194 -0.020919   \n",
       "CTLA4_log_z  0.565982  0.463251  0.647953  0.124643  0.245941 -0.158680   \n",
       "CYT_log_z    0.609354  0.775242  0.496322  0.208393  0.431900 -0.030950   \n",
       "GEP_score_z  0.358597  0.876826  0.578086  0.058887  0.282334  0.091581   \n",
       "\n",
       "Cons              GNS       AGE  \n",
       "CD8A_log_z   0.556382 -0.317221  \n",
       "GZMB_log_z   0.001393 -0.352984  \n",
       "IFNG_log_z   0.299386 -0.378268  \n",
       "PDCD1_log_z  0.486180 -0.264769  \n",
       "CTLA4_log_z  0.325899 -0.272199  \n",
       "CYT_log_z    0.281988 -0.366940  \n",
       "GEP_score_z  0.435983 -0.348534  "
      ]
     },
     "execution_count": 60,
     "metadata": {},
     "output_type": "execute_result"
    }
   ],
   "source": [
    "plt_df=cptac.copy()\n",
    "mean_by_cluster=plt_df[irs_list_z+[\"Cons\"]].groupby(\"Cons\").mean().T\n",
    "mean_by_cluster=mean_by_cluster.loc[:,cluster_orders]\n",
    "mean_by_cluster"
   ]
  },
  {
   "cell_type": "code",
   "execution_count": 61,
   "id": "dynamic-cyprus",
   "metadata": {},
   "outputs": [
    {
     "data": {
      "text/html": [
       "<div>\n",
       "<style scoped>\n",
       "    .dataframe tbody tr th:only-of-type {\n",
       "        vertical-align: middle;\n",
       "    }\n",
       "\n",
       "    .dataframe tbody tr th {\n",
       "        vertical-align: top;\n",
       "    }\n",
       "\n",
       "    .dataframe thead th {\n",
       "        text-align: right;\n",
       "    }\n",
       "</style>\n",
       "<table border=\"1\" class=\"dataframe\">\n",
       "  <thead>\n",
       "    <tr style=\"text-align: right;\">\n",
       "      <th>Cons</th>\n",
       "      <th>SMK</th>\n",
       "      <th>UVL</th>\n",
       "      <th>APB</th>\n",
       "      <th>POL</th>\n",
       "      <th>MRD</th>\n",
       "      <th>HRD</th>\n",
       "      <th>GNS</th>\n",
       "      <th>AGE</th>\n",
       "    </tr>\n",
       "  </thead>\n",
       "  <tbody>\n",
       "    <tr>\n",
       "      <th>CD8A_log</th>\n",
       "      <td>3.602098</td>\n",
       "      <td>3.672406</td>\n",
       "      <td>3.686605</td>\n",
       "      <td>3.433708</td>\n",
       "      <td>3.663441</td>\n",
       "      <td>3.465247</td>\n",
       "      <td>3.873905</td>\n",
       "      <td>3.013532</td>\n",
       "    </tr>\n",
       "    <tr>\n",
       "      <th>GZMB_log</th>\n",
       "      <td>4.531377</td>\n",
       "      <td>4.714170</td>\n",
       "      <td>4.481989</td>\n",
       "      <td>4.209813</td>\n",
       "      <td>4.496305</td>\n",
       "      <td>3.756959</td>\n",
       "      <td>3.795105</td>\n",
       "      <td>3.350138</td>\n",
       "    </tr>\n",
       "    <tr>\n",
       "      <th>IFNG_log</th>\n",
       "      <td>2.230775</td>\n",
       "      <td>2.804286</td>\n",
       "      <td>2.196641</td>\n",
       "      <td>2.111329</td>\n",
       "      <td>2.242008</td>\n",
       "      <td>1.622743</td>\n",
       "      <td>1.959565</td>\n",
       "      <td>1.266626</td>\n",
       "    </tr>\n",
       "    <tr>\n",
       "      <th>PDCD1_log</th>\n",
       "      <td>3.117732</td>\n",
       "      <td>3.300350</td>\n",
       "      <td>3.133787</td>\n",
       "      <td>2.885874</td>\n",
       "      <td>2.968256</td>\n",
       "      <td>2.731578</td>\n",
       "      <td>3.187728</td>\n",
       "      <td>2.512229</td>\n",
       "    </tr>\n",
       "    <tr>\n",
       "      <th>CTLA4_log</th>\n",
       "      <td>4.602333</td>\n",
       "      <td>4.479651</td>\n",
       "      <td>4.700223</td>\n",
       "      <td>4.075282</td>\n",
       "      <td>4.220137</td>\n",
       "      <td>3.736934</td>\n",
       "      <td>4.315624</td>\n",
       "      <td>3.601369</td>\n",
       "    </tr>\n",
       "    <tr>\n",
       "      <th>CYT_log</th>\n",
       "      <td>4.278736</td>\n",
       "      <td>4.446065</td>\n",
       "      <td>4.164723</td>\n",
       "      <td>3.874293</td>\n",
       "      <td>4.099741</td>\n",
       "      <td>3.632871</td>\n",
       "      <td>3.948528</td>\n",
       "      <td>3.293964</td>\n",
       "    </tr>\n",
       "    <tr>\n",
       "      <th>GEP_score</th>\n",
       "      <td>94.417506</td>\n",
       "      <td>100.560000</td>\n",
       "      <td>97.019081</td>\n",
       "      <td>90.865100</td>\n",
       "      <td>93.513579</td>\n",
       "      <td>91.252617</td>\n",
       "      <td>95.334750</td>\n",
       "      <td>86.036000</td>\n",
       "    </tr>\n",
       "  </tbody>\n",
       "</table>\n",
       "</div>"
      ],
      "text/plain": [
       "Cons             SMK         UVL        APB        POL        MRD        HRD  \\\n",
       "CD8A_log    3.602098    3.672406   3.686605   3.433708   3.663441   3.465247   \n",
       "GZMB_log    4.531377    4.714170   4.481989   4.209813   4.496305   3.756959   \n",
       "IFNG_log    2.230775    2.804286   2.196641   2.111329   2.242008   1.622743   \n",
       "PDCD1_log   3.117732    3.300350   3.133787   2.885874   2.968256   2.731578   \n",
       "CTLA4_log   4.602333    4.479651   4.700223   4.075282   4.220137   3.736934   \n",
       "CYT_log     4.278736    4.446065   4.164723   3.874293   4.099741   3.632871   \n",
       "GEP_score  94.417506  100.560000  97.019081  90.865100  93.513579  91.252617   \n",
       "\n",
       "Cons             GNS        AGE  \n",
       "CD8A_log    3.873905   3.013532  \n",
       "GZMB_log    3.795105   3.350138  \n",
       "IFNG_log    1.959565   1.266626  \n",
       "PDCD1_log   3.187728   2.512229  \n",
       "CTLA4_log   4.315624   3.601369  \n",
       "CYT_log     3.948528   3.293964  \n",
       "GEP_score  95.334750  86.036000  "
      ]
     },
     "execution_count": 61,
     "metadata": {},
     "output_type": "execute_result"
    }
   ],
   "source": [
    "mean_by_cluster_raw=cptac[irs_list+[\"Cons\"]].groupby(\"Cons\").mean().T\n",
    "mean_by_cluster_raw=mean_by_cluster_raw.loc[:,cluster_orders]\n",
    "mean_by_cluster_raw"
   ]
  },
  {
   "cell_type": "code",
   "execution_count": 62,
   "id": "ceramic-allen",
   "metadata": {},
   "outputs": [
    {
     "name": "stdout",
     "output_type": "stream",
     "text": [
      "CD8A_log_z\n",
      "GZMB_log_z\n",
      "IFNG_log_z\n",
      "PDCD1_log_z\n",
      "CTLA4_log_z\n",
      "CYT_log_z\n",
      "GEP_score_z\n"
     ]
    },
    {
     "data": {
      "image/png": "[encoded data removed]",
      "text/plain": [
       "<Figure size 1200x420 with 1 Axes>"
      ]
     },
     "metadata": {},
     "output_type": "display_data"
    }
   ],
   "source": [
    "sns_df=mean_by_cluster\n",
    "annot_df=mean_by_cluster_raw\n",
    "nrow=sns_df.shape[0]\n",
    "fig=plt.figure(figsize=(4,nrow*0.2))\n",
    "ax=fig.add_subplot(111)\n",
    "ylabels=sns_df.index\n",
    "sns.heatmap(sns_df, vmax=1,vmin=-1,\n",
    "           annot=annot_df,\n",
    "          annot_kws={\"fontsize\":7},\n",
    "           cmap=bwr\n",
    "           ,xticklabels=0,yticklabels=0\n",
    "           ,linewidths=0.5, linecolor='k'\n",
    "           ,cbar=False,fmt=\".3g\"\n",
    "           )\n",
    "ax.axvline(x=0, color='k',linewidth=1)\n",
    "ax.axvline(x=sns_df.shape[1], color='k',linewidth=1)\n",
    "ax.axhline(y=0, color='k',linewidth=1)\n",
    "ax.axhline(y=sns_df.shape[0], color='k',linewidth=1)\n",
    "ax.set_xlabel(\"\")\n",
    "for i in sns_df.index:\n",
    "    print(i)"
   ]
  },
  {
   "cell_type": "code",
   "execution_count": null,
   "id": "voluntary-season",
   "metadata": {},
   "outputs": [],
   "source": []
  }
 ],
 "metadata": {
  "kernelspec": {
   "display_name": "Python 3",
   "language": "python",
   "name": "python3"
  },
  "language_info": {
   "codemirror_mode": {
    "name": "ipython",
    "version": 3
   },
   "file_extension": ".py",
   "mimetype": "text/x-python",
   "name": "python",
   "nbconvert_exporter": "python",
   "pygments_lexer": "ipython3",
   "version": "3.7.4"
  },
  "toc": {
   "base_numbering": 1,
   "nav_menu": {},
   "number_sections": true,
   "sideBar": true,
   "skip_h1_title": false,
   "title_cell": "Table of Contents",
   "title_sidebar": "Contents",
   "toc_cell": false,
   "toc_position": {},
   "toc_section_display": true,
   "toc_window_display": true
  }
 },
 "nbformat": 4,
 "nbformat_minor": 5
}
